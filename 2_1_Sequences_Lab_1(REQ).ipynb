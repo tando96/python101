{
  "nbformat": 4,
  "nbformat_minor": 0,
  "metadata": {
    "colab": {
      "provenance": [],
      "collapsed_sections": [
        "Mxmf8buZHb_i",
        "SUA6ti1r_i2U",
        "oxoFSm_MFOB9",
        "u5S1Df0wFXkf",
        "K43eF8MOPe7V",
        "ypMRnWh5QH37",
        "AXnHOvyqQm8O",
        "KDoGryXlRTqp"
      ],
      "include_colab_link": true
    },
    "kernelspec": {
      "name": "python3",
      "display_name": "Python 3"
    }
  },
  "cells": [
    {
      "cell_type": "markdown",
      "metadata": {
        "id": "view-in-github",
        "colab_type": "text"
      },
      "source": [
        "<a href=\"https://colab.research.google.com/github/tando96/python101/blob/main/2_1_Sequences_Lab_1(REQ).ipynb\" target=\"_parent\"><img src=\"https://colab.research.google.com/assets/colab-badge.svg\" alt=\"Open In Colab\"/></a>"
      ]
    },
    {
      "cell_type": "markdown",
      "metadata": {
        "id": "zOC9UNC3g71V"
      },
      "source": [
        "![](https://i.imgur.com/0AUxkXt.png)"
      ]
    },
    {
      "cell_type": "markdown",
      "source": [
        "If you don't remember the first step, please click [here](https://learn.coderschool.vn/path-player?courseid=dv-m11-basic-python&unit=dv-m11-basic-python_624537766805eUnit) to review the Lab Guide"
      ],
      "metadata": {
        "id": "dN_XdK7VEiC3"
      }
    },
    {
      "cell_type": "markdown",
      "metadata": {
        "id": "mg1B_Nm2RnCs"
      },
      "source": [
        "# **SEQUENCES LAB 1**\n",
        "\n",
        "![](https://opensource.com/sites/default/files/lead-images/python_programming_question.png)\n"
      ]
    },
    {
      "cell_type": "markdown",
      "metadata": {
        "id": "Mxmf8buZHb_i"
      },
      "source": [
        "## Our blue planet"
      ]
    },
    {
      "cell_type": "markdown",
      "source": [
        "Given a list of planets below. The elements are arranged such that the distance between the element and the Sun is in ascending order. This means that the first element in the list is the closest to the Sun while the last is the furthest.\n",
        "\n",
        "Print out the third closest planet to the Sun."
      ],
      "metadata": {
        "id": "kYOwz98xOWAM"
      }
    },
    {
      "cell_type": "code",
      "metadata": {
        "id": "ZKW5lkvhHZBw",
        "outputId": "0a0d2cb7-388d-4e6a-ee5a-9d2488795c67",
        "colab": {
          "base_uri": "https://localhost:8080/"
        }
      },
      "source": [
        "planets = ['Mercury', 'Venus', 'Earth', 'Mars', 'Jupiter', 'Saturn', 'Uranus', 'Neptune']\n",
        "\n",
        "# YOUR CODE HERE\n",
        "print(planets[2])"
      ],
      "execution_count": 14,
      "outputs": [
        {
          "output_type": "stream",
          "name": "stdout",
          "text": [
            "Earth\n"
          ]
        }
      ]
    },
    {
      "cell_type": "markdown",
      "metadata": {
        "id": "SUA6ti1r_i2U"
      },
      "source": [
        "## Not Pluto"
      ]
    },
    {
      "cell_type": "markdown",
      "source": [
        "Print out the furthest planet away from the Sun by using a negative index.\n",
        "\n",
        "Reuse your list of planets from above."
      ],
      "metadata": {
        "id": "hEW3ANvwOaLn"
      }
    },
    {
      "cell_type": "code",
      "metadata": {
        "id": "pzo-tBuIACH3",
        "outputId": "b89965f5-9711-4ab8-cb89-4ea028aebc69",
        "colab": {
          "base_uri": "https://localhost:8080/"
        }
      },
      "source": [
        "# YOUR CODE HERE\n",
        "print(planets[-1])\n"
      ],
      "execution_count": 2,
      "outputs": [
        {
          "output_type": "stream",
          "name": "stdout",
          "text": [
            "Neptune\n"
          ]
        }
      ]
    },
    {
      "cell_type": "markdown",
      "metadata": {
        "id": "oxoFSm_MFOB9"
      },
      "source": [
        "## Close neighbors"
      ]
    },
    {
      "cell_type": "markdown",
      "source": [
        "Print out the list of planets that are closer to the Sun compared to Earth.\n",
        "\n",
        "```python\n",
        "['Mercury', 'Venus']  # output\n",
        "```\n",
        "\n",
        "Reuse your list of planets from above."
      ],
      "metadata": {
        "id": "VAE_M-1SOk8K"
      }
    },
    {
      "cell_type": "code",
      "metadata": {
        "id": "qhyCYZAnFOB-",
        "outputId": "7f2519f8-0f62-4c7f-f85a-664397c867f2",
        "colab": {
          "base_uri": "https://localhost:8080/"
        }
      },
      "source": [
        "# YOUR CODE HERE\n",
        "print(planets[:2])"
      ],
      "execution_count": 3,
      "outputs": [
        {
          "output_type": "stream",
          "name": "stdout",
          "text": [
            "['Mercury', 'Venus']\n"
          ]
        }
      ]
    },
    {
      "cell_type": "markdown",
      "metadata": {
        "id": "u5S1Df0wFXkf"
      },
      "source": [
        "## Far neighbors"
      ]
    },
    {
      "cell_type": "markdown",
      "source": [
        "Print out the list of planets that are further away from the Sun compared to Earth (excluding Earth itself) in order from furthest to closest.\n",
        "\n",
        "```python\n",
        "['Neptune', 'Uranus', 'Saturn', 'Jupiter', 'Mars']  # output\n",
        "```\n",
        "\n",
        "Reuse your list of planets from above."
      ],
      "metadata": {
        "id": "_zJ02X-AO2hK"
      }
    },
    {
      "cell_type": "code",
      "metadata": {
        "id": "dMdC4_3YFXkg",
        "outputId": "ff4e8c9e-fb3b-49d6-9357-b223b2bf801d",
        "colab": {
          "base_uri": "https://localhost:8080/"
        }
      },
      "source": [
        "# YOUR CODE HERE\n",
        "print(planets[2:])"
      ],
      "execution_count": 4,
      "outputs": [
        {
          "output_type": "stream",
          "name": "stdout",
          "text": [
            "['Earth', 'Mars', 'Jupiter', 'Saturn', 'Uranus', 'Neptune']\n"
          ]
        }
      ]
    },
    {
      "cell_type": "markdown",
      "metadata": {
        "id": "K43eF8MOPe7V"
      },
      "source": [
        "## A new planet?"
      ]
    },
    {
      "cell_type": "markdown",
      "source": [
        "In 1930, scientists discovered Pluto to be the ninth planet in our solar system. Let's add it to our list.\n",
        "\n",
        "Given the list of planets like before, modify it so that it contains 'Pluto' as the furthest planet from the Sun.\n",
        "\n",
        "Reuse your list of planets from above."
      ],
      "metadata": {
        "id": "iWmOxy4sOoR6"
      }
    },
    {
      "cell_type": "code",
      "metadata": {
        "id": "auZuLpJCPe7d",
        "outputId": "3e95417c-f886-4f8f-ed06-683fb065a48d",
        "colab": {
          "base_uri": "https://localhost:8080/"
        }
      },
      "source": [
        "print('Before 1930:', planets)\n",
        "\n",
        "# YOUR CODE HERE\n",
        "new_planets = \"Pluto\"\n",
        "planets.append(new_planets)\n",
        "print('After 1930: ', planets)"
      ],
      "execution_count": 15,
      "outputs": [
        {
          "output_type": "stream",
          "name": "stdout",
          "text": [
            "Before 1930: ['Mercury', 'Venus', 'Earth', 'Mars', 'Jupiter', 'Saturn', 'Uranus', 'Neptune']\n",
            "After 1930:  ['Mercury', 'Venus', 'Earth', 'Mars', 'Jupiter', 'Saturn', 'Uranus', 'Neptune', 'Pluto']\n"
          ]
        }
      ]
    },
    {
      "cell_type": "markdown",
      "metadata": {
        "id": "ypMRnWh5QH37"
      },
      "source": [
        "## The middle planet"
      ]
    },
    {
      "cell_type": "markdown",
      "source": [
        "Using the list of planets that we've just modified to contain Pluto, print out the middle planet. It should be Jupiter.\n",
        "\n",
        "Your solution should also work for a list of any length, not just this one.\n",
        "\n",
        "Reuse your list of planets from above."
      ],
      "metadata": {
        "id": "Q979qzfqOqPv"
      }
    },
    {
      "cell_type": "code",
      "metadata": {
        "id": "fjmd5VoeQH38",
        "outputId": "fc3b551d-51b2-4870-df60-2eecf617367c",
        "colab": {
          "base_uri": "https://localhost:8080/"
        }
      },
      "source": [
        "# YOUR CODE HERE\n",
        "a = round(len(planets) / 2)\n",
        "\n",
        "print(planets[a])"
      ],
      "execution_count": 17,
      "outputs": [
        {
          "output_type": "stream",
          "name": "stdout",
          "text": [
            "Jupiter\n"
          ]
        }
      ]
    },
    {
      "cell_type": "markdown",
      "metadata": {
        "id": "AXnHOvyqQm8O"
      },
      "source": [
        "## Planet names in order"
      ]
    },
    {
      "cell_type": "markdown",
      "source": [
        "Use [`sorted()`](https://www.w3schools.com/python/ref_func_sorted.asp) to rearrange the names in the list of planets containing Pluto following the alphabetical order.\n",
        "\n",
        "Your solution should not modify the list of planets, but instead, create a new one.\n",
        "\n",
        "Reuse your list of planets from above.\n",
        "\n",
        "```python\n",
        ">> Before sorted: ['Mercury', 'Venus', 'Earth', 'Mars', 'Jupiter', 'Saturn', 'Uranus', 'Neptune'] #output\n",
        ">> After sorted:  ['Earth', 'Jupiter', 'Mars', 'Mercury', 'Neptune', 'Saturn', 'Uranus', 'Venus'] #output\n",
        "```"
      ],
      "metadata": {
        "id": "9OAKZCMaOsYu"
      }
    },
    {
      "cell_type": "code",
      "metadata": {
        "id": "PbcXD5TaQm8P",
        "outputId": "8fc5a696-0ddb-47a3-d5a1-eead1be420f1",
        "colab": {
          "base_uri": "https://localhost:8080/"
        }
      },
      "source": [
        "# YOUR CODE HERE\n",
        "print(f\"Before sorted: {planets}\")\n",
        "\n",
        "x = sorted(planets)\n",
        "\n",
        "print(f\"After sorted: {x}\")"
      ],
      "execution_count": 18,
      "outputs": [
        {
          "output_type": "stream",
          "name": "stdout",
          "text": [
            "Before sorted: ['Mercury', 'Venus', 'Earth', 'Mars', 'Jupiter', 'Saturn', 'Uranus', 'Neptune', 'Pluto']\n",
            "After sorted: ['Earth', 'Jupiter', 'Mars', 'Mercury', 'Neptune', 'Pluto', 'Saturn', 'Uranus', 'Venus']\n"
          ]
        }
      ]
    },
    {
      "cell_type": "markdown",
      "metadata": {
        "id": "KDoGryXlRTqp"
      },
      "source": [
        "## Goodbye, Pluto"
      ]
    },
    {
      "cell_type": "markdown",
      "source": [
        "In 2006, scientists officially reclassified Pluto to no longer be a planet. We need to update the list to reflect this unfortunate change.\n",
        "\n",
        "Use [`list.pop()`](https://www.w3schools.com/python/ref_list_pop.asp) to modify and print out `planets` so that it no longer contains 'Pluto'.\n",
        "\n",
        "Reuse your list of planets from above."
      ],
      "metadata": {
        "id": "Tmc4i5e5Ou0c"
      }
    },
    {
      "cell_type": "code",
      "metadata": {
        "id": "fp-8IsmtRTqp",
        "outputId": "fcc99601-40cb-46c2-81e7-2648e8bddbab",
        "colab": {
          "base_uri": "https://localhost:8080/"
        }
      },
      "source": [
        "print('Before 2006:', planets)\n",
        "\n",
        "# YOUR CODE HERE\n",
        "planets.pop(-1)\n",
        "print('After 2006: ', planets)"
      ],
      "execution_count": 19,
      "outputs": [
        {
          "output_type": "stream",
          "name": "stdout",
          "text": [
            "Before 2006: ['Mercury', 'Venus', 'Earth', 'Mars', 'Jupiter', 'Saturn', 'Uranus', 'Neptune', 'Pluto']\n",
            "After 2006:  ['Mercury', 'Venus', 'Earth', 'Mars', 'Jupiter', 'Saturn', 'Uranus', 'Neptune']\n"
          ]
        }
      ]
    }
  ]
}