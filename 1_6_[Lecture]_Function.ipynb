{
  "nbformat": 4,
  "nbformat_minor": 0,
  "metadata": {
    "colab": {
      "provenance": [],
      "collapsed_sections": [
        "9FKYAHkDbj23"
      ],
      "include_colab_link": true
    },
    "kernelspec": {
      "name": "python3",
      "display_name": "Python 3"
    },
    "language_info": {
      "name": "python"
    }
  },
  "cells": [
    {
      "cell_type": "markdown",
      "metadata": {
        "id": "view-in-github",
        "colab_type": "text"
      },
      "source": [
        "<a href=\"https://colab.research.google.com/github/tando96/python101/blob/main/1_6_%5BLecture%5D_Function.ipynb\" target=\"_parent\"><img src=\"https://colab.research.google.com/assets/colab-badge.svg\" alt=\"Open In Colab\"/></a>"
      ]
    },
    {
      "cell_type": "markdown",
      "metadata": {
        "id": "O5UoTJXE2zna"
      },
      "source": [
        "<img src=https://files.realpython.com/media/Defining-Your-Own-Python-Function_Watermarked.d5b07e88ece4.jpg />"
      ]
    },
    {
      "cell_type": "markdown",
      "metadata": {
        "id": "Y5gX2DMEoqnd"
      },
      "source": [
        "# FUNCTION"
      ]
    },
    {
      "cell_type": "markdown",
      "metadata": {
        "id": "73a9GqNvSz7T"
      },
      "source": [
        "In programming, as we start to write bigger and more complex programs, one thing we will start to notice is we will often have to repeat the same set of steps in many different places in our program. And that's when function comes in handy.\n",
        "\n",
        "Like loops and conditionals, *code inside a function must be indented* to show that they are part of the function."
      ]
    },
    {
      "cell_type": "markdown",
      "metadata": {
        "id": "9FKYAHkDbj23"
      },
      "source": [
        "## DEFINE & CALL\n",
        "Let's start by writing a function to **subtract two number**. First we need to ***define*** it.\n",
        "\n",
        "Note that the function content is *indented*. Also, running the cell *does not print anything* because this is just a definition."
      ]
    },
    {
      "cell_type": "code",
      "metadata": {
        "id": "7VVCI3_KrqbF"
      },
      "source": [
        "def subtract(a, b):\n",
        "    result = a - b\n",
        "    print(result)"
      ],
      "execution_count": 1,
      "outputs": []
    },
    {
      "cell_type": "markdown",
      "metadata": {
        "id": "UDgrmrWzdZid"
      },
      "source": [
        "Now, we call (or *execute*) the function"
      ]
    },
    {
      "cell_type": "code",
      "metadata": {
        "id": "waJU-u5EcqDB",
        "colab": {
          "base_uri": "https://localhost:8080/"
        },
        "outputId": "edb8bf2d-ac45-4fcb-c720-388a16ca64e3"
      },
      "source": [
        "subtract(7, 10)"
      ],
      "execution_count": 2,
      "outputs": [
        {
          "output_type": "stream",
          "name": "stdout",
          "text": [
            "-3\n"
          ]
        }
      ]
    },
    {
      "cell_type": "markdown",
      "metadata": {
        "id": "8b4FtMX6qUhI"
      },
      "source": [
        "## ARGUMENTS"
      ]
    },
    {
      "cell_type": "markdown",
      "metadata": {
        "id": "RGaC9AVeqcpu"
      },
      "source": [
        "Information can be passed into functions as arguments.\n",
        "\n",
        "Arguments are specified after the function name, inside the parentheses. You can add as many arguments as you want, just separate them with a comma.\n",
        "\n",
        "The following example has a function with two argument: name and age"
      ]
    },
    {
      "cell_type": "code",
      "metadata": {
        "id": "YRUkeH8Pqh-y",
        "colab": {
          "base_uri": "https://localhost:8080/"
        },
        "outputId": "d02a3f01-6000-4427-815f-3857749c4938"
      },
      "source": [
        "def upgrade(name, age):\n",
        "    print(f\"{name} is {age} years old!\")\n",
        "\n",
        "\n",
        "upgrade(\"Ti\", 5)\n",
        "upgrade(\"Teo\", 4)\n",
        "upgrade(\"Tun\", 3)"
      ],
      "execution_count": 3,
      "outputs": [
        {
          "output_type": "stream",
          "name": "stdout",
          "text": [
            "Ti is 5 years old!\n",
            "Teo is 4 years old!\n",
            "Tun is 3 years old!\n"
          ]
        }
      ]
    },
    {
      "cell_type": "markdown",
      "metadata": {
        "id": "KIlwozmHscg4"
      },
      "source": [
        "**Keyword Arguments**"
      ]
    },
    {
      "cell_type": "markdown",
      "metadata": {
        "id": "Ol8prW3xtI22"
      },
      "source": [
        "You can also send arguments with the `key = value` syntax.\n",
        "\n",
        "This way the order of the arguments does not matter."
      ]
    },
    {
      "cell_type": "code",
      "metadata": {
        "id": "oxyit59ks9S0",
        "colab": {
          "base_uri": "https://localhost:8080/"
        },
        "outputId": "364524c0-d6d6-4c2b-b109-09675108c016"
      },
      "source": [
        "def my_child(child1, child2, child3):\n",
        "    print(\"The third child is \" + child3)\n",
        "\n",
        "\n",
        "my_child(child3=\"Tun\", child2=\"Teo\", child1=\"Ti\")"
      ],
      "execution_count": 4,
      "outputs": [
        {
          "output_type": "stream",
          "name": "stdout",
          "text": [
            "The third child is Tun\n"
          ]
        }
      ]
    },
    {
      "cell_type": "markdown",
      "metadata": {
        "id": "5MFdsf7jt5Q9"
      },
      "source": [
        "**Default Parameter Value**"
      ]
    },
    {
      "cell_type": "markdown",
      "metadata": {
        "id": "tTKoTVpQuLJo"
      },
      "source": [
        "The following example shows how to use a default parameter value.\n",
        "\n",
        "If we call the function without argument, it uses the default value:"
      ]
    },
    {
      "cell_type": "code",
      "metadata": {
        "id": "kanrUJkDuAn-",
        "colab": {
          "base_uri": "https://localhost:8080/"
        },
        "outputId": "71bc82b4-22b4-474a-d4dd-b09dbee4e859"
      },
      "source": [
        "def my_country(country=\"Vietnam\"):\n",
        "    print(\"I am from \" + country)\n",
        "\n",
        "\n",
        "my_country(\"US\")\n",
        "my_country(\"Sweden\")\n",
        "my_country()\n",
        "my_country(\"Japan\")"
      ],
      "execution_count": 5,
      "outputs": [
        {
          "output_type": "stream",
          "name": "stdout",
          "text": [
            "I am from US\n",
            "I am from Sweden\n",
            "I am from Vietnam\n",
            "I am from Japan\n"
          ]
        }
      ]
    },
    {
      "cell_type": "markdown",
      "metadata": {
        "id": "DRAPAYoguT4O"
      },
      "source": [
        "**Passing a List as an Argument**"
      ]
    },
    {
      "cell_type": "markdown",
      "metadata": {
        "id": "nOqPrHnkuZoU"
      },
      "source": [
        "You can send any data types of argument to a function (string, number, list, dictionary etc.), and it will be treated as the same data type inside the function.\n",
        "\n",
        "For example, if you send a List as an argument, it will still be a List when it reaches the function:"
      ]
    },
    {
      "cell_type": "code",
      "metadata": {
        "id": "4tXGrqBVufHn",
        "colab": {
          "base_uri": "https://localhost:8080/"
        },
        "outputId": "02134b23-6ead-4e97-8d54-a54003f5b764"
      },
      "source": [
        "def my_menu(food):\n",
        "    for x in food:\n",
        "        print(x)\n",
        "\n",
        "\n",
        "fruits = [\"apple\", \"banana\", \"cherry\"]\n",
        "\n",
        "my_menu(fruits)"
      ],
      "execution_count": 6,
      "outputs": [
        {
          "output_type": "stream",
          "name": "stdout",
          "text": [
            "apple\n",
            "banana\n",
            "cherry\n"
          ]
        }
      ]
    },
    {
      "cell_type": "markdown",
      "source": [
        "**Mutable vs. Immutable objects**"
      ],
      "metadata": {
        "id": "8t_Yr3Q8zP3Y"
      }
    },
    {
      "cell_type": "markdown",
      "source": [
        "An object whose **internal state can NOT be changed** is immutable. For example: numbers, strings, tuple.\n",
        "\n",
        "`b = a` means b is now a ***copy*** of a"
      ],
      "metadata": {
        "id": "OiSkS-UF08kt"
      }
    },
    {
      "cell_type": "code",
      "source": [
        "a = 5\n",
        "b = a\n",
        "b += 1\n",
        "\n",
        "print(a, b)"
      ],
      "metadata": {
        "colab": {
          "base_uri": "https://localhost:8080/"
        },
        "id": "lOzzEzGbzYfa",
        "outputId": "a74d5d5f-230d-4c62-f3fc-759b5b98217a"
      },
      "execution_count": 7,
      "outputs": [
        {
          "output_type": "stream",
          "name": "stdout",
          "text": [
            "5 6\n"
          ]
        }
      ]
    },
    {
      "cell_type": "code",
      "source": [
        "def increase_by_1(a):  # a is now a COPY of x\n",
        "    a += 1\n",
        "    print(a)\n",
        "\n",
        "\n",
        "x = 5\n",
        "increase_by_1(x)\n",
        "print(x)"
      ],
      "metadata": {
        "colab": {
          "base_uri": "https://localhost:8080/"
        },
        "id": "SSa6-Ns_2Xpm",
        "outputId": "f3664b87-1805-4865-8714-9362e2d84638"
      },
      "execution_count": 8,
      "outputs": [
        {
          "output_type": "stream",
          "name": "stdout",
          "text": [
            "6\n",
            "5\n"
          ]
        }
      ]
    },
    {
      "cell_type": "markdown",
      "source": [
        "An object whose **internal state can be changed** is mutable. For example: list, set, dictionaries.\n",
        "\n",
        "`b = a` means b is now a ***shortcut*** to a"
      ],
      "metadata": {
        "id": "0clfjLpk1iqC"
      }
    },
    {
      "cell_type": "code",
      "source": [
        "a = [1, 2, 3]\n",
        "b = a\n",
        "b[0] = 10\n",
        "\n",
        "print(a, b)"
      ],
      "metadata": {
        "colab": {
          "base_uri": "https://localhost:8080/"
        },
        "id": "y4Q-rsHSzmMy",
        "outputId": "270e9068-af0d-43ad-f653-9e968251235c"
      },
      "execution_count": 9,
      "outputs": [
        {
          "output_type": "stream",
          "name": "stdout",
          "text": [
            "[10, 2, 3] [10, 2, 3]\n"
          ]
        }
      ]
    },
    {
      "cell_type": "code",
      "source": [
        "def my_menu(food):  # food is now a SHORTCUT of fruits\n",
        "    food[0] = \"LEMON\"\n",
        "\n",
        "\n",
        "fruits = [\"apple\", \"banana\", \"cherry\"]\n",
        "\n",
        "my_menu(fruits)\n",
        "print(fruits)"
      ],
      "metadata": {
        "colab": {
          "base_uri": "https://localhost:8080/"
        },
        "id": "3fyxBP151Isq",
        "outputId": "6e37b864-961c-4284-f0c0-ef100ac5ae45"
      },
      "execution_count": 10,
      "outputs": [
        {
          "output_type": "stream",
          "name": "stdout",
          "text": [
            "['LEMON', 'banana', 'cherry']\n"
          ]
        }
      ]
    },
    {
      "cell_type": "markdown",
      "metadata": {
        "id": "zXFvAtENexsO"
      },
      "source": [
        "## RETURN"
      ]
    },
    {
      "cell_type": "markdown",
      "metadata": {
        "id": "0WYKFr-QeJgc"
      },
      "source": [
        "In programming we have two types of functions"
      ]
    },
    {
      "cell_type": "markdown",
      "source": [
        "Functions that perform a task"
      ],
      "metadata": {
        "id": "HGjbQ6CL3Jgs"
      }
    },
    {
      "cell_type": "code",
      "source": [
        "def greet(name):\n",
        "    print(f\"Hi {name}\")"
      ],
      "metadata": {
        "id": "Yyqa0CNP2zAF"
      },
      "execution_count": 11,
      "outputs": []
    },
    {
      "cell_type": "markdown",
      "source": [
        "Functions that return a value."
      ],
      "metadata": {
        "id": "ZyHFyaLL3NIe"
      }
    },
    {
      "cell_type": "code",
      "source": [
        "x = round(0.9)\n",
        "x"
      ],
      "metadata": {
        "colab": {
          "base_uri": "https://localhost:8080/"
        },
        "id": "hD98ypTK2_cz",
        "outputId": "bf3a7b23-7f28-4701-a4ca-f98edf983f39"
      },
      "execution_count": 12,
      "outputs": [
        {
          "output_type": "execute_result",
          "data": {
            "text/plain": [
              "1"
            ]
          },
          "metadata": {},
          "execution_count": 12
        }
      ]
    },
    {
      "cell_type": "markdown",
      "metadata": {
        "id": "hV2wSLyFv-mm"
      },
      "source": [
        "To write our own function that can return a value, we use the `return` statement"
      ]
    },
    {
      "cell_type": "code",
      "metadata": {
        "id": "LHdd0Nyru_ip",
        "colab": {
          "base_uri": "https://localhost:8080/"
        },
        "outputId": "29aa4860-a5b1-4398-8c5b-175017aed378"
      },
      "source": [
        "def process(a, b):\n",
        "    result = (a + b) * 2\n",
        "    return result\n",
        "\n",
        "\n",
        "x = process(2, 3)\n",
        "print(x)"
      ],
      "execution_count": 13,
      "outputs": [
        {
          "output_type": "stream",
          "name": "stdout",
          "text": [
            "10\n"
          ]
        }
      ]
    },
    {
      "cell_type": "markdown",
      "metadata": {
        "id": "khrzA0ZTVW8o"
      },
      "source": [
        "🏃🏻‍♂️ **Mini Excercise 1**: Write a function that takes two numbers and *return* the bigger one\n"
      ]
    },
    {
      "cell_type": "code",
      "metadata": {
        "id": "SqxM85HqosW0",
        "outputId": "fb4330cb-4eb1-4faf-90a2-8697009e30f5",
        "colab": {
          "base_uri": "https://localhost:8080/"
        }
      },
      "source": [
        "def bigger_num(a, b):\n",
        "    # YOUR CODE HERE\n",
        "    if a > b:\n",
        "      return a\n",
        "    else:\n",
        "      return b\n",
        "\n",
        "c=bigger_num(1,10)\n",
        "print(c)"
      ],
      "execution_count": 15,
      "outputs": [
        {
          "output_type": "stream",
          "name": "stdout",
          "text": [
            "10\n"
          ]
        }
      ]
    },
    {
      "cell_type": "markdown",
      "metadata": {
        "id": "EIqBCr3gVd51"
      },
      "source": [
        "🏃🏻‍♂️ **Mini Exercise 2**: Write a function that take three numbers and *return* the least of them\n"
      ]
    },
    {
      "cell_type": "code",
      "metadata": {
        "id": "f2GS7xMDplhb",
        "outputId": "60d52f8f-7d5d-4b07-f3ed-749fa3929d4a",
        "colab": {
          "base_uri": "https://localhost:8080/"
        }
      },
      "source": [
        "def min_of_three(a, b, c):\n",
        "    # YOUR CODE HERE\n",
        "    if a < b and a < c :\n",
        "      return a\n",
        "    elif b < a and b < c:\n",
        "      return b\n",
        "    else:\n",
        "      return c\n",
        "\n",
        "d = min_of_three(1,2,3)\n",
        "print(d)\n"
      ],
      "execution_count": 17,
      "outputs": [
        {
          "output_type": "stream",
          "name": "stdout",
          "text": [
            "1\n"
          ]
        }
      ]
    },
    {
      "cell_type": "markdown",
      "metadata": {
        "id": "wOwWvsaRVme9"
      },
      "source": [
        "🏃🏻‍♂️ **Mini Exercise 3**\n",
        "\n",
        "A palindrome is a word, phrase, or sequence that **reads the same backward as forward**, e.g., madam.\n",
        "\n",
        "Write a function that checks whether a passed string is palindrome or not.\n",
        "\n",
        "*Hint*: using string reverse and return True/False\n"
      ]
    },
    {
      "cell_type": "code",
      "metadata": {
        "id": "nj-dIIKWzOoq",
        "outputId": "22fbbadd-4b71-4333-f2e4-61cce44e3f96",
        "colab": {
          "base_uri": "https://localhost:8080/"
        }
      },
      "source": [
        "def palindrome(my_string):\n",
        "    # YOUR CODE HERE\n",
        "    if my_string == my_string[::-1]:\n",
        "      return True\n",
        "    else:\n",
        "      return False\n",
        "\n",
        "palindrome(\"madam\")"
      ],
      "execution_count": 18,
      "outputs": [
        {
          "output_type": "execute_result",
          "data": {
            "text/plain": [
              "True"
            ]
          },
          "metadata": {},
          "execution_count": 18
        }
      ]
    },
    {
      "cell_type": "markdown",
      "metadata": {
        "id": "Kt2ZUH5Egu8I"
      },
      "source": [
        "🌟 **Return multiple values**"
      ]
    },
    {
      "cell_type": "code",
      "source": [
        "def multi_return(x):\n",
        "    double = x * 2\n",
        "    half = x / 2\n",
        "    pw2 = x**2\n",
        "    return double, half, pw2\n",
        "\n",
        "\n",
        "x1, x2, x3 = multi_return(3)\n",
        "print(x1, x2, x3)"
      ],
      "metadata": {
        "colab": {
          "base_uri": "https://localhost:8080/"
        },
        "id": "-J77lXKh-uQ2",
        "outputId": "2d195fa5-02d0-4e31-83ea-c32f11543257"
      },
      "execution_count": 19,
      "outputs": [
        {
          "output_type": "stream",
          "name": "stdout",
          "text": [
            "6 1.5 9\n"
          ]
        }
      ]
    },
    {
      "cell_type": "markdown",
      "source": [
        "## GLOBAL & LOCAL VARIABLES"
      ],
      "metadata": {
        "id": "ns-0MeiqiUno"
      }
    },
    {
      "cell_type": "code",
      "source": [
        "# Global variable\n",
        "vip = 0.01\n",
        "long_term = 0.01\n",
        "\n",
        "\n",
        "def interest_rate(amount, period):\n",
        "    # local variable\n",
        "    base_rate = 0.05\n",
        "    print(\"Base rate\", base_rate)\n",
        "\n",
        "    if period < 12:\n",
        "        rate = base_rate\n",
        "    else:\n",
        "        if amount < 10:\n",
        "            rate = base_rate + long_term\n",
        "        else:\n",
        "            rate = base_rate + long_term + vip\n",
        "\n",
        "    return rate"
      ],
      "metadata": {
        "id": "bzUX4S7yiFT7"
      },
      "execution_count": 20,
      "outputs": []
    },
    {
      "cell_type": "code",
      "source": [
        "print(vip, long_term)"
      ],
      "metadata": {
        "colab": {
          "base_uri": "https://localhost:8080/"
        },
        "id": "SynJOF_iBrKO",
        "outputId": "b95cf55f-e705-4352-bc42-788fe8deae30"
      },
      "execution_count": 21,
      "outputs": [
        {
          "output_type": "stream",
          "name": "stdout",
          "text": [
            "0.01 0.01\n"
          ]
        }
      ]
    },
    {
      "cell_type": "code",
      "source": [
        "print(base_rate)"
      ],
      "metadata": {
        "colab": {
          "base_uri": "https://localhost:8080/",
          "height": 168
        },
        "id": "0A7wEbZaSMYM",
        "outputId": "3c18065a-aeb1-4ca7-b61e-5b76577c21f6"
      },
      "execution_count": null,
      "outputs": [
        {
          "output_type": "error",
          "ename": "NameError",
          "evalue": "ignored",
          "traceback": [
            "\u001b[0;31m---------------------------------------------------------------------------\u001b[0m",
            "\u001b[0;31mNameError\u001b[0m                                 Traceback (most recent call last)",
            "\u001b[0;32m<ipython-input-20-abb4c111314e>\u001b[0m in \u001b[0;36m<module>\u001b[0;34m()\u001b[0m\n\u001b[0;32m----> 1\u001b[0;31m \u001b[0mprint\u001b[0m\u001b[0;34m(\u001b[0m\u001b[0mbase_rate\u001b[0m\u001b[0;34m)\u001b[0m\u001b[0;34m\u001b[0m\u001b[0;34m\u001b[0m\u001b[0m\n\u001b[0m",
            "\u001b[0;31mNameError\u001b[0m: name 'base_rate' is not defined"
          ]
        }
      ]
    },
    {
      "cell_type": "code",
      "source": [
        "result = interest_rate(20, 14)\n",
        "print(result)"
      ],
      "metadata": {
        "id": "9-tvRb7GjVPG",
        "colab": {
          "base_uri": "https://localhost:8080/"
        },
        "outputId": "cc1a3e0b-c689-417f-b5d2-55642cc84599"
      },
      "execution_count": 22,
      "outputs": [
        {
          "output_type": "stream",
          "name": "stdout",
          "text": [
            "Base rate 0.05\n",
            "0.07\n"
          ]
        }
      ]
    },
    {
      "cell_type": "markdown",
      "source": [
        "Since local and global variables are in different \"worlds\", we can have duplicate names"
      ],
      "metadata": {
        "id": "YSL1zuBHHTwl"
      }
    },
    {
      "cell_type": "code",
      "source": [
        "def increase_by_one(a):\n",
        "    x = 1\n",
        "    print(x)\n",
        "    return a + x\n",
        "\n",
        "\n",
        "x = 5\n",
        "increase_by_one(x)\n",
        "print(x)"
      ],
      "metadata": {
        "colab": {
          "base_uri": "https://localhost:8080/"
        },
        "id": "PD5JKlQfHqR5",
        "outputId": "fef2d342-20f0-4038-9f7e-04672512d3aa"
      },
      "execution_count": null,
      "outputs": [
        {
          "output_type": "stream",
          "name": "stdout",
          "text": [
            "1\n",
            "5\n"
          ]
        }
      ]
    },
    {
      "cell_type": "code",
      "source": [
        "def multi_return(x):\n",
        "    double = x * 2\n",
        "    half = x / 2\n",
        "    pw2 = x**2\n",
        "    return double, half, pw2\n",
        "\n",
        "\n",
        "x = 3\n",
        "double, half, pw2 = multi_return(x)\n",
        "print(double, half, pw2)"
      ],
      "metadata": {
        "colab": {
          "base_uri": "https://localhost:8080/"
        },
        "id": "vRpCdiE8HZUs",
        "outputId": "fdf22521-e4f7-465c-dd8d-61f59a46745f"
      },
      "execution_count": null,
      "outputs": [
        {
          "output_type": "stream",
          "name": "stdout",
          "text": [
            "6 1.5 9\n"
          ]
        }
      ]
    },
    {
      "cell_type": "markdown",
      "metadata": {
        "id": "5rva7jV-ieZg"
      },
      "source": [
        "## NESTED FUNCTIONS"
      ]
    },
    {
      "cell_type": "code",
      "metadata": {
        "id": "SddNyke7jA2b"
      },
      "source": [
        "def greetings(bank_name):\n",
        "    print(\"Hello Sir/Madam,\")\n",
        "    print(f\"Welcome to {bank_name}!\")\n",
        "\n",
        "\n",
        "# MAIN FUNCTION\n",
        "def my_ebanking(bank_name, customer_name, amount, period):\n",
        "    greetings(bank_name)\n",
        "    my_rate = interest_rate(amount, period)\n",
        "    print(f\"Dear {customer_name}, your interest rate will be {my_rate}\")"
      ],
      "execution_count": 23,
      "outputs": []
    },
    {
      "cell_type": "code",
      "metadata": {
        "id": "T038PJ1Plspd",
        "colab": {
          "base_uri": "https://localhost:8080/"
        },
        "outputId": "3e80483f-ffa8-434d-9722-dd8ebd308f31"
      },
      "source": [
        "my_ebanking(\"Amazing Bank\", \"Mr. Awesome\", 15, 24)"
      ],
      "execution_count": 24,
      "outputs": [
        {
          "output_type": "stream",
          "name": "stdout",
          "text": [
            "Hello Sir/Madam,\n",
            "Welcome to Amazing Bank!\n",
            "Base rate 0.05\n",
            "Dear Mr. Awesome, your interest rate will be 0.07\n"
          ]
        }
      ]
    },
    {
      "cell_type": "markdown",
      "source": [
        "We can also define a function within a function"
      ],
      "metadata": {
        "id": "-SIwSOKwm0h0"
      }
    },
    {
      "cell_type": "code",
      "metadata": {
        "id": "eijLiZVpnjN4"
      },
      "source": [
        "def my_ebanking_2(bank_name, customer_name, amount, period):\n",
        "    def greetings_2(bank_name):  # local function\n",
        "        print(\"Hello Sir/Madam!\")\n",
        "        print(f\"Welcome to {bank_name}!\")\n",
        "\n",
        "    def interest_rate_2(amount, period):  # local function\n",
        "        # local variable\n",
        "        base_rate = 0.05\n",
        "\n",
        "        if period < 12:\n",
        "            rate = base_rate\n",
        "        else:\n",
        "            if amount < 10:\n",
        "                rate = base_rate + long_term\n",
        "            else:\n",
        "                rate = base_rate + long_term + vip\n",
        "\n",
        "        return rate\n",
        "\n",
        "    greetings_2(bank_name)\n",
        "    my_rate = interest_rate_2(amount, period)\n",
        "    print(f\"Dear {customer_name}, your interest rate will be {my_rate}\")"
      ],
      "execution_count": 25,
      "outputs": []
    },
    {
      "cell_type": "code",
      "metadata": {
        "id": "F0Gd4pTCnv4j",
        "colab": {
          "base_uri": "https://localhost:8080/"
        },
        "outputId": "cbc4891f-5c09-44fb-ffc2-5f7d3a3275e2"
      },
      "source": [
        "my_ebanking_2(\"Amazing Bank\", \"Mr. Awesome\", 15, 24)"
      ],
      "execution_count": null,
      "outputs": [
        {
          "output_type": "stream",
          "name": "stdout",
          "text": [
            "Hello Sir/Madam!\n",
            "Welcome to Amazing Bank!\n",
            "Dear Mr. Awesome, your interest rate will be 0.07\n"
          ]
        }
      ]
    },
    {
      "cell_type": "markdown",
      "source": [
        "Since `greetings_2()` is local function, we cannot access it globally"
      ],
      "metadata": {
        "id": "FyuCY6ULT4wB"
      }
    },
    {
      "cell_type": "code",
      "source": [
        "greetings_2(\"ABC bank\")"
      ],
      "metadata": {
        "colab": {
          "base_uri": "https://localhost:8080/",
          "height": 168
        },
        "id": "k-PV8kcvhOmS",
        "outputId": "e7ad949f-bae0-4da9-ad9f-2a0ad30faf86"
      },
      "execution_count": null,
      "outputs": [
        {
          "output_type": "error",
          "ename": "NameError",
          "evalue": "ignored",
          "traceback": [
            "\u001b[0;31m---------------------------------------------------------------------------\u001b[0m",
            "\u001b[0;31mNameError\u001b[0m                                 Traceback (most recent call last)",
            "\u001b[0;32m<ipython-input-29-097f94ce85f8>\u001b[0m in \u001b[0;36m<module>\u001b[0;34m()\u001b[0m\n\u001b[0;32m----> 1\u001b[0;31m \u001b[0mgreetings_2\u001b[0m\u001b[0;34m(\u001b[0m\u001b[0;34m\"ABC bank\"\u001b[0m\u001b[0;34m)\u001b[0m\u001b[0;34m\u001b[0m\u001b[0;34m\u001b[0m\u001b[0m\n\u001b[0m",
            "\u001b[0;31mNameError\u001b[0m: name 'greetings_2' is not defined"
          ]
        }
      ]
    },
    {
      "cell_type": "markdown",
      "metadata": {
        "id": "0ARYppXF1SNY"
      },
      "source": [
        "🌟 **`pass`**: function definitions cannot be empty, but if you for some reason have a function definition with no content, put in the **`pass`** statement to avoid getting an error."
      ]
    },
    {
      "cell_type": "code",
      "metadata": {
        "id": "Sj36IeeY1O04"
      },
      "source": [
        "def greetings_3(bank_name):\n",
        "    pass\n",
        "\n",
        "\n",
        "def interest_rate_3(customer_name, money):\n",
        "    pass\n",
        "\n",
        "\n",
        "def my_ebanking(bank_name, customer_name, money):\n",
        "    greetings_3(bank_name)\n",
        "    my_rate = interest_rate_3(customer_name, money)\n",
        "    print(f\"Dear {customer_name}, your interest rate will be {my_rate}\")"
      ],
      "execution_count": 26,
      "outputs": []
    },
    {
      "cell_type": "markdown",
      "source": [
        "## [Optional] Function with list comprehension"
      ],
      "metadata": {
        "id": "IRCWfBdjaxGq"
      }
    },
    {
      "cell_type": "markdown",
      "metadata": {
        "id": "EHxw5UgLOJS6"
      },
      "source": [
        "⭐️ List comprehensions combined with functions like `min`, `max`, and `sum` can lead to impressive one-line solutions for problems that would otherwise require several lines of code.\n",
        "\n",
        "For example, compare the following two cells of code that do the same thing.\n"
      ]
    },
    {
      "cell_type": "code",
      "metadata": {
        "id": "fEqB8VZsOHis"
      },
      "source": [
        "def count_negatives(nums):\n",
        "    \"\"\"Return the number of negative numbers in the given list.\n",
        "\n",
        "    >>> count_negatives([5, -1, -2, 0, 3])\n",
        "    2\n",
        "    \"\"\"\n",
        "    n_negative = 0\n",
        "    for num in nums:\n",
        "        if num < 0:\n",
        "            n_negative = n_negative + 1\n",
        "    return n_negative"
      ],
      "execution_count": null,
      "outputs": []
    },
    {
      "cell_type": "markdown",
      "metadata": {
        "id": "tsZEJD8CONgF"
      },
      "source": [
        "Here's a solution using a list comprehension:"
      ]
    },
    {
      "cell_type": "code",
      "metadata": {
        "id": "U3uPzuKSOLQy"
      },
      "source": [
        "def count_negatives(nums):\n",
        "    return len([num for num in nums if num < 0])"
      ],
      "execution_count": null,
      "outputs": []
    },
    {
      "cell_type": "markdown",
      "metadata": {
        "id": "qwRcCK--ORUR"
      },
      "source": [
        "Much better, right?\n",
        "\n",
        "Well if all we care about is minimizing the length of our code, this third solution is better still!"
      ]
    },
    {
      "cell_type": "markdown",
      "source": [
        "In Python, `True + True + False + True` is equal to 3. So, we can write:"
      ],
      "metadata": {
        "id": "C4Jwuxletnon"
      }
    },
    {
      "cell_type": "code",
      "metadata": {
        "id": "Xuu-Q-LnOPN9"
      },
      "source": [
        "def count_negatives(nums):\n",
        "    return sum([num < 0 for num in nums])"
      ],
      "execution_count": null,
      "outputs": []
    },
    {
      "cell_type": "markdown",
      "metadata": {
        "id": "ISh6TXqVOVxA"
      },
      "source": [
        "Which of these solutions is the \"best\" is entirely subjective. Solving a problem with less code is always nice, but it's worth keeping in mind the following lines from [The Zen of Python](https://en.wikipedia.org/wiki/Zen_of_Python):\n",
        "\n",
        "> Readability counts.  \n",
        "> Explicit is better than implicit.\n",
        "\n",
        "So, use these tools to make compact readable programs. But when you have to choose, favor code that is easy for others to understand."
      ]
    }
  ]
}