{
  "nbformat": 4,
  "nbformat_minor": 0,
  "metadata": {
    "colab": {
      "provenance": [],
      "include_colab_link": true
    },
    "kernelspec": {
      "name": "python3",
      "display_name": "Python 3"
    },
    "language_info": {
      "name": "python"
    }
  },
  "cells": [
    {
      "cell_type": "markdown",
      "metadata": {
        "id": "view-in-github",
        "colab_type": "text"
      },
      "source": [
        "<a href=\"https://colab.research.google.com/github/tando96/python101/blob/main/1_1_%5BLecture%5D_Intermediate_Python_1.ipynb\" target=\"_parent\"><img src=\"https://colab.research.google.com/assets/colab-badge.svg\" alt=\"Open In Colab\"/></a>"
      ]
    },
    {
      "cell_type": "markdown",
      "metadata": {
        "id": "FEmuZe4W528q"
      },
      "source": [
        "# Intermediate Python 1\n"
      ]
    },
    {
      "cell_type": "markdown",
      "metadata": {
        "id": "RlrOd0bt51Z_"
      },
      "source": [
        "![](https://i.imgur.com/0AUxkXt.png)\n",
        "\n",
        "<img src=https://imgur.com/a5FFWuD.png />"
      ]
    },
    {
      "cell_type": "markdown",
      "metadata": {
        "id": "jYbCQvkJ6ENc"
      },
      "source": [
        "## List comprehension"
      ]
    },
    {
      "cell_type": "markdown",
      "metadata": {
        "id": "qBoCOovpljMr"
      },
      "source": [
        "What it is: a shorter way to **create a list involving for loop**"
      ]
    },
    {
      "cell_type": "code",
      "metadata": {
        "id": "Vst0wg05Jz4E",
        "colab": {
          "base_uri": "https://localhost:8080/"
        },
        "outputId": "a66efbef-606d-47df-a3ea-1c8a692e3ff5"
      },
      "source": [
        "even_numbers = []\n",
        "for x in range(5):  # [0,1,2,3,4]\n",
        "    if x % 2 == 0:\n",
        "        even_numbers.append(x)\n",
        "\n",
        "print(even_numbers)"
      ],
      "execution_count": 1,
      "outputs": [
        {
          "output_type": "stream",
          "name": "stdout",
          "text": [
            "[0, 2, 4]\n"
          ]
        }
      ]
    },
    {
      "cell_type": "markdown",
      "metadata": {
        "id": "7Ve_SIJWfolf"
      },
      "source": [
        "Instead of this, you can write more compact code using list comprehension. And using list comprehension is faster when it comes to constructing a list"
      ]
    },
    {
      "cell_type": "code",
      "metadata": {
        "colab": {
          "base_uri": "https://localhost:8080/"
        },
        "id": "bNHKQiPSuHwg",
        "outputId": "3cfaff9e-3df7-4bee-881b-21a17259a641"
      },
      "source": [
        "tmp = [i for i in range(5)]\n",
        "print(tmp)"
      ],
      "execution_count": null,
      "outputs": [
        {
          "output_type": "stream",
          "name": "stdout",
          "text": [
            "[0, 1, 2, 3, 4]\n"
          ]
        }
      ]
    },
    {
      "cell_type": "code",
      "metadata": {
        "colab": {
          "base_uri": "https://localhost:8080/"
        },
        "id": "a0IQ5CVEuqbB",
        "outputId": "ea2ac795-b1bf-4c6d-d7b7-9fc588e72346"
      },
      "source": [
        "tmp = [i for i in range(5) if (i % 2 == 0) and (i >= 2)]\n",
        "print(tmp)"
      ],
      "execution_count": null,
      "outputs": [
        {
          "output_type": "stream",
          "name": "stdout",
          "text": [
            "[2, 4]\n"
          ]
        }
      ]
    },
    {
      "cell_type": "code",
      "metadata": {
        "id": "S02KleSK6HkR"
      },
      "source": [
        "even_numbers = [i for i in range(5) if i % 2 == 0]  # [0, 1, 2,3,4]"
      ],
      "execution_count": null,
      "outputs": []
    },
    {
      "cell_type": "code",
      "metadata": {
        "id": "BQsYp2JVgmnH",
        "colab": {
          "base_uri": "https://localhost:8080/"
        },
        "outputId": "78f21c5b-3fa3-40eb-808c-c59e951d73c3"
      },
      "source": [
        "print(even_numbers)"
      ],
      "execution_count": null,
      "outputs": [
        {
          "output_type": "stream",
          "name": "stdout",
          "text": [
            "[0, 2, 4]\n"
          ]
        }
      ]
    },
    {
      "cell_type": "code",
      "metadata": {
        "id": "2GJv4ujjfG2g"
      },
      "source": [
        "squares = [x**2 for x in range(5)]  # [0, 1, 4, 9, 16]\n",
        "even_squares = [x * x for x in even_numbers]  # [0, 4, 16]"
      ],
      "execution_count": null,
      "outputs": []
    },
    {
      "cell_type": "code",
      "metadata": {
        "id": "O7QmPKfegpis",
        "colab": {
          "base_uri": "https://localhost:8080/"
        },
        "outputId": "2d8f1fe1-24e5-42cb-8956-922890c74dab"
      },
      "source": [
        "print(squares)\n",
        "print(even_squares)"
      ],
      "execution_count": null,
      "outputs": [
        {
          "output_type": "stream",
          "name": "stdout",
          "text": [
            "[0, 1, 4, 9, 16]\n",
            "[0, 4, 16]\n"
          ]
        }
      ]
    },
    {
      "cell_type": "code",
      "metadata": {
        "colab": {
          "base_uri": "https://localhost:8080/"
        },
        "id": "NqKVMOYWvGJk",
        "outputId": "1c785ef4-316b-4c84-db00-c95d3ec3c649"
      },
      "source": [
        "[x + 1 for x in range(5)]"
      ],
      "execution_count": null,
      "outputs": [
        {
          "output_type": "execute_result",
          "data": {
            "text/plain": [
              "[1, 2, 3, 4, 5]"
            ]
          },
          "metadata": {},
          "execution_count": 9
        }
      ]
    },
    {
      "cell_type": "markdown",
      "metadata": {
        "id": "AnUWswdeD_Tg"
      },
      "source": [
        "You can use it to create dictionaries or sets too:"
      ]
    },
    {
      "cell_type": "code",
      "metadata": {
        "id": "uLenlgj7AgbV",
        "colab": {
          "base_uri": "https://localhost:8080/"
        },
        "outputId": "5f91297d-2d9c-4174-f1ea-707a45d3d2e9"
      },
      "source": [
        "# Create a dictionary with key is a number and value is the square of that number\n",
        "a = {}\n",
        "for x in range(5):\n",
        "    a[x] = x * x\n",
        "print(a)"
      ],
      "execution_count": null,
      "outputs": [
        {
          "output_type": "stream",
          "name": "stdout",
          "text": [
            "{0: 0, 1: 1, 2: 4, 3: 9, 4: 16}\n"
          ]
        }
      ]
    },
    {
      "cell_type": "code",
      "metadata": {
        "colab": {
          "base_uri": "https://localhost:8080/"
        },
        "id": "AU7-vmXIvzzU",
        "outputId": "01025d14-8670-42fa-f8c5-d4f97ab5018d"
      },
      "source": [
        "a = {1, 2, 3, 1}  # set\n",
        "print(a)"
      ],
      "execution_count": null,
      "outputs": [
        {
          "output_type": "stream",
          "name": "stdout",
          "text": [
            "{1, 2, 3}\n"
          ]
        }
      ]
    },
    {
      "cell_type": "code",
      "metadata": {
        "id": "CGD6sVs8EEl8"
      },
      "source": [
        "# square_dict = {x: x*x for x in range(5)}  # {0: 0, 1: 1, 2: 4, 3: 9, 4: 16}\n",
        "square_set = {x * x for x in [2, 1, 3, 5, 2]}  # {1}"
      ],
      "execution_count": null,
      "outputs": []
    },
    {
      "cell_type": "code",
      "metadata": {
        "id": "DYYlda_uDol1",
        "colab": {
          "base_uri": "https://localhost:8080/"
        },
        "outputId": "7655dc84-9764-4e8f-a59a-7d33d26cdd50"
      },
      "source": [
        "square_dict"
      ],
      "execution_count": null,
      "outputs": [
        {
          "output_type": "execute_result",
          "data": {
            "text/plain": [
              "{0: 0, 1: 1, 2: 4, 3: 9, 4: 16}"
            ]
          },
          "metadata": {},
          "execution_count": 13
        }
      ]
    },
    {
      "cell_type": "code",
      "metadata": {
        "id": "of2SfJKiDqXv",
        "colab": {
          "base_uri": "https://localhost:8080/"
        },
        "outputId": "e6ed90b8-c893-47f9-ea3e-63015e2b2b5e"
      },
      "source": [
        "square_set"
      ],
      "execution_count": null,
      "outputs": [
        {
          "output_type": "execute_result",
          "data": {
            "text/plain": [
              "{1, 4, 9, 25}"
            ]
          },
          "metadata": {},
          "execution_count": 17
        }
      ]
    },
    {
      "cell_type": "code",
      "metadata": {
        "id": "g4hUAHwxLNTD",
        "colab": {
          "base_uri": "https://localhost:8080/"
        },
        "outputId": "1fadb0e7-3ac3-41fe-e97f-44728180c23f"
      },
      "source": [
        "# Question: why does this only return a set of 2 values, but we use a for loop on a list of 4 values?\n",
        "square_set = {x * x for x in [-5, -3, 3, 5]}\n",
        "print(square_set)"
      ],
      "execution_count": null,
      "outputs": [
        {
          "output_type": "stream",
          "name": "stdout",
          "text": [
            "{25, 9}\n"
          ]
        }
      ]
    },
    {
      "cell_type": "markdown",
      "metadata": {
        "id": "tmwDRzoAEQij"
      },
      "source": [
        "A list comprehension can include multiple fors:"
      ]
    },
    {
      "cell_type": "code",
      "metadata": {
        "id": "ajiqmjANL4JP",
        "scrolled": true,
        "colab": {
          "base_uri": "https://localhost:8080/"
        },
        "outputId": "402fd3d7-b010-4dbc-92b9-6e17b124fb4b"
      },
      "source": [
        "pairs = []\n",
        "for x in range(3):  # [0 1 2]\n",
        "    for y in range(3):  # [0 1 2]\n",
        "        pairs.append((x, y))\n",
        "print(pairs)"
      ],
      "execution_count": null,
      "outputs": [
        {
          "output_type": "stream",
          "name": "stdout",
          "text": [
            "[(0, 0), (0, 1), (0, 2), (1, 0), (1, 1), (1, 2), (2, 0), (2, 1), (2, 2)]\n"
          ]
        }
      ]
    },
    {
      "cell_type": "code",
      "metadata": {
        "id": "AQUl4KmuEfsA",
        "colab": {
          "base_uri": "https://localhost:8080/"
        },
        "outputId": "ad64c351-fb82-4327-e603-790f23d79eb4"
      },
      "source": [
        "pairs = [[x, y] for x in range(3) for y in range(3)]\n",
        "pairs"
      ],
      "execution_count": null,
      "outputs": [
        {
          "output_type": "execute_result",
          "data": {
            "text/plain": [
              "[[0, 0], [0, 1], [0, 2], [1, 0], [1, 1], [1, 2], [2, 0], [2, 1], [2, 2]]"
            ]
          },
          "metadata": {},
          "execution_count": 21
        }
      ]
    },
    {
      "cell_type": "code",
      "metadata": {
        "id": "dSQ3NwzD-MZB"
      },
      "source": [
        "# Sometimes you will see people try to write list comprehension like this so it's easier to read\n",
        "# However, we don't want to overuse list comprehensions, especially for long line of code\n",
        "\n",
        "pairs = [(x, y) for x in range(2) for y in range(3) for z in range(4)]\n",
        "print(pairs)"
      ],
      "execution_count": null,
      "outputs": []
    },
    {
      "cell_type": "markdown",
      "metadata": {
        "id": "KpLx9SsWkEne"
      },
      "source": [
        "To recap about list comprehension\n",
        "- List comprehension is an elegant way to define and create lists based on existing lists.\n",
        "- List comprehension is generally more compact and faster than normal functions and loops for creating list.\n",
        "- However, we should avoid writing very long list comprehensions in one line to ensure that code is user-friendly.\n",
        "- Remember, every list comprehension can be rewritten in for loop, but every for loop can’t be rewritten in the form of list comprehension."
      ]
    },
    {
      "cell_type": "code",
      "metadata": {
        "id": "u4Vm3dCwxol6"
      },
      "source": [
        "a = 2\n",
        "b = \"a bang 1\" if a == 1 else \"a khac 1\""
      ],
      "execution_count": null,
      "outputs": []
    },
    {
      "cell_type": "code",
      "metadata": {
        "colab": {
          "base_uri": "https://localhost:8080/",
          "height": 35
        },
        "id": "FPI3N6QSx1O0",
        "outputId": "43f83712-b898-417b-aaae-dfd7e4421963"
      },
      "source": [
        "b"
      ],
      "execution_count": null,
      "outputs": [
        {
          "output_type": "execute_result",
          "data": {
            "application/vnd.google.colaboratory.intrinsic+json": {
              "type": "string"
            },
            "text/plain": [
              "'a khac 1'"
            ]
          },
          "metadata": {},
          "execution_count": 26
        }
      ]
    },
    {
      "cell_type": "markdown",
      "metadata": {
        "id": "brMkuB3B6H9d"
      },
      "source": [
        "## Generators\n",
        "\n",
        "![alt text](https://files.realpython.com/media/Python-Generators-and-the-Yield-Keyword_Watermarked.5380262149de.jpg)\n",
        "\n",
        "A list of a billion numbers takes up a lot of memory. If you only want the elements one at a time, there’s no good reason to keep them all around.\n",
        "\n",
        "Often all we need is to iterate over the collection using for and in. In this case we can create generators, which can be iterated over just like lists but generate their values lazily on demand.\n",
        "\n",
        "\n"
      ]
    },
    {
      "cell_type": "markdown",
      "metadata": {
        "id": "v6d81CXNwb62"
      },
      "source": [
        "Imagine you are running a sandwich shop, and you tend to serve as many sandwiches as possible. You really don't know how many customers you will have"
      ]
    },
    {
      "cell_type": "code",
      "metadata": {
        "id": "u1YHxQC-nHaT",
        "colab": {
          "base_uri": "https://localhost:8080/",
          "height": 35
        },
        "outputId": "30ac2a9e-5c24-47dc-f5a1-23269e803636"
      },
      "source": [
        "# normal list\n",
        "tmp = [\"Sandwich 1\", \"Sandwich 2\", \"Sandwich 3\", \"Sandwich 4\", \"Sandwich 5\"]\n",
        "tmp[4]"
      ],
      "execution_count": null,
      "outputs": [
        {
          "output_type": "execute_result",
          "data": {
            "application/vnd.google.colaboratory.intrinsic+json": {
              "type": "string"
            },
            "text/plain": [
              "'Sandwich 5'"
            ]
          },
          "metadata": {},
          "execution_count": 28
        }
      ]
    },
    {
      "cell_type": "markdown",
      "metadata": {
        "id": "5QIHrfGEnHaf"
      },
      "source": [
        "One way to create generators is with functions and the yield operator:"
      ]
    },
    {
      "cell_type": "markdown",
      "metadata": {
        "id": "RFLGLGgJvahv"
      },
      "source": [
        "![](https://miro.medium.com/max/1400/1*7X8rtWOiz5RKENZ_vugmKg.png)"
      ]
    },
    {
      "cell_type": "code",
      "metadata": {
        "id": "53JY6opR2hOy"
      },
      "source": [
        "while True:\n",
        "    print(\"Hello\")"
      ],
      "execution_count": null,
      "outputs": []
    },
    {
      "cell_type": "code",
      "metadata": {
        "id": "_qgge7H86Tdx"
      },
      "source": [
        "def generate_sandwich():\n",
        "    i = 1  # first index\n",
        "    # An Infinite loop to generate squares\n",
        "    while True:\n",
        "        sandwich_name = \"Sandwich \" + str(\n",
        "            i\n",
        "        )  # define the number/object that you want to create\n",
        "        yield sandwich_name  # every 'yield' produces a value, then return it\n",
        "        i += 1  # i = i + 1"
      ],
      "execution_count": null,
      "outputs": []
    },
    {
      "cell_type": "code",
      "metadata": {
        "id": "vY-qSOTSNQaQ"
      },
      "source": [
        "my_store = generate_sandwich()"
      ],
      "execution_count": null,
      "outputs": []
    },
    {
      "cell_type": "code",
      "metadata": {
        "id": "SEB8ULS6Hfr9",
        "colab": {
          "base_uri": "https://localhost:8080/"
        },
        "outputId": "a4421348-14f0-4d5b-d3bb-a7d042e1e017"
      },
      "source": [
        "type(my_store)"
      ],
      "execution_count": null,
      "outputs": [
        {
          "output_type": "execute_result",
          "data": {
            "text/plain": [
              "generator"
            ]
          },
          "metadata": {},
          "execution_count": 3
        }
      ]
    },
    {
      "cell_type": "code",
      "metadata": {
        "colab": {
          "base_uri": "https://localhost:8080/",
          "height": 166
        },
        "id": "OVwZZS3O0fo1",
        "outputId": "be4cbaec-040c-4cee-9a9a-8f7e33eb0b73"
      },
      "source": [
        "my_store[0]"
      ],
      "execution_count": null,
      "outputs": [
        {
          "output_type": "error",
          "ename": "TypeError",
          "evalue": "ignored",
          "traceback": [
            "\u001b[0;31m---------------------------------------------------------------------------\u001b[0m",
            "\u001b[0;31mTypeError\u001b[0m                                 Traceback (most recent call last)",
            "\u001b[0;32m<ipython-input-4-8f6b65eef73b>\u001b[0m in \u001b[0;36m<cell line: 1>\u001b[0;34m()\u001b[0m\n\u001b[0;32m----> 1\u001b[0;31m \u001b[0mmy_store\u001b[0m\u001b[0;34m[\u001b[0m\u001b[0;36m0\u001b[0m\u001b[0;34m]\u001b[0m\u001b[0;34m\u001b[0m\u001b[0;34m\u001b[0m\u001b[0m\n\u001b[0m",
            "\u001b[0;31mTypeError\u001b[0m: 'generator' object is not subscriptable"
          ]
        }
      ]
    },
    {
      "cell_type": "code",
      "metadata": {
        "id": "0IzCivJznHa5",
        "colab": {
          "base_uri": "https://localhost:8080/",
          "height": 35
        },
        "outputId": "36bcb908-8978-414a-d256-3d01e3174eef"
      },
      "source": [
        "next(my_store)  # minh request generator tao ra 1 cai sandwich"
      ],
      "execution_count": null,
      "outputs": [
        {
          "output_type": "execute_result",
          "data": {
            "text/plain": [
              "'Sandwich 1'"
            ],
            "application/vnd.google.colaboratory.intrinsic+json": {
              "type": "string"
            }
          },
          "metadata": {},
          "execution_count": 5
        }
      ]
    },
    {
      "cell_type": "code",
      "metadata": {
        "id": "QhOk2CUdUY0a",
        "colab": {
          "base_uri": "https://localhost:8080/",
          "height": 35
        },
        "outputId": "bc2bdc70-2598-483a-dc91-37ee02c244bd"
      },
      "source": [
        "next(my_store)"
      ],
      "execution_count": null,
      "outputs": [
        {
          "output_type": "execute_result",
          "data": {
            "text/plain": [
              "'Sandwich 2'"
            ],
            "application/vnd.google.colaboratory.intrinsic+json": {
              "type": "string"
            }
          },
          "metadata": {},
          "execution_count": 6
        }
      ]
    },
    {
      "cell_type": "code",
      "metadata": {
        "id": "1Wx4GXeQH7Za",
        "colab": {
          "base_uri": "https://localhost:8080/",
          "height": 35
        },
        "outputId": "4305de87-0e1f-46f4-91d5-c5830f17e2e5"
      },
      "source": [
        "next(my_store)"
      ],
      "execution_count": null,
      "outputs": [
        {
          "output_type": "execute_result",
          "data": {
            "text/plain": [
              "'Sandwich 3'"
            ],
            "application/vnd.google.colaboratory.intrinsic+json": {
              "type": "string"
            }
          },
          "metadata": {},
          "execution_count": 7
        }
      ]
    },
    {
      "cell_type": "code",
      "metadata": {
        "id": "QcGr1t3YIkve",
        "colab": {
          "base_uri": "https://localhost:8080/"
        },
        "outputId": "43490f8a-5f73-457b-81f6-0b742c609c25"
      },
      "source": [
        "my_store"
      ],
      "execution_count": null,
      "outputs": [
        {
          "output_type": "execute_result",
          "data": {
            "text/plain": [
              "<generator object generate_sandwich at 0x7fe4cb2a1a10>"
            ]
          },
          "metadata": {},
          "execution_count": 8
        }
      ]
    },
    {
      "cell_type": "code",
      "metadata": {
        "id": "5-7UL_oaxQnZ",
        "colab": {
          "base_uri": "https://localhost:8080/",
          "height": 35
        },
        "outputId": "73f82353-a7ac-4cc0-c5c2-275f41e3b97e"
      },
      "source": [
        "next(my_store)"
      ],
      "execution_count": null,
      "outputs": [
        {
          "output_type": "execute_result",
          "data": {
            "text/plain": [
              "'Sandwich 4'"
            ],
            "application/vnd.google.colaboratory.intrinsic+json": {
              "type": "string"
            }
          },
          "metadata": {},
          "execution_count": 9
        }
      ]
    },
    {
      "cell_type": "markdown",
      "metadata": {
        "id": "VtZ0iNEo1JPf"
      },
      "source": [
        "Let's say our sandwich store have a limit on number of sandwiches we can generate, instead of handing out infinite sandwiches like before."
      ]
    },
    {
      "cell_type": "code",
      "metadata": {
        "id": "iRY6Jhj91Xg8"
      },
      "source": [
        "# new generator\n",
        "def generate_sandwich_limit(n):\n",
        "    i = 1\n",
        "    while i <= n:\n",
        "        sandwich_name = \"Sandwich \" + str(\n",
        "            i\n",
        "        )  # define the number/object that you want to create\n",
        "        if i != 2:\n",
        "            yield sandwich_name  # every 'yield' produces a value, then return it\n",
        "        i += 1  # Next execution resumes from this point"
      ],
      "execution_count": null,
      "outputs": []
    },
    {
      "cell_type": "code",
      "metadata": {
        "id": "y7Lz6KU61l4W"
      },
      "source": [
        "my_store_limit = generate_sandwich_limit(5)"
      ],
      "execution_count": null,
      "outputs": []
    },
    {
      "cell_type": "code",
      "metadata": {
        "colab": {
          "base_uri": "https://localhost:8080/",
          "height": 35
        },
        "id": "ijqBTiIE43sO",
        "outputId": "08bdb575-ace9-4a8c-f79a-d25f1117fa99"
      },
      "source": [
        "next(my_store_limit)"
      ],
      "execution_count": null,
      "outputs": [
        {
          "output_type": "execute_result",
          "data": {
            "text/plain": [
              "'Sandwich 1'"
            ],
            "application/vnd.google.colaboratory.intrinsic+json": {
              "type": "string"
            }
          },
          "metadata": {},
          "execution_count": 13
        }
      ]
    },
    {
      "cell_type": "code",
      "metadata": {
        "id": "cICgjWJI5SU1"
      },
      "source": [
        "my_store_limit = generate_sandwich_limit(5)"
      ],
      "execution_count": null,
      "outputs": []
    },
    {
      "cell_type": "code",
      "metadata": {
        "id": "XVlNwR4HnHbL",
        "colab": {
          "base_uri": "https://localhost:8080/"
        },
        "outputId": "638bb2fb-c4e3-4cac-b852-099d1f912155"
      },
      "source": [
        "for i in my_store_limit:\n",
        "    print(i)"
      ],
      "execution_count": null,
      "outputs": [
        {
          "output_type": "stream",
          "name": "stdout",
          "text": [
            "Sandwich 1\n",
            "Sandwich 3\n",
            "Sandwich 4\n",
            "Sandwich 5\n"
          ]
        }
      ]
    },
    {
      "cell_type": "code",
      "metadata": {
        "id": "giWxoeDt5mgu"
      },
      "source": [
        "my_store_limit = generate_sandwich_limit(5)\n",
        "tmp = [sandwich for sandwich in my_store_limit]"
      ],
      "execution_count": null,
      "outputs": []
    },
    {
      "cell_type": "code",
      "metadata": {
        "colab": {
          "base_uri": "https://localhost:8080/"
        },
        "id": "--WnugS46Mbv",
        "outputId": "a9e70f01-4c08-4741-cfba-587e142da027"
      },
      "source": [
        "tmp"
      ],
      "execution_count": null,
      "outputs": [
        {
          "output_type": "execute_result",
          "data": {
            "text/plain": [
              "['Sandwich 1', 'Sandwich 2', 'Sandwich 3', 'Sandwich 4', 'Sandwich 5']"
            ]
          },
          "metadata": {},
          "execution_count": 69
        }
      ]
    },
    {
      "cell_type": "markdown",
      "metadata": {
        "id": "VEoWSs0qHPP5"
      },
      "source": [
        "After the generator finishes generating all elements based on its definition, it cannot generate more item."
      ]
    },
    {
      "cell_type": "code",
      "metadata": {
        "id": "TJgW7luKnHbQ"
      },
      "source": [
        "next(my_store_limit)  # give you error message: StopIteration"
      ],
      "execution_count": null,
      "outputs": []
    },
    {
      "cell_type": "code",
      "metadata": {
        "id": "8fYJEBs26tKy"
      },
      "source": [
        "my_store_limit = generate_sandwich_limit(5)\n",
        "my_store_limit[0]  # error\n",
        "len(my_store_limit)  # error"
      ],
      "execution_count": null,
      "outputs": []
    },
    {
      "cell_type": "code",
      "metadata": {
        "id": "Ec6Op23nGa4G",
        "colab": {
          "base_uri": "https://localhost:8080/"
        },
        "outputId": "72087515-a47a-408e-9169-85e3fb023d83"
      },
      "source": [
        "# range is actually a python generator\n",
        "range(\n",
        "    5\n",
        ")  # only prepare to produce 5 numbers, but doesn't make a list out of it yet (lazy)"
      ],
      "execution_count": null,
      "outputs": [
        {
          "output_type": "execute_result",
          "data": {
            "text/plain": [
              "range(0, 5)"
            ]
          },
          "metadata": {},
          "execution_count": 72
        }
      ]
    },
    {
      "cell_type": "code",
      "metadata": {
        "id": "tudezJy8KvGe"
      },
      "source": [
        "a = iter(range(5))"
      ],
      "execution_count": null,
      "outputs": []
    },
    {
      "cell_type": "code",
      "metadata": {
        "id": "efP4qFsSK1Ka"
      },
      "source": [
        "next(a)"
      ],
      "execution_count": null,
      "outputs": []
    },
    {
      "cell_type": "code",
      "metadata": {
        "id": "faqtFimeNBLZ",
        "colab": {
          "base_uri": "https://localhost:8080/"
        },
        "outputId": "809ec7c5-1a14-43d1-b7ea-de09b1102132"
      },
      "source": [
        "for i in range(5):\n",
        "    print(i)"
      ],
      "execution_count": null,
      "outputs": [
        {
          "output_type": "stream",
          "name": "stdout",
          "text": [
            "0\n",
            "1\n",
            "2\n",
            "3\n",
            "4\n"
          ]
        }
      ]
    },
    {
      "cell_type": "markdown",
      "metadata": {
        "id": "-12aO7T4FM99"
      },
      "source": [
        "A second way to create generators is by using for comprehensions wrapped in parentheses:"
      ]
    },
    {
      "cell_type": "code",
      "metadata": {
        "id": "d08a_mz6Emdw",
        "colab": {
          "base_uri": "https://localhost:8080/"
        },
        "outputId": "fbdc6a43-d03f-49b1-920d-f10b5fae994e"
      },
      "source": [
        "evens_below_20 = [i for i in range(20) if i % 2 == 0]\n",
        "print(evens_below_20)  # return a list"
      ],
      "execution_count": null,
      "outputs": [
        {
          "output_type": "stream",
          "name": "stdout",
          "text": [
            "[0, 2, 4, 6, 8, 10, 12, 14, 16, 18]\n"
          ]
        }
      ]
    },
    {
      "cell_type": "code",
      "metadata": {
        "id": "6bdHj8kYLdng",
        "colab": {
          "base_uri": "https://localhost:8080/"
        },
        "outputId": "01d4be0d-bdf8-4374-a99f-66a531b7f16a"
      },
      "source": [
        "evens_below_20 = {i for i in range(20) if i % 2 == 0}\n",
        "print(evens_below_20)  # return a set"
      ],
      "execution_count": null,
      "outputs": [
        {
          "output_type": "stream",
          "name": "stdout",
          "text": [
            "{0, 2, 4, 6, 8, 10, 12, 14, 16, 18}\n"
          ]
        }
      ]
    },
    {
      "cell_type": "code",
      "metadata": {
        "id": "y8Qorf2tLlXq",
        "colab": {
          "base_uri": "https://localhost:8080/"
        },
        "outputId": "f0955ff7-f4e4-4f81-90dd-6208297df895"
      },
      "source": [
        "evens_below_20 = {i: i for i in range(20) if i % 2 == 0}\n",
        "print(evens_below_20)  # return a dictionary"
      ],
      "execution_count": null,
      "outputs": [
        {
          "output_type": "stream",
          "name": "stdout",
          "text": [
            "{0: 0, 2: 2, 4: 4, 6: 6, 8: 8, 10: 10, 12: 12, 14: 14, 16: 16, 18: 18}\n"
          ]
        }
      ]
    },
    {
      "cell_type": "code",
      "metadata": {
        "id": "4k9INWeFFNhj",
        "colab": {
          "base_uri": "https://localhost:8080/"
        },
        "outputId": "3fe5e1c2-9256-414d-eb29-a03a5fd0ef57"
      },
      "source": [
        "# generator\n",
        "evens_below_20 = (i for i in range(20) if i % 2 == 0)\n",
        "print(evens_below_20)"
      ],
      "execution_count": null,
      "outputs": [
        {
          "output_type": "stream",
          "name": "stdout",
          "text": [
            "<generator object <genexpr> at 0x7f76fb4a57d0>\n"
          ]
        }
      ]
    },
    {
      "cell_type": "code",
      "metadata": {
        "id": "PT8dhG2pLtn7",
        "colab": {
          "base_uri": "https://localhost:8080/"
        },
        "outputId": "87a1039f-2e78-4634-f813-8af396bf2559"
      },
      "source": [
        "next(evens_below_20)"
      ],
      "execution_count": null,
      "outputs": [
        {
          "output_type": "execute_result",
          "data": {
            "text/plain": [
              "6"
            ]
          },
          "metadata": {},
          "execution_count": 11
        }
      ]
    },
    {
      "cell_type": "markdown",
      "metadata": {
        "id": "qvesb3z3Fcfi"
      },
      "source": [
        "Such a “generator comprehension” doesn’t do any work until you iterate over it."
      ]
    },
    {
      "cell_type": "code",
      "metadata": {
        "id": "s2rOVoAbsaXE"
      },
      "source": [
        "for i in evens_below_20:  # loop in a generator\n",
        "    print(i, end=\" \")"
      ],
      "execution_count": null,
      "outputs": []
    },
    {
      "cell_type": "markdown",
      "metadata": {
        "id": "4ho7E81Qsqcj"
      },
      "source": [
        "After you consume all numbers in a generator, it won't produce anymore result\n"
      ]
    },
    {
      "cell_type": "code",
      "metadata": {
        "id": "2Shcphv-ycBO",
        "colab": {
          "base_uri": "https://localhost:8080/",
          "height": 167
        },
        "outputId": "0ccd7a67-966c-469b-d138-cafab85a3752"
      },
      "source": [
        "next(evens_below_20)"
      ],
      "execution_count": null,
      "outputs": [
        {
          "output_type": "error",
          "ename": "StopIteration",
          "evalue": "ignored",
          "traceback": [
            "\u001b[0;31m---------------------------------------------------------------------------\u001b[0m",
            "\u001b[0;31mStopIteration\u001b[0m                             Traceback (most recent call last)",
            "\u001b[0;32m<ipython-input-14-9fbb791cb74e>\u001b[0m in \u001b[0;36m<module>\u001b[0;34m()\u001b[0m\n\u001b[0;32m----> 1\u001b[0;31m \u001b[0mnext\u001b[0m\u001b[0;34m(\u001b[0m\u001b[0mevens_below_20\u001b[0m\u001b[0;34m)\u001b[0m\u001b[0;34m\u001b[0m\u001b[0;34m\u001b[0m\u001b[0m\n\u001b[0m",
            "\u001b[0;31mStopIteration\u001b[0m: "
          ]
        }
      ]
    },
    {
      "cell_type": "code",
      "metadata": {
        "id": "cFYrRCTssxQL"
      },
      "source": [
        "for i in evens_below_20:  # loop in an empty generator\n",
        "    print(\n",
        "        i\n",
        "    )  # nothing will print out here after we loop through everything in that evens_below_20"
      ],
      "execution_count": null,
      "outputs": []
    },
    {
      "cell_type": "code",
      "metadata": {
        "id": "tcxrdCCHMTRG",
        "colab": {
          "base_uri": "https://localhost:8080/"
        },
        "outputId": "f164c39a-9adb-4c75-c948-ad3aef3a6992"
      },
      "source": [
        "sandwich_generator = (f\"Sandwich {i}\" for i in range(20))\n",
        "sandwich_generator"
      ],
      "execution_count": null,
      "outputs": [
        {
          "output_type": "execute_result",
          "data": {
            "text/plain": [
              "<generator object <genexpr> at 0x7f76f8267650>"
            ]
          },
          "metadata": {},
          "execution_count": 21
        }
      ]
    },
    {
      "cell_type": "code",
      "metadata": {
        "id": "6XM8em-zMf6V",
        "colab": {
          "base_uri": "https://localhost:8080/",
          "height": 35
        },
        "outputId": "54ab8bdd-9927-43a5-cd78-38a429f9d185"
      },
      "source": [
        "next(sandwich_generator)"
      ],
      "execution_count": null,
      "outputs": [
        {
          "output_type": "execute_result",
          "data": {
            "application/vnd.google.colaboratory.intrinsic+json": {
              "type": "string"
            },
            "text/plain": [
              "'Sandwich 2'"
            ]
          },
          "metadata": {},
          "execution_count": 24
        }
      ]
    },
    {
      "cell_type": "code",
      "metadata": {
        "id": "qXZpJPdVMi1c",
        "colab": {
          "base_uri": "https://localhost:8080/"
        },
        "outputId": "db3ed7b3-5d36-4c6e-b6c8-771206a6cf39"
      },
      "source": [
        "for i in sandwich_generator:\n",
        "    print(i)"
      ],
      "execution_count": null,
      "outputs": [
        {
          "output_type": "stream",
          "name": "stdout",
          "text": [
            "Sandwich 3\n",
            "Sandwich 4\n",
            "Sandwich 5\n",
            "Sandwich 6\n",
            "Sandwich 7\n",
            "Sandwich 8\n",
            "Sandwich 9\n",
            "Sandwich 10\n",
            "Sandwich 11\n",
            "Sandwich 12\n",
            "Sandwich 13\n",
            "Sandwich 14\n",
            "Sandwich 15\n",
            "Sandwich 16\n",
            "Sandwich 17\n",
            "Sandwich 18\n",
            "Sandwich 19\n"
          ]
        }
      ]
    },
    {
      "cell_type": "markdown",
      "metadata": {
        "id": "75qhQCdDXZHQ"
      },
      "source": [
        "## So what are Iterators?"
      ]
    },
    {
      "cell_type": "markdown",
      "metadata": {
        "id": "0adLvNugXaYb"
      },
      "source": [
        "An iterator is an object that can be iterated upon, meaning that you can traverse through all the values. Right now, you can just identify something as an iterator when you can loop through it"
      ]
    },
    {
      "cell_type": "markdown",
      "metadata": {
        "id": "YpCe_htoY1Tu"
      },
      "source": [
        "**Question**: Let's list all the iterators that you can think of, as of now."
      ]
    },
    {
      "cell_type": "markdown",
      "metadata": {
        "id": "l_wZC7yRA3_1"
      },
      "source": [
        "## Enumerate"
      ]
    },
    {
      "cell_type": "markdown",
      "metadata": {
        "id": "CjDN4KJHA-SM"
      },
      "source": [
        "A python built-in function to keep count of iterations. This can be applied on any Python iterator"
      ]
    },
    {
      "cell_type": "code",
      "metadata": {
        "id": "Ki3wKsgcBFzq",
        "colab": {
          "base_uri": "https://localhost:8080/"
        },
        "outputId": "a0c98a02-d55e-4c5a-f370-51df4339040f"
      },
      "source": [
        "# the long way to keep count\n",
        "tmp = [2, 1, 3, 5, 4]\n",
        "\n",
        "for i in range(len(tmp)):\n",
        "    value = tmp[i]\n",
        "    print(f\"Index {i} has value {value}\")"
      ],
      "execution_count": null,
      "outputs": [
        {
          "output_type": "stream",
          "name": "stdout",
          "text": [
            "Index 0 has value 2\n",
            "Index 1 has value 1\n",
            "Index 2 has value 3\n",
            "Index 3 has value 5\n",
            "Index 4 has value 4\n"
          ]
        }
      ]
    },
    {
      "cell_type": "code",
      "metadata": {
        "colab": {
          "base_uri": "https://localhost:8080/"
        },
        "id": "p12Go02XZTiI",
        "outputId": "98e93627-5ddd-4b57-aca3-f3d9c1878e63"
      },
      "source": [
        "tmp = [2, 1, 3, 5, 4]\n",
        "i = 0\n",
        "for value in tmp:\n",
        "    i = i + 1\n",
        "    print(f\"Index {i} has value {value}\")"
      ],
      "execution_count": null,
      "outputs": [
        {
          "output_type": "stream",
          "name": "stdout",
          "text": [
            "Index 1 has value 2\n",
            "Index 2 has value 1\n",
            "Index 3 has value 3\n",
            "Index 4 has value 5\n",
            "Index 5 has value 4\n"
          ]
        }
      ]
    },
    {
      "cell_type": "code",
      "metadata": {
        "id": "nKaj3z8jBfNS",
        "colab": {
          "base_uri": "https://localhost:8080/"
        },
        "outputId": "7b2c5c04-13df-4021-a483-fbf4575e9356"
      },
      "source": [
        "# the short way:\n",
        "tmp = [2, 1, 3, 5, 4]\n",
        "\n",
        "for i, value in enumerate(tmp):\n",
        "    print(f\"Index {i} has value {value}\")"
      ],
      "execution_count": null,
      "outputs": [
        {
          "output_type": "stream",
          "name": "stdout",
          "text": [
            "Index 0 has value 2\n",
            "Index 1 has value 1\n",
            "Index 2 has value 3\n",
            "Index 3 has value 5\n",
            "Index 4 has value 4\n"
          ]
        }
      ]
    },
    {
      "cell_type": "markdown",
      "metadata": {
        "id": "gOrYWxVNCeOQ"
      },
      "source": [
        "You can use enumerate on a generator as well, because generator can be iterated (generator is an iterator in Python)"
      ]
    },
    {
      "cell_type": "code",
      "metadata": {
        "id": "rAPYOLuABn8G",
        "colab": {
          "base_uri": "https://localhost:8080/"
        },
        "outputId": "01f1e456-5d6d-4a88-9c63-d2e4ce426767"
      },
      "source": [
        "tmp = (i for i in range(1, 10, 2))  # generator\n",
        "\n",
        "for i, value in enumerate(tmp):\n",
        "    print(f\"Index {i} has value {value}\")"
      ],
      "execution_count": null,
      "outputs": [
        {
          "output_type": "stream",
          "name": "stdout",
          "text": [
            "Index 0 has value 1\n",
            "Index 1 has value 3\n",
            "Index 2 has value 5\n",
            "Index 3 has value 7\n",
            "Index 4 has value 9\n"
          ]
        }
      ]
    }
  ]
}