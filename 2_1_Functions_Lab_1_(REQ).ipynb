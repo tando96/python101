{
  "nbformat": 4,
  "nbformat_minor": 0,
  "metadata": {
    "colab": {
      "provenance": [],
      "collapsed_sections": [
        "Xfl_8qhX2eZJ",
        "6DA0ZLdq2eZK",
        "ISwNKB7g2eZK",
        "tfM_GkYT2eZK",
        "DSpmyKsemyU1",
        "a4s6XYDW2eZK",
        "nToRRcBV2eZL",
        "Y0vTIFug2eZM"
      ],
      "include_colab_link": true
    },
    "kernelspec": {
      "name": "python3",
      "display_name": "Python 3"
    },
    "language_info": {
      "name": "python"
    }
  },
  "cells": [
    {
      "cell_type": "markdown",
      "metadata": {
        "id": "view-in-github",
        "colab_type": "text"
      },
      "source": [
        "<a href=\"https://colab.research.google.com/github/tando96/python101/blob/main/2_1_Functions_Lab_1_(REQ).ipynb\" target=\"_parent\"><img src=\"https://colab.research.google.com/assets/colab-badge.svg\" alt=\"Open In Colab\"/></a>"
      ]
    },
    {
      "cell_type": "markdown",
      "source": [
        "If you don't remember the first step, please click [here](https://learn.coderschool.vn/path-player?courseid=dv-m11-basic-python&unit=dv-m11-basic-python_624537766805eUnit) to review the Lab Guide"
      ],
      "metadata": {
        "id": "dN_XdK7VEiC3"
      }
    },
    {
      "cell_type": "markdown",
      "metadata": {
        "id": "7h_g50333Wyq"
      },
      "source": [
        "<img src=\"https://files.realpython.com/media/Defining-Your-Own-Python-Function_Watermarked.d5b07e88ece4.jpg\" />"
      ]
    },
    {
      "cell_type": "markdown",
      "metadata": {
        "id": "xLaj501x6Xah"
      },
      "source": [
        "# **FUNCTIONS LAB 1**\n",
        "\n",
        "> ***NOTE: Some exercises below may be collected from an interview with big tech companies, like FAANG (Facebook, Amazon, Apple, Netflix, Google) and others like Microsoft, etc. Be sure to have a try!***"
      ]
    },
    {
      "cell_type": "markdown",
      "metadata": {
        "id": "Xfl_8qhX2eZJ"
      },
      "source": [
        "### Add and subtract"
      ]
    },
    {
      "cell_type": "markdown",
      "source": [
        "Write a program to create function `calculation` such that it can accept two numbers and calculate their sum and difference. The difference should be non-negative.\n",
        "\n",
        "The function should have:\n",
        "* Two arguments, with default values 20 and 10\n",
        "* Return both their sum first and difference second in a single return call.\n",
        "\n",
        "*Example:*\n",
        "```python\n",
        ">>> s,d = calculation()\n",
        ">>> print(s, d)\n",
        "30 10 # output\n",
        "\n",
        ">>> s,d = calculation(35,15)\n",
        ">>> print(s, d)\n",
        "50 20 # output\n",
        "\n",
        ">>> s,d = calculation(3,7)\n",
        ">>> print(s, d)\n",
        "10 4 # output\n",
        "```"
      ],
      "metadata": {
        "id": "LXC7eYsWxgOb"
      }
    },
    {
      "cell_type": "code",
      "metadata": {
        "id": "6UrJmqqTtBzl",
        "outputId": "03b0554b-e470-4110-e934-e444332c70f4",
        "colab": {
          "base_uri": "https://localhost:8080/"
        }
      },
      "source": [
        "# YOUR CODE HERE\n",
        "def calculation(a = 20 ,b = 10):\n",
        "  add = a + b\n",
        "  sub = abs(a - b)\n",
        "  return add, sub\n",
        "\n",
        "s,d = calculation(35,15)\n",
        "print(s,d)"
      ],
      "execution_count": 3,
      "outputs": [
        {
          "output_type": "stream",
          "name": "stdout",
          "text": [
            "50 20\n"
          ]
        }
      ]
    },
    {
      "cell_type": "markdown",
      "metadata": {
        "id": "6DA0ZLdq2eZK"
      },
      "source": [
        "### Products of numbers\n"
      ]
    },
    {
      "cell_type": "markdown",
      "source": [
        "Write a function `product` to multiply all of the numbers in a list together.\n",
        "\n",
        "The function should take in a list and return a number. If the input list is empty, return 0.\n",
        "\n",
        "*Example:*\n",
        "```python\n",
        ">>> L = [1,2,3,4,5]\n",
        ">>> print(product(L))\n",
        "120\n",
        "\n",
        ">>> L = [8,5,3,9,2,12,50,0,388]\n",
        ">>> print(product(L))\n",
        "0\n",
        "\n",
        ">>> L = []\n",
        ">>> print(product(L))\n",
        "0\n",
        "```"
      ],
      "metadata": {
        "id": "iKTn3t_mxjd0"
      }
    },
    {
      "cell_type": "code",
      "metadata": {
        "id": "BggGRI2T7Bo7",
        "outputId": "f3bca737-c559-44ce-a0ee-816ccf471d1e",
        "colab": {
          "base_uri": "https://localhost:8080/"
        }
      },
      "source": [
        "# YOUR CODE HERE\n",
        "\n",
        "def multi(list_num):\n",
        "  result = 1\n",
        "  if len(list_num) == 0:\n",
        "    return 0\n",
        "  else:\n",
        "    for i in range(0, len(list_num)):\n",
        "      result *= list_num[i]\n",
        "    return result\n",
        "\n",
        "L = [1,2,3,4,5]\n",
        "print(multi(L))"
      ],
      "execution_count": 11,
      "outputs": [
        {
          "output_type": "stream",
          "name": "stdout",
          "text": [
            "120\n"
          ]
        }
      ]
    },
    {
      "cell_type": "markdown",
      "metadata": {
        "id": "ISwNKB7g2eZK"
      },
      "source": [
        "### Vowels and consonants\n"
      ]
    },
    {
      "cell_type": "markdown",
      "source": [
        "Define a function `count_vowels_consonants` which counts the number of vowels and consonants in a word. The function should return both the number of vowels and number of consonants. Don't count any other characters.\n",
        "\n",
        "In English, vowels are the letters 'a', 'e', 'i', 'o', 'u', and the rest are consonants.\n",
        "\n",
        "*Example:*\n",
        "```python\n",
        ">>> s = 'CoderSchool'\n",
        ">>> v,c = count_vowels_consonants(s) # Expected function returns\n",
        ">>> print('Number of vowels:', v)\n",
        "Number of vowels: 4\n",
        ">>> print('Number of consonants:', c)\n",
        "Number of consonants: 7\n",
        "\n",
        ">>> s = 'hello world'\n",
        ">>> v,c = count_vowels_consonants(s) # Expected function returns\n",
        ">>> print('Number of vowels:', v)\n",
        "Number of vowels: 3\n",
        ">>> print('Number of consonants:', c)\n",
        "Number of consonants: 7\n",
        "\n",
        ">>> s = ''\n",
        ">>> v,c = count_vowels_consonants(s) # Expected function returns\n",
        ">>> print('Number of vowels:', v)\n",
        "Number of vowels: 0\n",
        ">>> print('Number of consonants:', c)\n",
        "Number of consonants: 0\n",
        "```"
      ],
      "metadata": {
        "id": "ElhdGP5XxmPE"
      }
    },
    {
      "cell_type": "code",
      "metadata": {
        "id": "jgPGab8Yypnz",
        "outputId": "8c95d704-5100-4a9d-f93e-a35f5a902676",
        "colab": {
          "base_uri": "https://localhost:8080/"
        }
      },
      "source": [
        "# YOUR CODE HERE\n",
        "vowel_list = ['a', 'e', 'i', 'o', 'u', 'A', 'E', 'I', 'O', 'U']\n",
        "\n",
        "def count_vowels_consonants(string_value):\n",
        "  count_vowels = 0\n",
        "  count_consonants = 0\n",
        "  for i in string_value:\n",
        "    if i in vowel_list:\n",
        "      count_vowels +=1\n",
        "    elif i == ' ':\n",
        "      continue\n",
        "    else:\n",
        "      count_consonants += 1\n",
        "  return count_vowels, count_consonants\n",
        "\n",
        "s = 'CoderSchool'\n",
        "v,c = count_vowels_consonants(s)\n",
        "print('Number of vowels:', v)\n",
        "print('Number of consonants:', c)\n"
      ],
      "execution_count": 14,
      "outputs": [
        {
          "output_type": "stream",
          "name": "stdout",
          "text": [
            "Number of vowels: 4\n",
            "Number of consonants: 7\n"
          ]
        }
      ]
    },
    {
      "cell_type": "markdown",
      "metadata": {
        "id": "tfM_GkYT2eZK"
      },
      "source": [
        "### Upper and lower\n"
      ]
    },
    {
      "cell_type": "markdown",
      "source": [
        "Write a Python function `count_upper_lower` that accepts a string and returns the number of upper case letters and lower case letters.\n",
        "\n",
        "(Note that space is not counted)\n",
        "\n",
        "*Example:*\n",
        "```python\n",
        ">>> s = 'Christmas is coming to Town'\n",
        ">>> u,l = count_upper_lower(s) # Expected function returns\n",
        ">>> print('Number of upper case characters:', u)\n",
        "Number of upper case characters: 2\n",
        ">>> print('Number of lower case characters:', l)\n",
        "Number of lower case characters: 21\n",
        "\n",
        ">>> s = ''\n",
        ">>> u,l = count_upper_lower(s) # Expected function returns\n",
        ">>> print('Number of upper case characters:', u)\n",
        "Number of upper case characters: 0\n",
        ">>> print('Number of lower case characters:', l)\n",
        "Number of lower case characters: 0\n",
        "```\n",
        "\n",
        "*(Hint: refer to available [string methods](https://www.w3schools.com/python/python_ref_string.asp))*"
      ],
      "metadata": {
        "id": "J8--iLNUxow8"
      }
    },
    {
      "cell_type": "code",
      "metadata": {
        "id": "6KKk3qdm7Bzi",
        "outputId": "53c5e261-f79c-49dc-ce6e-73355cc197c1",
        "colab": {
          "base_uri": "https://localhost:8080/"
        }
      },
      "source": [
        "# YOUR CODE HERE\n",
        "\n",
        "def count_upper_lower(string_value):\n",
        "  upper = 0\n",
        "  lower = 0\n",
        "  for i in string_value:\n",
        "    if i.islower() == True:\n",
        "      lower += 1\n",
        "    elif i == \" \":\n",
        "      continue\n",
        "    else:\n",
        "      upper += 1\n",
        "  return upper, lower\n",
        "\n",
        "s = 'Christmas is coming to Town'\n",
        "u , l = count_upper_lower(s)\n",
        "print('Number of upper case characters:', u)\n",
        "print('Number of lower case characters:', l)"
      ],
      "execution_count": 16,
      "outputs": [
        {
          "output_type": "stream",
          "name": "stdout",
          "text": [
            "Number of upper case characters: 2\n",
            "Number of lower case characters: 21\n"
          ]
        }
      ]
    },
    {
      "cell_type": "markdown",
      "source": [
        "### Find Low/High Index (Amazon)"
      ],
      "metadata": {
        "id": "DSpmyKsemyU1"
      }
    },
    {
      "cell_type": "markdown",
      "source": [
        "Given a sorted array of integers, write a function to return the low and high index of the given key. You must return -1 if the indexes are not found. The array length can be in the millions with many duplicates.\n",
        "\n",
        "In the following example, according to the key, the low and high indices would be:\n",
        "\n",
        "`key = 1` ==> `low = 0` and `high = 0`\\\n",
        "`key = 2` ==> `low = 1` and `high = 1`\\\n",
        "`key = 5` ==> `low = 2` and `high = 9`\\\n",
        "`key = 20` ==> `low = 10` and `high = 10`\n",
        "\n",
        "![](https://www.educative.io/api/page/4958290606817280/image/download/5097413187469312)"
      ],
      "metadata": {
        "id": "gmQOqONQxuBb"
      }
    },
    {
      "cell_type": "code",
      "source": [
        "# YOUR CODE HERE\n",
        "def find_low_high_index(arr, key):\n",
        "    low = arr.index(key)\n",
        "    high = len(arr) - 1 - arr[::-1].index(key)\n",
        "    return low, high"
      ],
      "metadata": {
        "id": "4S1P9PlLnZ6z"
      },
      "execution_count": null,
      "outputs": []
    },
    {
      "cell_type": "markdown",
      "metadata": {
        "id": "a4s6XYDW2eZK"
      },
      "source": [
        "### Prime check\n"
      ]
    },
    {
      "cell_type": "markdown",
      "source": [
        "Write a function `check_prime` that takes a number as an argument and check if the number is prime or not.\n",
        "\n",
        "The function should return `True` if the number is a prime, and `False` otherwise.\n",
        "\n",
        ">Note : A prime number is a natural number greater than 1 and that has no positive divisors other than 1 and itself. For example: 2, 3, 5, 7, 11, 13, 17, 19, 23, 29,...\n",
        "\n",
        "*Example:*\n",
        "```python\n",
        ">>> print(check_prime(2))\n",
        "True\n",
        ">>> print(check_prime(7))\n",
        "True\n",
        ">>> print(check_prime(22))\n",
        "False\n",
        ">>> print(check_prime(39))\n",
        "False\n",
        "```"
      ],
      "metadata": {
        "id": "ydwJo0HtxwjD"
      }
    },
    {
      "cell_type": "code",
      "metadata": {
        "id": "ZapkFjd37CP8",
        "outputId": "2ee11c0f-1360-4267-b8ef-f0fb8572bda3",
        "colab": {
          "base_uri": "https://localhost:8080/"
        }
      },
      "source": [
        "# YOUR CODE HERE\n",
        "def check_prime(n):\n",
        "  if n == 1:\n",
        "    return False\n",
        "  elif n == 2:\n",
        "    return True\n",
        "  else:\n",
        "    for i in range(2,n):\n",
        "      if n%i == 0:\n",
        "        return False\n",
        "      else:\n",
        "        return True\n",
        "\n",
        "print(check_prime(22))\n"
      ],
      "execution_count": 17,
      "outputs": [
        {
          "output_type": "stream",
          "name": "stdout",
          "text": [
            "False\n"
          ]
        }
      ]
    },
    {
      "cell_type": "markdown",
      "metadata": {
        "id": "nToRRcBV2eZL"
      },
      "source": [
        "### Hyphen-separated\n"
      ]
    },
    {
      "cell_type": "markdown",
      "source": [
        "Write a function `sort_hyphen` that accepts a hyphen-separated string of words as input and returns the words in a hyphen-separated string after sorting them alphabetically.\n",
        "\n",
        "*Example:*\n",
        "```python\n",
        ">>> s = 'green-red-yellow-black-white'\n",
        ">>> print(sort_hyphen(s))\n",
        "black-green-red-white-yellow\n",
        "\n",
        ">>> s = 'hi-hello-welcome-greetings'\n",
        ">>> print(sort_hyphen(s))\n",
        "greetings-hello-hi-welcome\n",
        "\n",
        ">>> s = 'green_red_yellow_black_white'\n",
        ">>> print(sort_hyphen(s))\n",
        "green_red_yellow_black_white\n",
        "```\n",
        "\n",
        "*Hint: use string  [`split()`](https://www.w3schools.com/python/ref_string_split.asp), list [`sort()`](https://www.w3schools.com/python/ref_list_sort.asp) and [`join()`](https://www.w3schools.com/python/ref_string_join.asp)*"
      ],
      "metadata": {
        "id": "YfcSh3OFxyel"
      }
    },
    {
      "cell_type": "code",
      "metadata": {
        "id": "sbyPZsjm7Ccu",
        "outputId": "73d8ee4f-2e98-447f-dfc3-10f25e568eae",
        "colab": {
          "base_uri": "https://localhost:8080/"
        }
      },
      "source": [
        "# YOUR CODE HERE\n",
        "s = 'green-red-yellow-black-white'\n",
        "\n",
        "def sort_hyphen(s):\n",
        "  new_string = s.split(\"-\")\n",
        "  new_string.sort()\n",
        "  new_string = (\"-\").join(new_string)\n",
        "  return new_string\n",
        "print(sort_hyphen(s))"
      ],
      "execution_count": 30,
      "outputs": [
        {
          "output_type": "stream",
          "name": "stdout",
          "text": [
            "black-green-red-white-yellow\n"
          ]
        }
      ]
    },
    {
      "cell_type": "markdown",
      "metadata": {
        "id": "Y0vTIFug2eZM"
      },
      "source": [
        "### Inner functions\n"
      ]
    },
    {
      "cell_type": "markdown",
      "source": [
        "Create two functions, `my_sum` and`add_5`, to calculate a custom operation in this way:\n",
        "\n",
        "1. The function `my_sum` accepts two numbers, and return their sum.\n",
        "2. The function `add_5` takes two numbers, and return their sum plus 5. You must use `my_sum` inside this function.\n",
        "\n",
        "*Example:*\n",
        "```python\n",
        ">>> print(add_5(2,4))\n",
        "11\n",
        ">>> print(add_5(1,1))\n",
        "7\n",
        ">>> print(add_5(2.5,8.43))\n",
        "15.93\n",
        "```"
      ],
      "metadata": {
        "id": "lQQKsKCOx0D9"
      }
    },
    {
      "cell_type": "code",
      "metadata": {
        "id": "4AO1ihto7C0H",
        "outputId": "a680f3d0-cf8d-428e-8e84-3d2565e0a590",
        "colab": {
          "base_uri": "https://localhost:8080/"
        }
      },
      "source": [
        "# YOUR CODE HERE\n",
        "def my_sum(a,b):\n",
        "  result = a + b\n",
        "  return result\n",
        "\n",
        "def add_5(a,b):\n",
        "  result = my_sum(a,b) + 5\n",
        "  return result\n",
        "\n",
        "print(add_5(2,4))"
      ],
      "execution_count": 31,
      "outputs": [
        {
          "output_type": "stream",
          "name": "stdout",
          "text": [
            "11\n"
          ]
        }
      ]
    }
  ]
}