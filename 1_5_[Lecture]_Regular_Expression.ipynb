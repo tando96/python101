{
  "nbformat": 4,
  "nbformat_minor": 0,
  "metadata": {
    "colab": {
      "provenance": [],
      "include_colab_link": true
    },
    "kernelspec": {
      "display_name": "Python 3",
      "name": "python3"
    }
  },
  "cells": [
    {
      "cell_type": "markdown",
      "metadata": {
        "id": "view-in-github",
        "colab_type": "text"
      },
      "source": [
        "<a href=\"https://colab.research.google.com/github/tando96/python101/blob/main/1_5_%5BLecture%5D_Regular_Expression.ipynb\" target=\"_parent\"><img src=\"https://colab.research.google.com/assets/colab-badge.svg\" alt=\"Open In Colab\"/></a>"
      ]
    },
    {
      "cell_type": "markdown",
      "metadata": {
        "id": "lIYdn1woOS1n"
      },
      "source": [
        "# REGULAR EXPRESSION"
      ]
    },
    {
      "cell_type": "markdown",
      "metadata": {
        "id": "d7xZPEnLsnYz"
      },
      "source": [
        "Regular Expressions, often shortened as regex, are a sequence of characters used to ***extract*** or ***check*** whether a **pattern exists in a given text (string) or not**.\n",
        "\n",
        "They are used at the server side to validate for example the format of email addresses or passwords during registration, used for parsing text data files to find, replace, or delete certain string, etc.\n",
        "\n",
        "[Example](https://raw.githubusercontent.com/anhquan0412/dataset/main/sample_text.txt)"
      ]
    },
    {
      "cell_type": "markdown",
      "metadata": {
        "id": "k0Zg2e7Osuy_"
      },
      "source": [
        "Very common use case of regular expression\n",
        "- Password validation\n",
        "- Email validation\n",
        "- Valid date format\n",
        "- Empty string validation\n",
        "- Phone number/Credit card number validation\n",
        "- ...\n",
        "\n",
        "\n",
        "![](https://imgs.xkcd.com/comics/regular_expressions.png)\n"
      ]
    },
    {
      "cell_type": "markdown",
      "metadata": {
        "id": "ju1R24vIuW0B"
      },
      "source": [
        "\n",
        "In conclusion: Regular expression helps in manipulating textual data, which is often a prerequisite for **data science projects involving text mining**."
      ]
    },
    {
      "cell_type": "markdown",
      "metadata": {
        "id": "6Zl7Qyd3y3pe"
      },
      "source": [
        "## 📖 PYTHON ``re`` MODULE"
      ]
    },
    {
      "cell_type": "markdown",
      "metadata": {
        "id": "3IU-rZfvwhEB"
      },
      "source": [
        "The **re library** in Python provides several functions that make it a skill worth mastering. You will see some of them closely in this tutorial."
      ]
    },
    {
      "cell_type": "markdown",
      "metadata": {
        "id": "r4shUmu2GjEb"
      },
      "source": [
        "### re.search()"
      ]
    },
    {
      "cell_type": "markdown",
      "metadata": {
        "id": "-sOrMDk33OnP"
      },
      "source": [
        "**`re.search(pattern, string)`**\n",
        "- Scan through string looking for the ***first matched*** location\n",
        "- Return a corresponding **match object**.\n",
        "- Return None if no position in the string matches the pattern\n"
      ]
    },
    {
      "cell_type": "code",
      "metadata": {
        "id": "lNmuU_NkzHOi"
      },
      "source": [
        "import re"
      ],
      "execution_count": null,
      "outputs": []
    },
    {
      "cell_type": "code",
      "metadata": {
        "id": "A7lqtsQ80PY9",
        "colab": {
          "base_uri": "https://localhost:8080/"
        },
        "outputId": "f358ad0b-385b-487a-fb68-fabac702b475"
      },
      "source": [
        "pattern = r\"cookie\"\n",
        "string = \"In this cookie store we sell cookie\"\n",
        "\n",
        "match_obj = re.search(pattern, string)\n",
        "match_obj"
      ],
      "execution_count": null,
      "outputs": [
        {
          "output_type": "execute_result",
          "data": {
            "text/plain": [
              "<re.Match object; span=(8, 14), match='cookie'>"
            ]
          },
          "metadata": {},
          "execution_count": 20
        }
      ]
    },
    {
      "cell_type": "markdown",
      "metadata": {
        "id": "o8HbCMFMo6N0"
      },
      "source": [
        "**.group()** from the match object returns the **matched part**"
      ]
    },
    {
      "cell_type": "code",
      "metadata": {
        "id": "0ekc_oXa0i1b",
        "colab": {
          "base_uri": "https://localhost:8080/",
          "height": 35
        },
        "outputId": "60213ecf-ebc1-4a79-bb3a-0ba4d92753b8"
      },
      "source": [
        "match_obj.group()"
      ],
      "execution_count": null,
      "outputs": [
        {
          "output_type": "execute_result",
          "data": {
            "text/plain": [
              "'cookie'"
            ],
            "application/vnd.google.colaboratory.intrinsic+json": {
              "type": "string"
            }
          },
          "metadata": {},
          "execution_count": 21
        }
      ]
    },
    {
      "cell_type": "markdown",
      "metadata": {
        "id": "KlAT_gQyoHS5"
      },
      "source": [
        "**.span()** returns a tuple containing the start and end positions of the match."
      ]
    },
    {
      "cell_type": "code",
      "metadata": {
        "id": "9K8eH8zRo0_Q",
        "colab": {
          "base_uri": "https://localhost:8080/"
        },
        "outputId": "0c57ea89-54ca-4d22-f394-fa176453a926"
      },
      "source": [
        "match_obj.span()"
      ],
      "execution_count": null,
      "outputs": [
        {
          "output_type": "execute_result",
          "data": {
            "text/plain": [
              "(8, 14)"
            ]
          },
          "metadata": {},
          "execution_count": 22
        }
      ]
    },
    {
      "cell_type": "markdown",
      "source": [
        "### **`re.findall()`**"
      ],
      "metadata": {
        "id": "WT50ZSO4mR0o"
      }
    },
    {
      "cell_type": "markdown",
      "metadata": {
        "id": "vhAmXYTf-xkZ"
      },
      "source": [
        "You can use findall to return multiple matches\n",
        "\n",
        "\n",
        "**`re.findall(pattern, string)`**\n",
        "- Return all **non-overlapping matches** of pattern in string, as a ***list*** of strings.\n",
        "- The string is scanned **left-to-right**, and matches are returned in the order found. If one or more groups are present in the pattern, return a list of groups; this will be a list\n",
        "of tuples if the pattern has more than one group. Empty matches are included in the result.\n"
      ]
    },
    {
      "cell_type": "code",
      "source": [
        "pattern = r\"pop\"\n",
        "string = \"In this popop store we sell pop\"  # overlapping match\n",
        "\n",
        "match_obj = re.findall(pattern, string)\n",
        "match_obj"
      ],
      "metadata": {
        "colab": {
          "base_uri": "https://localhost:8080/"
        },
        "id": "AdSGeqYFm90R",
        "outputId": "95e2baaf-7e04-489f-e0b9-6056a5906727"
      },
      "execution_count": null,
      "outputs": [
        {
          "output_type": "execute_result",
          "data": {
            "text/plain": [
              "['pop', 'pop']"
            ]
          },
          "metadata": {},
          "execution_count": 23
        }
      ]
    },
    {
      "cell_type": "markdown",
      "source": [
        "### Group with ()"
      ],
      "metadata": {
        "id": "EAVbNaqirv-7"
      }
    },
    {
      "cell_type": "markdown",
      "metadata": {
        "id": "Gx0IVEM3GBal"
      },
      "source": [
        "You can use parenthesis `()` to extract a sub-match (group) of a whole match.\n",
        "\n",
        "To extract this sub-match, use **.group(index)** or **.groups()** syntax from **match object**"
      ]
    },
    {
      "cell_type": "code",
      "source": [
        "pattern = r\"(091)(2345678)\"\n",
        "string = \"Always Be Learning at 0912345678\"\n",
        "\n",
        "match_obj = re.search(pattern, string)\n",
        "match_obj.group()"
      ],
      "metadata": {
        "colab": {
          "base_uri": "https://localhost:8080/",
          "height": 35
        },
        "id": "9lHvffp2r9qo",
        "outputId": "0517d308-b35b-449a-84f3-e201e0a4624a"
      },
      "execution_count": null,
      "outputs": [
        {
          "output_type": "execute_result",
          "data": {
            "text/plain": [
              "'0912345678'"
            ],
            "application/vnd.google.colaboratory.intrinsic+json": {
              "type": "string"
            }
          },
          "metadata": {},
          "execution_count": 24
        }
      ]
    },
    {
      "cell_type": "code",
      "source": [
        "match_obj.group(1)  # index start from 1"
      ],
      "metadata": {
        "colab": {
          "base_uri": "https://localhost:8080/",
          "height": 35
        },
        "id": "Rp5Ss9TdtWo3",
        "outputId": "a3fcb322-1c25-4196-bbd1-6407c7962ea3"
      },
      "execution_count": null,
      "outputs": [
        {
          "output_type": "execute_result",
          "data": {
            "text/plain": [
              "'091'"
            ],
            "application/vnd.google.colaboratory.intrinsic+json": {
              "type": "string"
            }
          },
          "metadata": {},
          "execution_count": 25
        }
      ]
    },
    {
      "cell_type": "code",
      "source": [
        "match_obj.groups()[0]"
      ],
      "metadata": {
        "colab": {
          "base_uri": "https://localhost:8080/",
          "height": 35
        },
        "id": "CPXDWtR7s112",
        "outputId": "bbbca20f-4bf9-4d6b-a51d-7b6a9eb9875b"
      },
      "execution_count": null,
      "outputs": [
        {
          "output_type": "execute_result",
          "data": {
            "text/plain": [
              "'091'"
            ],
            "application/vnd.google.colaboratory.intrinsic+json": {
              "type": "string"
            }
          },
          "metadata": {},
          "execution_count": 26
        }
      ]
    },
    {
      "cell_type": "markdown",
      "source": [
        "### re.sub() to replace"
      ],
      "metadata": {
        "id": "qXah-MhWu6Ba"
      }
    },
    {
      "cell_type": "markdown",
      "metadata": {
        "id": "Tx2MESyJcMGg"
      },
      "source": [
        "**`re.sub(pattern, repl, string)`**\n",
        "Return the string obtained by replacing the **leftmost** non-overlapping occurrences of pattern\n",
        "in string by the replacement repl. If the pattern isn’t found, string is returned unchanged."
      ]
    },
    {
      "cell_type": "code",
      "source": [
        "pattern = r\"Learning\"\n",
        "string = \"Always Be Learning at CoderSchool\"\n",
        "\n",
        "result = re.sub(pattern, r\"********\", string)\n",
        "result"
      ],
      "metadata": {
        "colab": {
          "base_uri": "https://localhost:8080/",
          "height": 35
        },
        "id": "LvYppK2Tw1bu",
        "outputId": "3edea41f-bf8b-430c-a331-869cb00f31fd"
      },
      "execution_count": null,
      "outputs": [
        {
          "output_type": "execute_result",
          "data": {
            "text/plain": [
              "'Always Be ******** at CoderSchool'"
            ],
            "application/vnd.google.colaboratory.intrinsic+json": {
              "type": "string"
            }
          },
          "metadata": {},
          "execution_count": 27
        }
      ]
    },
    {
      "cell_type": "markdown",
      "metadata": {
        "id": "vicuil5ZNmvF"
      },
      "source": [
        "📖 You can also keep the sub-match using literal string: **\\position**\n",
        "- \\1: keep the first group\n",
        "- \\2: keep the second group\n",
        "- ...\n"
      ]
    },
    {
      "cell_type": "code",
      "source": [
        "pattern = r\"(Coder)(School)\"\n",
        "string = \"Always Be Learning at CoderSchool\"\n",
        "\n",
        "result = re.sub(pattern, r\"\\2\\1\", string)\n",
        "result"
      ],
      "metadata": {
        "colab": {
          "base_uri": "https://localhost:8080/",
          "height": 35
        },
        "id": "sTjp5vCIx8aX",
        "outputId": "b202d368-158c-48ba-bbe7-9490088cf7db"
      },
      "execution_count": null,
      "outputs": [
        {
          "output_type": "execute_result",
          "data": {
            "text/plain": [
              "'Always Be Learning at SchoolCoder'"
            ],
            "application/vnd.google.colaboratory.intrinsic+json": {
              "type": "string"
            }
          },
          "metadata": {},
          "execution_count": 28
        }
      ]
    },
    {
      "cell_type": "code",
      "source": [
        "pattern = r\"(Coder)(School)\"\n",
        "string = \"Always Be Learning at CoderSchool\"\n",
        "\n",
        "result = re.sub(pattern, r\"\\1X\", string)\n",
        "result"
      ],
      "metadata": {
        "colab": {
          "base_uri": "https://localhost:8080/",
          "height": 35
        },
        "outputId": "1c65fcbe-2af1-4bdd-f3f1-7b5a73b5d8ab",
        "id": "swapwyqP5ADv"
      },
      "execution_count": null,
      "outputs": [
        {
          "output_type": "execute_result",
          "data": {
            "text/plain": [
              "'Always Be Learning at CoderX'"
            ],
            "application/vnd.google.colaboratory.intrinsic+json": {
              "type": "string"
            }
          },
          "metadata": {},
          "execution_count": 29
        }
      ]
    },
    {
      "cell_type": "markdown",
      "source": [
        "### **`r`** - raw string literal"
      ],
      "metadata": {
        "id": "arHwdXCrmDno"
      }
    },
    {
      "cell_type": "markdown",
      "metadata": {
        "id": "zEz2cJyk1NoW"
      },
      "source": [
        "🌟 What is ``r`` at the start of the pattern?\n",
        "This is called a **raw string literal**.\n",
        "\n",
        "To ***interpreted an [escape character](https://www.w3schools.com/python/gloss_python_escape_characters.asp) as it is***, you should use the ``r`` prefix."
      ]
    },
    {
      "cell_type": "code",
      "metadata": {
        "id": "2XnkM0SW1U9P",
        "colab": {
          "base_uri": "https://localhost:8080/"
        },
        "outputId": "db2d81bf-c4d3-4477-f876-09c011790755"
      },
      "source": [
        "pattern = \"A word \\t Another word \\n A new line\"\n",
        "print(pattern)"
      ],
      "execution_count": null,
      "outputs": [
        {
          "output_type": "stream",
          "name": "stdout",
          "text": [
            "A word \t Another word \n",
            " A new line\n"
          ]
        }
      ]
    },
    {
      "cell_type": "code",
      "metadata": {
        "id": "MwY6EmXL_pRz",
        "colab": {
          "base_uri": "https://localhost:8080/"
        },
        "outputId": "2ab6b353-ef7b-46bb-8c07-389c426e25d1"
      },
      "source": [
        "pattern = r\"A word \\t Another word \\n A new line\"\n",
        "print(pattern)"
      ],
      "execution_count": null,
      "outputs": [
        {
          "output_type": "stream",
          "name": "stdout",
          "text": [
            "A word \\t Another word \\n A new line\n"
          ]
        }
      ]
    },
    {
      "cell_type": "markdown",
      "metadata": {
        "id": "QaQ1fUGF2NJ-"
      },
      "source": [
        "## 📝 WILDCARD CHARACTERS"
      ]
    },
    {
      "cell_type": "markdown",
      "metadata": {
        "id": "QAqhntKb2SHF"
      },
      "source": [
        "The following table lists a few of these characters that are commonly useful:\n",
        "\n",
        "|Character classes||Quantifiers & Alternation||\n",
        "|--- |--- |--- |--- |\n",
        "|.|any character except newline|a* a+ a?|0 or more a / 1 or more a / 0 or 1 a|\n",
        "|\\w \\d \\s|word / digit / whitespace|a{5} a{2,}|exactly five, two or more|\n",
        "|\\W \\D \\S|not word / not digit / not whitespace|a{1,3}|between one & three|\n",
        "|[abc]|any of a, b, or c|a+? a{2,}?|match as few as possible (non-greedy)|\n",
        "|[^abc]|not a, b, or c|(cat\\|dog)|match 'cat' or 'dog'|\n",
        "|[a-g]|character between a & g|||\n",
        "|**Anchors**||**Escaped characters**||\n",
        "|^abc$|start / end of the string|\\. \\* \\\\|\\ is used to escape special chars. \\* matches *|\n",
        "|\\b|word boundary|\\t \\n \\r|tab, linefeed, carriage return|\n",
        "\n",
        "\n",
        "**Note**: \\w (word character) matches any **single letter**, **number** or **underscore** (same as [a-zA-Z0-9_] )\n",
        "\n",
        "\n",
        "| Character | Description | Example |\n",
        "|------------|-----------|------------|\n",
        "| ? | Match zero or one repetitions of preceding |  \"ab?\" matches \"a\" or \"ab\" |\n",
        "| * | Match zero or more repetitions of preceding | \"ab*\" matches \"a\", \"ab\", \"abb\", \"abbb\"... |\n",
        "| + | Match one or more repetitions of preceding |  \"ab+\" matches \"ab\", \"abb\", \"abbb\"... but not \"a\" |\n",
        "| {n} | Match n repetitions of preceding | \"ab{2}\" matches \"abb\" |\n",
        "| {m,n} | Match between m and n repetitions of preceding |  \"ab{2,3}\" matches \"abb\" or \"abbb\" |\n",
        "\n"
      ]
    },
    {
      "cell_type": "markdown",
      "metadata": {
        "id": "vnV7mvzQ4nhz"
      },
      "source": [
        "## 🏃🏻‍♂️ EXAMPLE: PHONE NUMBER VALIDATION (US)\n"
      ]
    },
    {
      "cell_type": "markdown",
      "metadata": {
        "id": "iS0e_o3daZ8l"
      },
      "source": [
        "### Read a text file in Python"
      ]
    },
    {
      "cell_type": "markdown",
      "source": [
        "Let's first download a file to Colab"
      ],
      "metadata": {
        "id": "41MOJL1ohn0f"
      }
    },
    {
      "cell_type": "code",
      "metadata": {
        "id": "IH4f_o0ZdS-j"
      },
      "source": [
        "!wget -q -c https://raw.githubusercontent.com/anhquan0412/dataset/main/sample_text.txt"
      ],
      "execution_count": 1,
      "outputs": []
    },
    {
      "cell_type": "markdown",
      "metadata": {
        "id": "5xtku9bre1ki"
      },
      "source": [
        "☘️ How can you read a text file line by line?"
      ]
    },
    {
      "cell_type": "code",
      "metadata": {
        "id": "Dayhzh7jexFn",
        "colab": {
          "base_uri": "https://localhost:8080/"
        },
        "outputId": "2e340ccb-1e93-41b6-b90e-860f97797250"
      },
      "source": [
        "with open(\"sample_text.txt\") as f:\n",
        "    sequences = []\n",
        "    for line in f:\n",
        "        sequences.append(line.strip())\n",
        "\n",
        "sequences"
      ],
      "execution_count": 2,
      "outputs": [
        {
          "output_type": "execute_result",
          "data": {
            "text/plain": [
              "['This is my phone number 2816837760.',\n",
              " 'I am at 123 Main street, NY 10010, phone number is 2816837760, but I have an alternative: 2811234567.',\n",
              " 'This is another phone format: 281-683-7760.']"
            ]
          },
          "metadata": {},
          "execution_count": 2
        }
      ]
    },
    {
      "cell_type": "markdown",
      "metadata": {
        "id": "IAJzxNzbfA8B"
      },
      "source": [
        "**Optional**: Using file readlines()"
      ]
    },
    {
      "cell_type": "code",
      "metadata": {
        "id": "zj9kaOk3dW2N",
        "colab": {
          "base_uri": "https://localhost:8080/"
        },
        "outputId": "871f5807-7959-48aa-d316-11a4ef827ed9"
      },
      "source": [
        "with open(\"sample_text.txt\") as f:\n",
        "    sequences = f.readlines()\n",
        "\n",
        "print(sequences)"
      ],
      "execution_count": null,
      "outputs": [
        {
          "output_type": "stream",
          "name": "stdout",
          "text": [
            "['This is my phone number 2816837760.\\n', 'I am at 123 Main street, NY 10010, phone number is 2816837760, but I have an alternative: 2811234567.\\n', 'This is another phone format: 281-683-7760.\\n']\n"
          ]
        }
      ]
    },
    {
      "cell_type": "code",
      "metadata": {
        "id": "UkQ1q7sgeZRZ",
        "colab": {
          "base_uri": "https://localhost:8080/"
        },
        "outputId": "5ca9dc7d-2086-4e5e-8a07-e01c40813716"
      },
      "source": [
        "# but you have to strip the new line character\n",
        "for i in range(len(sequences)):\n",
        "    sequences[i] = sequences[i].strip()\n",
        "\n",
        "print(sequences)"
      ],
      "execution_count": null,
      "outputs": [
        {
          "output_type": "stream",
          "name": "stdout",
          "text": [
            "['This is my phone number 2816837760.', 'I am at 123 Main street, NY 10010, phone number is 2816837760, but I have an alternative: 2811234567.', 'This is another phone format: 281-683-7760.']\n"
          ]
        }
      ]
    },
    {
      "cell_type": "markdown",
      "metadata": {
        "id": "r_V4MQVAgblL"
      },
      "source": [
        "### Design a regex pattern"
      ]
    },
    {
      "cell_type": "markdown",
      "source": [
        "❓Find whether **there is a phone number** in the 1st sentence"
      ],
      "metadata": {
        "id": "mtNUG3LWvWgz"
      }
    },
    {
      "cell_type": "code",
      "metadata": {
        "colab": {
          "base_uri": "https://localhost:8080/",
          "height": 35
        },
        "id": "3Dxw4-8Jj45j",
        "outputId": "669bb61d-2c1e-4b41-a1bf-1053884ffa24"
      },
      "source": [
        "sequences[0]"
      ],
      "execution_count": null,
      "outputs": [
        {
          "output_type": "execute_result",
          "data": {
            "text/plain": [
              "'This is my phone number 2816837760.'"
            ],
            "application/vnd.google.colaboratory.intrinsic+json": {
              "type": "string"
            }
          },
          "metadata": {},
          "execution_count": 35
        }
      ]
    },
    {
      "cell_type": "code",
      "metadata": {
        "id": "KoRZd4kj6TsY",
        "colab": {
          "base_uri": "https://localhost:8080/",
          "height": 35
        },
        "outputId": "df94f712-dabd-42f2-8b9e-948ab60bf9a6"
      },
      "source": [
        "pattern = r\"\\d\\d\\d\\d\\d\\d\\d\\d\\d\\d\"\n",
        "\n",
        "match_obj = re.search(pattern, sequences[0])\n",
        "match_obj.group()"
      ],
      "execution_count": null,
      "outputs": [
        {
          "output_type": "execute_result",
          "data": {
            "text/plain": [
              "'2816837760'"
            ],
            "application/vnd.google.colaboratory.intrinsic+json": {
              "type": "string"
            }
          },
          "metadata": {},
          "execution_count": 36
        }
      ]
    },
    {
      "cell_type": "markdown",
      "metadata": {
        "id": "rsjuVJ0B-wm5"
      },
      "source": [
        "The pattern above is good but repetitive. We can write better matching pattern."
      ]
    },
    {
      "cell_type": "code",
      "metadata": {
        "id": "5FjyZKiy_WpO",
        "colab": {
          "base_uri": "https://localhost:8080/",
          "height": 35
        },
        "outputId": "83412d26-cdcf-45f7-eb7e-882d0de81553"
      },
      "source": [
        "pattern = r\"\\d{10}\"\n",
        "\n",
        "match_obj = re.search(pattern, sequences[0])\n",
        "match_obj.group()"
      ],
      "execution_count": null,
      "outputs": [
        {
          "output_type": "execute_result",
          "data": {
            "text/plain": [
              "'2816837760'"
            ],
            "application/vnd.google.colaboratory.intrinsic+json": {
              "type": "string"
            }
          },
          "metadata": {},
          "execution_count": 41
        }
      ]
    },
    {
      "cell_type": "markdown",
      "source": [
        "❓ Extract **all** phone numbers from the 2nd sentence"
      ],
      "metadata": {
        "id": "yi14C13wvPNZ"
      }
    },
    {
      "cell_type": "code",
      "metadata": {
        "id": "O-ZhehuSCchi",
        "colab": {
          "base_uri": "https://localhost:8080/",
          "height": 35
        },
        "outputId": "e1429092-dde2-4b00-8b15-3c459c6445c5"
      },
      "source": [
        "sequences[1]"
      ],
      "execution_count": null,
      "outputs": [
        {
          "output_type": "execute_result",
          "data": {
            "text/plain": [
              "'I am at 123 Main street, NY 10010, phone number is 2816837760, but I have an alternative: 2811234567.'"
            ],
            "application/vnd.google.colaboratory.intrinsic+json": {
              "type": "string"
            }
          },
          "metadata": {},
          "execution_count": 42
        }
      ]
    },
    {
      "cell_type": "code",
      "metadata": {
        "id": "rcVkT4QX-RGI",
        "colab": {
          "base_uri": "https://localhost:8080/"
        },
        "outputId": "e80981e3-0d16-4f83-e051-2cc8a10b38dd"
      },
      "source": [
        "match_list = re.findall(pattern, sequences[1])\n",
        "match_list"
      ],
      "execution_count": null,
      "outputs": [
        {
          "output_type": "execute_result",
          "data": {
            "text/plain": [
              "['2816837760', '2811234567']"
            ]
          },
          "metadata": {},
          "execution_count": 43
        }
      ]
    },
    {
      "cell_type": "markdown",
      "source": [
        "🤔 Extract the **last 4 digits** of the following phone number?"
      ],
      "metadata": {
        "id": "9fAaTt4-pZ-P"
      }
    },
    {
      "cell_type": "code",
      "metadata": {
        "id": "_c_j5FUnDUsw",
        "colab": {
          "base_uri": "https://localhost:8080/",
          "height": 35
        },
        "outputId": "b2cb961a-08b1-4750-e9d8-ad52f17dccaf"
      },
      "source": [
        "sequences[2]"
      ],
      "execution_count": null,
      "outputs": [
        {
          "output_type": "execute_result",
          "data": {
            "text/plain": [
              "'This is another phone format: 281-683-7760.'"
            ],
            "application/vnd.google.colaboratory.intrinsic+json": {
              "type": "string"
            }
          },
          "metadata": {},
          "execution_count": 44
        }
      ]
    },
    {
      "cell_type": "code",
      "metadata": {
        "id": "2LFDmh6kGKIs",
        "colab": {
          "base_uri": "https://localhost:8080/",
          "height": 35
        },
        "outputId": "81328a17-f308-4228-8e3d-3a6e2db71b89"
      },
      "source": [
        "pattern = r\"(\\d{3})-(\\d{3})-(\\d{4})\"\n",
        "\n",
        "match_obj = re.search(pattern, sequences[2])\n",
        "match_obj.group()"
      ],
      "execution_count": null,
      "outputs": [
        {
          "output_type": "execute_result",
          "data": {
            "text/plain": [
              "'281-683-7760'"
            ],
            "application/vnd.google.colaboratory.intrinsic+json": {
              "type": "string"
            }
          },
          "metadata": {},
          "execution_count": 45
        }
      ]
    },
    {
      "cell_type": "code",
      "source": [
        "match_obj.group(3)"
      ],
      "metadata": {
        "colab": {
          "base_uri": "https://localhost:8080/",
          "height": 35
        },
        "id": "Tu1I3XFV8413",
        "outputId": "abe0bfb7-81c5-4986-9053-ed5791f04bcb"
      },
      "execution_count": null,
      "outputs": [
        {
          "output_type": "execute_result",
          "data": {
            "text/plain": [
              "'7760'"
            ],
            "application/vnd.google.colaboratory.intrinsic+json": {
              "type": "string"
            }
          },
          "metadata": {},
          "execution_count": 46
        }
      ]
    },
    {
      "cell_type": "code",
      "metadata": {
        "id": "PwZ-SQnpHN4l",
        "colab": {
          "base_uri": "https://localhost:8080/",
          "height": 35
        },
        "outputId": "50449dfb-0ef2-428b-bc2c-3c1360ae8f70"
      },
      "source": [
        "match_obj.groups()[2]"
      ],
      "execution_count": null,
      "outputs": [
        {
          "output_type": "execute_result",
          "data": {
            "text/plain": [
              "'7760'"
            ],
            "application/vnd.google.colaboratory.intrinsic+json": {
              "type": "string"
            }
          },
          "metadata": {},
          "execution_count": 47
        }
      ]
    },
    {
      "cell_type": "markdown",
      "metadata": {
        "id": "xhCUQs6qZNkI"
      },
      "source": [
        "😎 Hide phone numbers with ****"
      ]
    },
    {
      "cell_type": "code",
      "metadata": {
        "id": "fb_MAxUwKVbT",
        "colab": {
          "base_uri": "https://localhost:8080/",
          "height": 35
        },
        "outputId": "5371490e-e2e4-4935-b79a-f9b41fb48bac"
      },
      "source": [
        "sequences[1]"
      ],
      "execution_count": null,
      "outputs": [
        {
          "output_type": "execute_result",
          "data": {
            "text/plain": [
              "'I am at 123 Main street, NY 10010, phone number is 2816837760, but I have an alternative: 2811234567.'"
            ],
            "application/vnd.google.colaboratory.intrinsic+json": {
              "type": "string"
            }
          },
          "metadata": {},
          "execution_count": 48
        }
      ]
    },
    {
      "cell_type": "code",
      "metadata": {
        "id": "TxkIeU-nahix",
        "colab": {
          "base_uri": "https://localhost:8080/",
          "height": 35
        },
        "outputId": "c3858bea-db33-4045-8865-d0b57b7963ef"
      },
      "source": [
        "pattern = r\"\\d{10}\"\n",
        "\n",
        "result = re.sub(pattern, r\"**********\", sequences[1])\n",
        "result"
      ],
      "execution_count": null,
      "outputs": [
        {
          "output_type": "execute_result",
          "data": {
            "text/plain": [
              "'I am at 123 Main street, NY 10010, phone number is **********, but I have an alternative: **********.'"
            ],
            "application/vnd.google.colaboratory.intrinsic+json": {
              "type": "string"
            }
          },
          "metadata": {},
          "execution_count": 49
        }
      ]
    },
    {
      "cell_type": "markdown",
      "source": [
        "❓Hide the first 3 digits only"
      ],
      "metadata": {
        "id": "M9sUhoQxxiWc"
      }
    },
    {
      "cell_type": "code",
      "metadata": {
        "id": "z08V6jMuLhdA",
        "colab": {
          "base_uri": "https://localhost:8080/"
        },
        "outputId": "186370f9-e610-4682-ee3b-2a4f0f6cad02"
      },
      "source": [
        "pattern = r\"(\\d{3})(\\d{7})\"\n",
        "\n",
        "result = re.sub(pattern, r\"***\\2\", sequences[1])\n",
        "print(result)"
      ],
      "execution_count": null,
      "outputs": [
        {
          "output_type": "stream",
          "name": "stdout",
          "text": [
            "I am at 123 Main street, NY 10010, phone number is ***6837760, but I have an alternative: ***1234567.\n"
          ]
        }
      ]
    },
    {
      "cell_type": "markdown",
      "metadata": {
        "id": "8L1FqU25hGaZ"
      },
      "source": [
        "## 🏃🏻‍♂️🏃🏻‍♂️ PRACTICE TIME!"
      ]
    },
    {
      "cell_type": "markdown",
      "metadata": {
        "id": "_uXiBwtnhIyK"
      },
      "source": [
        "Regular Expression might be overwhelming as you have to remember those wildcard characters and know how to apply them to your application. That's why there are a lot of resources for you to write and test your regular expression patterns. No matter what you do, to use regular expression well, you need to **practice**!\n",
        "\n",
        "Some useful links:\n",
        "- To practice regular expression\n",
        "[https://regexone.com/lesson/introduction_abcs](https://regexone.com/lesson/introduction_abcs)\n",
        "- To check your regular expression pattern [https://regex101.com/](https://regex101.com/)\n",
        "- To read more about regex https://medium.com/factory-mind/regex-tutorial-a-simple-cheatsheet-by-examples-649dc1c3f285\n"
      ]
    },
    {
      "cell_type": "markdown",
      "source": [
        "👇 Regex can look very complex but actually not hard to understand 👌?"
      ],
      "metadata": {
        "id": "P6n1TnxP2wIH"
      }
    },
    {
      "cell_type": "markdown",
      "source": [
        "![](https://imgur.com/l3T65Q1.png)"
      ],
      "metadata": {
        "id": "tEy5QIU12jmx"
      }
    }
  ]
}