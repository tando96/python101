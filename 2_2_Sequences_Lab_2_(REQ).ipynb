{
  "nbformat": 4,
  "nbformat_minor": 0,
  "metadata": {
    "colab": {
      "provenance": [],
      "include_colab_link": true
    },
    "kernelspec": {
      "name": "python3",
      "display_name": "Python 3"
    }
  },
  "cells": [
    {
      "cell_type": "markdown",
      "metadata": {
        "id": "view-in-github",
        "colab_type": "text"
      },
      "source": [
        "<a href=\"https://colab.research.google.com/github/tando96/python101/blob/main/2_2_Sequences_Lab_2_(REQ).ipynb\" target=\"_parent\"><img src=\"https://colab.research.google.com/assets/colab-badge.svg\" alt=\"Open In Colab\"/></a>"
      ]
    },
    {
      "cell_type": "markdown",
      "metadata": {
        "id": "zOC9UNC3g71V"
      },
      "source": [
        "![](https://i.imgur.com/0AUxkXt.png)"
      ]
    },
    {
      "cell_type": "markdown",
      "source": [
        "If you don't remember the first step, please click [here](https://learn.coderschool.vn/path-player?courseid=dv-m11-basic-python&unit=dv-m11-basic-python_624537766805eUnit) to review the Lab Guide"
      ],
      "metadata": {
        "id": "dN_XdK7VEiC3"
      }
    },
    {
      "cell_type": "markdown",
      "metadata": {
        "id": "mg1B_Nm2RnCs"
      },
      "source": [
        "# **SEQUENCES LAB 2**\n",
        "\n",
        "> ***NOTE: Some exercises below may be collected from an interview with big tech companies, like FAANG (Facebook, Amazon, Apple, Netflix, Google) and others like Microsoft, etc. Be sure to have a try!***\n",
        "\n",
        "![](https://opensource.com/sites/default/files/lead-images/python_programming_question.png)\n"
      ]
    },
    {
      "cell_type": "markdown",
      "metadata": {
        "id": "Ux4Xnz7MJeTU"
      },
      "source": [
        "## Captain of the worst team"
      ]
    },
    {
      "cell_type": "markdown",
      "source": [
        "You are analyzing sports teams. Members of each team are stored in a list:\n",
        "- The Coach is the first name in the list\n",
        "- The Captain is the second name in the list\n",
        "- The other players are listed after the previous two names.\n",
        "\n",
        "These lists are stored in another list, which starts with the best team and ends with the worst team.\n",
        "\n",
        "From the list of teams and their members, return the name of the captain of the worst team.\n",
        "\n",
        "*Example #1:*\n",
        "```python\n",
        ">>> L = [['Coach John', 'Cap Crunch', 'Tom', 'Timmy'],   # Best team\n",
        "         ['Coach Jan', 'Cap Alan', 'Bruce', 'Charlie'],  # Second-best team\n",
        "         ['Coach Thomas', 'Cap Chris', 'Tony', 'Peter']] # Worst team\n",
        "         # Given list of teams L\n",
        "Cap Chris # output\n",
        "```\n",
        "\n",
        "*Example #2:*\n",
        "```python\n",
        ">>> L = [['Coach John', 'Cap Crunch', 'Tom', 'Timmy'],   # Best team\n",
        "         ['Coach Mark', 'Cap Joseph', 'Gary', 'Harry'],  # Second-best team\n",
        "         ['Coach Jan', 'Cap Alan', 'Bruce', 'Charlie'],  # Third-best team\n",
        "         ['Coach Thomas', 'Cap Chris', 'Tony', 'Peter'], # Second-worst team\n",
        "         ['Coach Larry', 'Cap Paul', 'Ryan', 'Stanley']] # Worst team\n",
        "         # Given list of teams L\n",
        "Cap Paul # output\n",
        "```"
      ],
      "metadata": {
        "id": "4JpCaocrPs4X"
      }
    },
    {
      "cell_type": "code",
      "metadata": {
        "id": "SZAmPpJlFD0y",
        "colab": {
          "base_uri": "https://localhost:8080/",
          "height": 35
        },
        "outputId": "9ac5a630-c0f4-4636-c854-1265746a4a0d"
      },
      "source": [
        "# Example 1\n",
        "L = [['Coach John', 'Cap Crunch', 'Tom', 'Timmy'],   # Best team\n",
        "     ['Coach Jan', 'Cap Alan', 'Bruce', 'Charlie'],  # Second-best team\n",
        "     ['Coach Thomas', 'Cap Chris', 'Tony', 'Peter']] # Worst team\n",
        "\n",
        "# Example 2\n",
        "# L = [['Coach John', 'Cap Crunch', 'Tom', 'Timmy'],   # Best team\n",
        "#      ['Coach Mark', 'Cap Joseph', 'Gary', 'Harry'],  # Second-best team\n",
        "#      ['Coach Jan', 'Cap Alan', 'Bruce', 'Charlie'],  # Third-best team\n",
        "#      ['Coach Thomas', 'Cap Chris', 'Tony', 'Peter'], # Second-worst team\n",
        "#      ['Coach Larry', 'Cap Paul', 'Ryan', 'Stanley']] # Worst team\n",
        "\n",
        "# YOUR CODE HERE\n",
        "worst_team = L[-1] #find the worst team\n",
        "W_Cap = worst_team[1] #find the cap\n",
        "W_Cap"
      ],
      "execution_count": 4,
      "outputs": [
        {
          "output_type": "execute_result",
          "data": {
            "text/plain": [
              "'Cap Chris'"
            ],
            "application/vnd.google.colaboratory.intrinsic+json": {
              "type": "string"
            }
          },
          "metadata": {},
          "execution_count": 4
        }
      ]
    },
    {
      "cell_type": "markdown",
      "metadata": {
        "id": "YaLDQArNGnlM"
      },
      "source": [
        "## Swapping Racers"
      ]
    },
    {
      "cell_type": "markdown",
      "source": [
        "Given a list of racers in their current positions, modify the list by swapping the first and last racers, and then print it out.\n",
        "\n",
        "*Example #1:*\n",
        "```python\n",
        ">>> racers = ['Mario', 'Bowser', 'Peach', 'Luigi'] # Given list of racers\n",
        "['Luigi', 'Bowser', 'Peach', 'Mario'] # This should be output when printing `racers` after modifying the list\n",
        "```\n",
        "\n",
        "*Example #2:*\n",
        "```python\n",
        ">>> racers = ['Toad', 'Bowser', 'Mario', 'Toadette', 'Peach', 'Daisy', 'Bowser Jr.'] # Given list of racers\n",
        "['Bowser Jr.', 'Bowser', 'Mario', 'Toadette', 'Peach', 'Daisy', 'Toad']# This should be output when printing `racers` after modifying the list\n",
        "```"
      ],
      "metadata": {
        "id": "4TfMOzfGPxKk"
      }
    },
    {
      "cell_type": "code",
      "metadata": {
        "id": "dy4MaJBgGnlM",
        "colab": {
          "base_uri": "https://localhost:8080/"
        },
        "outputId": "053a26a5-3668-4145-b114-de405dcf87b9"
      },
      "source": [
        "# racers = ['Mario', 'Bowser', 'Peach', 'Luigi'] # Example 1\n",
        "racers = ['Toad', 'Bowser', 'Mario', 'Toadette', 'Peach', 'Daisy', 'Bowser Jr.'] # Example 2\n",
        "print('Before purple shell:', racers)\n",
        "\n",
        "# YOUR CODE HERE\n",
        "racers = racers[::-1]\n",
        "print('After purple: ', racers)"
      ],
      "execution_count": 5,
      "outputs": [
        {
          "output_type": "stream",
          "name": "stdout",
          "text": [
            "Before purple shell: ['Toad', 'Bowser', 'Mario', 'Toadette', 'Peach', 'Daisy', 'Bowser Jr.']\n",
            "After purple:  ['Bowser Jr.', 'Daisy', 'Peach', 'Toadette', 'Mario', 'Bowser', 'Toad']\n"
          ]
        }
      ]
    },
    {
      "cell_type": "markdown",
      "metadata": {
        "id": "64DmOKftYGOb"
      },
      "source": [
        "## Fashionably Late"
      ]
    },
    {
      "cell_type": "markdown",
      "source": [
        "We're using a list to record people who attended our party and by what order they arrived in.\n",
        "\n",
        "A guest is considered 'fashionably late' if:\n",
        "1. They arrived after ***at least half*** of the party's guests.\n",
        "2. They were ***not*** the last guest (that's too far).\n",
        "\n",
        "Given a list of names of party guests, print out a list of people who are fashionably late.\n",
        "\n",
        "*Example #1 (odd):*\n",
        "```python\n",
        ">>> guest_list = ['Adela', 'Fleda', 'Owen', 'May', 'Mona', 'Gilbert', 'Ford', 'Adam', 'Misha'] # Given list of party guests\n",
        "['Gilbert', 'Ford', 'Adam'] # output\n",
        "```\n",
        "\n",
        "*Example #2 (even):*\n",
        "```python\n",
        ">>> guest_list = ['Nam', 'Nhu', 'Minh', 'Ly', 'Quang', 'Trang'] # Given list of party guests\n",
        "['Ly', 'Quang'] # output\n",
        "```"
      ],
      "metadata": {
        "id": "fck1t0nMP22Y"
      }
    },
    {
      "cell_type": "code",
      "metadata": {
        "id": "pQg8vQlxYGOo",
        "colab": {
          "base_uri": "https://localhost:8080/"
        },
        "outputId": "a027b97a-087b-49bc-bbc3-0c4af1709ec5"
      },
      "source": [
        "guest_list = ['Adela', 'Fleda', 'Owen', 'May', 'Mona', 'Gilbert', 'Ford', 'Adam', 'Misha'] # Example 1\n",
        "# guest_list = ['Nam', 'Nhu', 'Minh', 'Ly', 'Quang', 'Trang'] # Example 2\n",
        "# YOUR CODE HERE\n",
        "\n",
        "a = round(len(guest_list) / 2)\n",
        "\n",
        "print(guest_list[a:-1])\n"
      ],
      "execution_count": 9,
      "outputs": [
        {
          "output_type": "stream",
          "name": "stdout",
          "text": [
            "['Mona', 'Gilbert', 'Ford', 'Adam']\n"
          ]
        }
      ]
    },
    {
      "cell_type": "markdown",
      "source": [
        "## Even and odd difference (Google)"
      ],
      "metadata": {
        "id": "mAKsZB9r2l7d"
      }
    },
    {
      "cell_type": "markdown",
      "source": [
        "Given a list, find the difference in sum of even- and odd- position elements lying within a range of -100 to 100."
      ],
      "metadata": {
        "id": "ySKZiaKTP43E"
      }
    },
    {
      "cell_type": "code",
      "source": [
        "arr = [1,2,3,4,5,6,7,8,9]\n",
        "# YOUR CODE HERE\n",
        "even = arr[::2] #even index\n",
        "odd = arr[1::2] #odd index\n",
        "\n",
        "print(sum(even))\n",
        "print(sum(odd))\n"
      ],
      "metadata": {
        "id": "-gZEDtD420F9",
        "colab": {
          "base_uri": "https://localhost:8080/"
        },
        "outputId": "77145a60-a11b-4609-f5aa-7dc5fb748f7b"
      },
      "execution_count": 14,
      "outputs": [
        {
          "output_type": "stream",
          "name": "stdout",
          "text": [
            "25\n",
            "20\n"
          ]
        }
      ]
    }
  ]
}