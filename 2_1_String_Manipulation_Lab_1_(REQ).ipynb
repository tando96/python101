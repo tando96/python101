{
  "nbformat": 4,
  "nbformat_minor": 0,
  "metadata": {
    "colab": {
      "provenance": [],
      "include_colab_link": true
    },
    "kernelspec": {
      "name": "python3",
      "display_name": "Python 3"
    },
    "language_info": {
      "name": "python"
    }
  },
  "cells": [
    {
      "cell_type": "markdown",
      "metadata": {
        "id": "view-in-github",
        "colab_type": "text"
      },
      "source": [
        "<a href=\"https://colab.research.google.com/github/tando96/python101/blob/main/2_1_String_Manipulation_Lab_1_(REQ).ipynb\" target=\"_parent\"><img src=\"https://colab.research.google.com/assets/colab-badge.svg\" alt=\"Open In Colab\"/></a>"
      ]
    },
    {
      "cell_type": "markdown",
      "source": [
        "If you don't remember the first step, please click [here](https://learn.coderschool.vn/path-player?courseid=dv-m11-basic-python&unit=dv-m11-basic-python_624537766805eUnit) to review the Lab Guide"
      ],
      "metadata": {
        "id": "dN_XdK7VEiC3"
      }
    },
    {
      "cell_type": "markdown",
      "source": [
        "# **STRING MANIPULATION LAB 1**\n",
        "\n",
        "> ***NOTE: Some exercises below may be collected from an interview with big tech companies, like FAANG (Facebook, Amazon, Apple, Netflix, Google) and others like Microsoft, etc. Be sure to have a try!***"
      ],
      "metadata": {
        "id": "a5aOO52R2wRN"
      }
    },
    {
      "cell_type": "markdown",
      "source": [
        "### String head and tail\n",
        "\n"
      ],
      "metadata": {
        "id": "j1hBvAzVn_mw"
      }
    },
    {
      "cell_type": "markdown",
      "source": [
        "Get a string made of the first 2 and the last 2 chars from a given a string. If the string length is less than 2, return instead of the empty string.\n",
        "\n",
        "*Example:*\n",
        "```python\n",
        ">>> \"Coderschool\" #input\n",
        ">>> \"Cool\" #output\n",
        "\n",
        ">>> \"S\" #input\n",
        ">>> \"\" #ouput\n",
        "```"
      ],
      "metadata": {
        "id": "kjQMaig24qLJ"
      }
    },
    {
      "cell_type": "code",
      "execution_count": 7,
      "metadata": {
        "id": "hw6G-covhLp1",
        "outputId": "c9675478-1b70-4367-f57a-8eea4b1a6705",
        "colab": {
          "base_uri": "https://localhost:8080/"
        }
      },
      "outputs": [
        {
          "output_type": "stream",
          "name": "stdout",
          "text": [
            "Coderschool\n",
            "Cool\n"
          ]
        }
      ],
      "source": [
        "# YOUR CODE HERE\n",
        "s = input()\n",
        "\n",
        "def get_string(s):\n",
        "  if len(s) < 2:\n",
        "    return \"\"\n",
        "  else:\n",
        "    temp = s[:2] + s[len(s) - 2:]\n",
        "    return temp\n",
        "\n",
        "a = get_string(s)\n",
        "print(a)"
      ]
    },
    {
      "cell_type": "markdown",
      "source": [
        "### First character replacement\n",
        "\n"
      ],
      "metadata": {
        "id": "Zo4NpTvDoi_l"
      }
    },
    {
      "cell_type": "markdown",
      "source": [
        "Get a string from a given string where all occurrences of its first char have been changed to '$', except the first char itself.\n",
        "\n",
        "*Example:*\n",
        "```python\n",
        ">>> \"coderSchool\" #input\n",
        ">>> \"coderS$hool\" # ouput\n",
        "```"
      ],
      "metadata": {
        "id": "1blsiqWT4rsE"
      }
    },
    {
      "cell_type": "code",
      "execution_count": 13,
      "metadata": {
        "id": "xZj66P8xuFMF",
        "outputId": "c29b5a19-4497-4527-ca6f-c34d2ca9e7c4",
        "colab": {
          "base_uri": "https://localhost:8080/"
        }
      },
      "outputs": [
        {
          "output_type": "stream",
          "name": "stdout",
          "text": [
            "coderSchool\n",
            "coderS$hool\n"
          ]
        }
      ],
      "source": [
        "# YOUR CODE HERE\n",
        "s = input()\n",
        "\n",
        "a = s[0] + s[1:].replace(s[0],\"$\")\n",
        "\n",
        "print(a)"
      ]
    },
    {
      "cell_type": "markdown",
      "source": [
        "### Remove n-th\n",
        "\n"
      ],
      "metadata": {
        "id": "Tp-y157uuFn6"
      }
    },
    {
      "cell_type": "markdown",
      "source": [
        "Write a function to remove the n-th index character from a non-empty string.\n",
        "\n",
        "*Example:*\n",
        "```python\n",
        ">>> \"CoderSchool\", 3 #input\n",
        ">>> \"CodrSchool\" #output\n",
        "```"
      ],
      "metadata": {
        "id": "4EpJ2MCt4tRU"
      }
    },
    {
      "cell_type": "code",
      "source": [
        "# YOUR CODE HERE\n",
        "s = input(\"Enter string: \")\n",
        "\n",
        "n = int(input(\"Enter n-th index: \"))\n",
        "\n",
        "def remove_s(s, n):\n",
        "  f_part = s[:n]\n",
        "  c_part = s[n + 1:]\n",
        "  return f_part + c_part\n",
        "\n",
        "a = remove_s(s, n)\n",
        "\n",
        "print(a)\n"
      ],
      "metadata": {
        "id": "fgWRVIbHv9z1",
        "outputId": "05c2ecb7-adfb-4f4c-f555-d6fd1683d452",
        "colab": {
          "base_uri": "https://localhost:8080/"
        }
      },
      "execution_count": 20,
      "outputs": [
        {
          "output_type": "stream",
          "name": "stdout",
          "text": [
            "Enter string: CoderSchool\n",
            "Enter n-th index: 3\n",
            "CodrSchool\n"
          ]
        }
      ]
    },
    {
      "cell_type": "markdown",
      "source": [
        "Write a function to remove the n-th index character from a non-empty string.\n",
        "\n",
        "*Example:*\n",
        "```python\n",
        ">>> \"CoderSchool\", 3 #input\n",
        ">>> \"CodrSchool\" #output\n",
        "```"
      ],
      "metadata": {
        "id": "aF0jZhk0UJ5M"
      }
    },
    {
      "cell_type": "markdown",
      "source": [
        "### String cleaning\n",
        "\n"
      ],
      "metadata": {
        "id": "s-xsgXjzwgwv"
      }
    },
    {
      "cell_type": "markdown",
      "source": [
        "Removal all characters from a string except integers.\n",
        "Hint: Use the string function isdigit()\n",
        "\n",
        "*Example:*\n",
        "```python\n",
        ">>> \" I am 25 years and 2 months old \" #input\n",
        ">>> \"252\" #output\n",
        "```"
      ],
      "metadata": {
        "id": "fGxgMGDd4vJc"
      }
    },
    {
      "cell_type": "code",
      "source": [
        "# YOUR CODE HERE\n",
        "s = input()\n",
        "temp = \"\"\n",
        "\n",
        "temp = temp.join([i for i in s if i.isdigit()])\n",
        "\n",
        "print(temp)"
      ],
      "metadata": {
        "id": "0JFYwRlOwgaz",
        "outputId": "73a6a3e3-af18-4e58-f946-f197a8df1944",
        "colab": {
          "base_uri": "https://localhost:8080/"
        }
      },
      "execution_count": 21,
      "outputs": [
        {
          "output_type": "stream",
          "name": "stdout",
          "text": [
            "I am 25 years and 2 months old\n",
            "252\n"
          ]
        }
      ]
    },
    {
      "cell_type": "markdown",
      "source": [
        "### Reverse words in a sentence (Amazon, Microsoft)\n",
        "\n"
      ],
      "metadata": {
        "id": "AnEmRBKX1Ype"
      }
    },
    {
      "cell_type": "markdown",
      "source": [
        "Write a function to reverse the order of words in a given sentence.\n",
        "\n",
        "Example: `\"sphinx of black quartz judge my vow\"` should output as `\"vow my judge quartz black of sphinx\"`"
      ],
      "metadata": {
        "id": "cFVOea1Q4wm1"
      }
    },
    {
      "cell_type": "code",
      "source": [
        "# YOUR CODE HERE\n",
        "\n",
        "s = input()\n",
        "\n",
        "def reverse_sentence(s):\n",
        "  temp = \"\"\n",
        "  word = \"\"\n",
        "  for c in s: # find out the word and add it into word string\n",
        "    if c != ' ':\n",
        "      word += c\n",
        "    else: # cut the string and add it into temp\n",
        "      temp = word + \" \" + temp\n",
        "      word = \"\"\n",
        "  # print(word)\n",
        "  # print(temp)\n",
        "  # print(c)\n",
        "  return word + \" \" + temp\n",
        "\n",
        "a = reverse_sentence(s)\n",
        "\n",
        "print(a)"
      ],
      "metadata": {
        "id": "E3JBV5xl1vJh",
        "outputId": "4fa77fe0-99fb-49b5-aeda-8523923485cd",
        "colab": {
          "base_uri": "https://localhost:8080/"
        }
      },
      "execution_count": 25,
      "outputs": [
        {
          "output_type": "stream",
          "name": "stdout",
          "text": [
            "sphinx of black quartz judge my vow\n",
            "vow\n",
            "my judge quartz black of sphinx \n",
            "w\n",
            "vow my judge quartz black of sphinx \n"
          ]
        }
      ]
    }
  ]
}