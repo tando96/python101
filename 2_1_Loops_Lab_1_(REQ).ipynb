{
  "nbformat": 4,
  "nbformat_minor": 0,
  "metadata": {
    "colab": {
      "provenance": [],
      "collapsed_sections": [
        "DfF9DS67ErNv",
        "Sui2uqtGErNx",
        "4S3G0pqGErNy",
        "grKh_sQRAffk",
        "1YraodsuG-JN",
        "O-lJTFS8ErNz",
        "tkWZuwuc6ppv",
        "-vO3LXQw6FUX",
        "qSqTV1Fy9URg",
        "i1S-WCFGlTZ0",
        "W6cho-CF_eF9"
      ],
      "include_colab_link": true
    },
    "kernelspec": {
      "name": "python3",
      "display_name": "Python 3"
    }
  },
  "cells": [
    {
      "cell_type": "markdown",
      "metadata": {
        "id": "view-in-github",
        "colab_type": "text"
      },
      "source": [
        "<a href=\"https://colab.research.google.com/github/tando96/python101/blob/main/2_1_Loops_Lab_1_(REQ).ipynb\" target=\"_parent\"><img src=\"https://colab.research.google.com/assets/colab-badge.svg\" alt=\"Open In Colab\"/></a>"
      ]
    },
    {
      "cell_type": "markdown",
      "metadata": {
        "id": "zOC9UNC3g71V"
      },
      "source": [
        "![](https://i.imgur.com/0AUxkXt.png)"
      ]
    },
    {
      "cell_type": "markdown",
      "source": [
        "If you don't remember the first step, please click [here](https://learn.coderschool.vn/path-player?courseid=dv-m11-basic-python&unit=dv-m11-basic-python_624537766805eUnit) to review the Lab Guide"
      ],
      "metadata": {
        "id": "dN_XdK7VEiC3"
      }
    },
    {
      "cell_type": "markdown",
      "source": [
        "# **LOOPS LAB 1**\n",
        "\n",
        "> ***NOTE: Some exercises below may be collected from an interview with big tech companies, like FAANG (Facebook, Amazon, Apple, Netflix, Google) and others like Microsoft, etc. Be sure to have a try!***"
      ],
      "metadata": {
        "id": "hUv1bzx9kFWM"
      }
    },
    {
      "cell_type": "markdown",
      "metadata": {
        "id": "DfF9DS67ErNv"
      },
      "source": [
        "## FOR LOOP"
      ]
    },
    {
      "cell_type": "markdown",
      "source": [
        "### Sum of Even\n"
      ],
      "metadata": {
        "id": "Sui2uqtGErNx"
      }
    },
    {
      "cell_type": "markdown",
      "source": [
        "Write a program to find the sum of all even numbers between 1 to n.\n",
        "*Example:*\n",
        "```python\n",
        ">>> 5 #input\n",
        ">>> 6 #output\n",
        "```"
      ],
      "metadata": {
        "id": "KgbHt5EWlZyY"
      }
    },
    {
      "cell_type": "code",
      "source": [
        "# YOUR CODE HERE\n",
        "n = int(input())\n",
        "\n",
        "sum = 0\n",
        "\n",
        "for i in range(1, n + 1):\n",
        "  if i % 2 == 0:\n",
        "    sum += i\n",
        "\n",
        "print(sum)"
      ],
      "metadata": {
        "id": "8g_rYCTVh3BN",
        "outputId": "fd06ab2d-b8e3-40e8-ddf9-33acb5cd5ee4",
        "colab": {
          "base_uri": "https://localhost:8080/"
        }
      },
      "execution_count": 2,
      "outputs": [
        {
          "output_type": "stream",
          "name": "stdout",
          "text": [
            "5\n",
            "6\n"
          ]
        }
      ]
    },
    {
      "cell_type": "markdown",
      "metadata": {
        "id": "4S3G0pqGErNy"
      },
      "source": [
        "### Robust Series\n",
        "\n"
      ]
    },
    {
      "cell_type": "markdown",
      "source": [
        "Given a tuple of 2 positive integers. Print all integers between those 2 integers inclusive with the conditions:\n",
        "- Print in *increasing* order if the first integer is smaller than the second\n",
        "- Print in *decreasing* order if the first integer is greater than or equal to the second.\n",
        "\n",
        "The easiest way to do this problem is to use the function [`range()`](https://www.geeksforgeeks.org/python-range-function/) extensively. Think about how to get a sequence of numbers backwards.\n",
        "\n",
        "*Example #1:*\n",
        "```python\n",
        ">>> T = (8,5) # Given tuple T\n",
        "8 7 6 5 # output\n",
        "```\n",
        "\n",
        "*Example #2:*\n",
        "```python\n",
        ">>> T = (1,3) # Given tuple T\n",
        "1 2 3 # output\n",
        "```"
      ],
      "metadata": {
        "id": "7Nh4Yzf_lcrz"
      }
    },
    {
      "cell_type": "code",
      "metadata": {
        "id": "cxXkJ-_2ErNy",
        "outputId": "afd0cb31-5e2e-4934-8db0-5f886e3b7ec7",
        "colab": {
          "base_uri": "https://localhost:8080/"
        }
      },
      "source": [
        "# YOUR CODE HERE\n",
        "\n",
        "T = (8,5)\n",
        "\n",
        "if T[0] < T[1]:\n",
        "  for i in range(T[0], T[1] + 1):\n",
        "    print(i)\n",
        "else:\n",
        "  for i in range(T[0], T[1] - 1, - 1):\n",
        "    print(i)"
      ],
      "execution_count": 3,
      "outputs": [
        {
          "output_type": "stream",
          "name": "stdout",
          "text": [
            "8\n",
            "7\n",
            "6\n",
            "5\n"
          ]
        }
      ]
    },
    {
      "cell_type": "markdown",
      "source": [
        "### Prime check\n",
        "\n"
      ],
      "metadata": {
        "id": "grKh_sQRAffk"
      }
    },
    {
      "cell_type": "markdown",
      "source": [
        "Given an integer n>1, check if it is a prime number. Print `True` if it is, and `False` if it isn't.\n",
        "\n",
        ">A prime number is an integer greater than 1 that is only divisible by 1 and itself.\n",
        "\n",
        "*Example*\n",
        "```python\n",
        ">>> n = 2\n",
        "True\n",
        ">>> n = 23\n",
        "True\n",
        ">>> n = 18\n",
        "False\n",
        "```"
      ],
      "metadata": {
        "id": "KU8_CArKleU8"
      }
    },
    {
      "cell_type": "code",
      "source": [
        "# YOUR CODE HERE\n",
        "n = int(input())\n",
        "\n",
        "temp = 0\n",
        "\n",
        "for i in range(2, n + 1):\n",
        "  if n % i == 0:\n",
        "    temp += 1\n",
        "\n",
        "if temp > 1:\n",
        "  print(False)\n",
        "else:\n",
        "  print(True)"
      ],
      "metadata": {
        "id": "lhyEIiP6Bdxm",
        "outputId": "617e2576-038a-45b6-c73b-d4901f66acf1",
        "colab": {
          "base_uri": "https://localhost:8080/"
        }
      },
      "execution_count": 5,
      "outputs": [
        {
          "output_type": "stream",
          "name": "stdout",
          "text": [
            "9\n",
            "False\n"
          ]
        }
      ]
    },
    {
      "cell_type": "markdown",
      "source": [
        "### Hollow square\n",
        "\n"
      ],
      "metadata": {
        "id": "1YraodsuG-JN"
      }
    },
    {
      "cell_type": "markdown",
      "source": [
        "Given an integer size n>2, draw a hollow (empty) square of stars with that size.\n",
        "\n",
        "*Example*\n",
        "```python\n",
        ">>> n = 3 # Given size\n",
        "***\n",
        "* *\n",
        "*** # 3x3 square of stars\n",
        ">>> n = 5\n",
        "*****\n",
        "*   *\n",
        "*   *\n",
        "*   *\n",
        "*****\n",
        "```"
      ],
      "metadata": {
        "id": "koM0nZXLlgJV"
      }
    },
    {
      "cell_type": "code",
      "source": [
        "# YOUR CODE HERE\n",
        "n = int(input())\n",
        "\n",
        "for i in range(n):\n",
        "  if i == 0 or i == n - 1:\n",
        "    print(\"*\" *n )\n",
        "  else:\n",
        "    print(\"*\" + \" \" * (n-2) + \"*\")\n"
      ],
      "metadata": {
        "id": "sPEsQX9RILIu",
        "outputId": "7fd9a9aa-3bdb-409d-c5c6-e197f24f52f1",
        "colab": {
          "base_uri": "https://localhost:8080/"
        }
      },
      "execution_count": 6,
      "outputs": [
        {
          "output_type": "stream",
          "name": "stdout",
          "text": [
            "3\n",
            "***\n",
            "* *\n",
            "***\n"
          ]
        }
      ]
    },
    {
      "cell_type": "markdown",
      "metadata": {
        "id": "O-lJTFS8ErNz"
      },
      "source": [
        "### Sum of Factorials\n",
        "\n"
      ]
    },
    {
      "cell_type": "markdown",
      "source": [
        "In mathematics, the factorial of an integer $n$, written as $n!$ is the following product:\n",
        "\n",
        "$$\n",
        "n! = 1 \\times 2 \\times 3 \\times \\ldots \\times n\n",
        "$$\n",
        "\n",
        "For a given integer $n$, calculate the value\n",
        "\n",
        "$$\n",
        "1! + 2! + 3! + \\ldots + n!\n",
        "$$\n",
        "\n",
        "Try to discover the solution that uses only one for-loop. And don't use the `math` library in this exercise.\n",
        "\n",
        "*Example #1:*\n",
        "```python\n",
        ">>> n = 4 # Given n\n",
        "33 # output (33 = 1! + 2! + 3! + 4!)\n",
        "```\n",
        "\n",
        "*Example #2:*\n",
        "```python\n",
        ">>> 10 # Given n\n",
        "4037913 # output (4037913 = 1! + 2! + 3! + 4! + 5! + 6! + 7! + 8! + 9! + 10!)\n",
        "```"
      ],
      "metadata": {
        "id": "KjG6j4zdljkd"
      }
    },
    {
      "cell_type": "code",
      "metadata": {
        "id": "JSuNh3k9ErNz",
        "outputId": "efd4a8ef-8f6b-4113-eceb-322cb88b069e",
        "colab": {
          "base_uri": "https://localhost:8080/"
        }
      },
      "source": [
        "# YOUR CODE HERE\n",
        "n = int(input())\n",
        "\n",
        "temp = 0\n",
        "\n",
        "for i in range(1, n + 1):\n",
        "  fac = 1\n",
        "  for k in range(1, i + 1):\n",
        "    fac = fac * k\n",
        "  temp = temp + fac\n",
        "\n",
        "print(temp)"
      ],
      "execution_count": 8,
      "outputs": [
        {
          "output_type": "stream",
          "name": "stdout",
          "text": [
            "4\n",
            "33\n"
          ]
        }
      ]
    },
    {
      "cell_type": "markdown",
      "metadata": {
        "id": "tkWZuwuc6ppv"
      },
      "source": [
        "## WHILE LOOP"
      ]
    },
    {
      "cell_type": "markdown",
      "metadata": {
        "id": "-vO3LXQw6FUX"
      },
      "source": [
        "### Largest Square\n",
        "\n"
      ]
    },
    {
      "cell_type": "markdown",
      "source": [
        "For a given integer N, print the largest squared integer less than or equal to N.\n",
        "\n",
        "*Example:*\n",
        "```python\n",
        ">>> 50 # input N\n",
        "49 # output 49 == 7*7\n",
        ">>> 121\n",
        "121 # 121 == 11*11\n",
        ">>> 1000\n",
        "961 # 961 == 31*31\n",
        "```"
      ],
      "metadata": {
        "id": "Wz89dE9FllaG"
      }
    },
    {
      "cell_type": "code",
      "metadata": {
        "id": "AbTCGb-aXYlN",
        "outputId": "bdc384b3-a8c9-4205-cca3-6187f6d3085d",
        "colab": {
          "base_uri": "https://localhost:8080/"
        }
      },
      "source": [
        "# YOUR CODE HERE\n",
        "n = int(input())\n",
        "\n",
        "i = 1\n",
        "\n",
        "while i * i <= n:\n",
        "  i += 1\n",
        "\n",
        "print((i - 1) * (i - 1))"
      ],
      "execution_count": 9,
      "outputs": [
        {
          "output_type": "stream",
          "name": "stdout",
          "text": [
            "50\n",
            "49\n"
          ]
        }
      ]
    },
    {
      "cell_type": "markdown",
      "metadata": {
        "id": "qSqTV1Fy9URg"
      },
      "source": [
        "### Jogging\n",
        "\n"
      ]
    },
    {
      "cell_type": "markdown",
      "source": [
        "As a future athlete, you just started your practice for an upcoming event. On the first day of practicing, you run `x` miles, and by the day of the event you must be able to run `y` miles. (`x` < `y`)\n",
        "\n",
        "Calculate the number of days practicing required for you to finally reach the required distance for the event, given that you increase your distance each day by 10% from the previous day.\n",
        "\n",
        "Print one integer representing the number of days to reach or exceed the required distance.\n",
        "\n",
        "*Example:*\n",
        "```python\n",
        ">>> 10 # input x\n",
        ">>> 30 # input y\n",
        "13 # output\n",
        "```"
      ],
      "metadata": {
        "id": "1r3TjshtlnlU"
      }
    },
    {
      "cell_type": "code",
      "metadata": {
        "id": "GTxFTlxbXbOU",
        "outputId": "8cd4ff47-2373-49f6-eef6-1de6f908629f",
        "colab": {
          "base_uri": "https://localhost:8080/"
        }
      },
      "source": [
        "# YOUR CODE HERE\n",
        "x = int(input(\"x: \"))\n",
        "y = int(input(\"y: \"))\n",
        "temp = 1\n",
        "while x < y:\n",
        "  x *= 1.1\n",
        "  temp += 1\n",
        "\n",
        "print(temp)"
      ],
      "execution_count": 12,
      "outputs": [
        {
          "output_type": "stream",
          "name": "stdout",
          "text": [
            "x: 10\n",
            "y: 30\n",
            "13\n"
          ]
        }
      ]
    },
    {
      "cell_type": "markdown",
      "source": [
        "### Sum of Digits\n"
      ],
      "metadata": {
        "id": "i1S-WCFGlTZ0"
      }
    },
    {
      "cell_type": "markdown",
      "source": [
        "For a given integer, write a `while` loop to calculate the sum of all of its digits. If the integer is negative, ignore the sign.\n",
        "\n",
        "*Example 1:*\n",
        "``` python\n",
        ">>> 1223 #input\n",
        "8 # 1+2+2+3\n",
        "```\n",
        "*Example 2:*\n",
        "``` python\n",
        ">>> 91752 #input\n",
        "24 # 9+1+7+5+2\n",
        "```\n",
        "*Example 3:*\n",
        "``` python\n",
        ">>> -123456789 #input\n",
        "45 # 1+2+3+4+5+6+7+8+9\n",
        "```"
      ],
      "metadata": {
        "id": "mqhKggBllpfj"
      }
    },
    {
      "cell_type": "code",
      "source": [
        "# YOUR CODE HERE\n",
        "n = int(input())\n",
        "\n",
        "sum = 0\n",
        "\n",
        "while n > 0:\n",
        "  sum += n % 10\n",
        "  n //= 10\n",
        "\n",
        "print(sum)\n"
      ],
      "metadata": {
        "id": "pwOyffWLlS4E",
        "outputId": "58cbb7f1-f5e1-4bd1-e900-b563f39660de",
        "colab": {
          "base_uri": "https://localhost:8080/"
        }
      },
      "execution_count": 13,
      "outputs": [
        {
          "output_type": "stream",
          "name": "stdout",
          "text": [
            "123\n",
            "6\n"
          ]
        }
      ]
    },
    {
      "cell_type": "markdown",
      "metadata": {
        "id": "W6cho-CF_eF9"
      },
      "source": [
        "### Average of sequence\n",
        "\n"
      ]
    },
    {
      "cell_type": "markdown",
      "source": [
        "Write a program that continuously reads a sequence of non-negative integers, where each number is read on a separate input line. The sequence ends when the input is 0. Calculate and print out the average of the sequence, excluding 0.\n",
        "\n",
        "*Example:*\n",
        "```python\n",
        ">>> 10 # input() has multiple lines\n",
        ">>> 30\n",
        ">>> 0  # input 0 signifies that the sequence input is finished\n",
        "20.0 # output (note that this can be a float number)\n",
        "```"
      ],
      "metadata": {
        "id": "gnCtZgXVlsuD"
      }
    },
    {
      "cell_type": "code",
      "metadata": {
        "id": "X0_ujCpVXeGH",
        "outputId": "442ba278-70f6-4363-ca46-02ace81ed1f4",
        "colab": {
          "base_uri": "https://localhost:8080/"
        }
      },
      "source": [
        "# YOUR CODE HERE\n",
        "n = int(input())\n",
        "\n",
        "sq_len = 0\n",
        "sq_sum = 0\n",
        "\n",
        "while n != 0:\n",
        "  sq_len += 1\n",
        "  sq_sum += n\n",
        "  n = int(input())\n",
        "\n",
        "if sq_len == 0:\n",
        "    sq_len = 1\n",
        "print(sq_sum / sq_len)"
      ],
      "execution_count": 14,
      "outputs": [
        {
          "output_type": "stream",
          "name": "stdout",
          "text": [
            "10\n",
            "30\n",
            "0\n",
            "20.0\n"
          ]
        }
      ]
    }
  ]
}