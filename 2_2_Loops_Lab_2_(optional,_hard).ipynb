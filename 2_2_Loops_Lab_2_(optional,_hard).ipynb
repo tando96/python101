{
  "nbformat": 4,
  "nbformat_minor": 0,
  "metadata": {
    "colab": {
      "provenance": [],
      "collapsed_sections": [
        "542Dw4yTrAMd",
        "ztPnuuykHI3b",
        "UNrUfsEfMkWq",
        "mV2pMdzX_do_"
      ],
      "include_colab_link": true
    },
    "kernelspec": {
      "name": "python3",
      "display_name": "Python 3"
    }
  },
  "cells": [
    {
      "cell_type": "markdown",
      "metadata": {
        "id": "view-in-github",
        "colab_type": "text"
      },
      "source": [
        "<a href=\"https://colab.research.google.com/github/tando96/python101/blob/main/2_2_Loops_Lab_2_(optional%2C_hard).ipynb\" target=\"_parent\"><img src=\"https://colab.research.google.com/assets/colab-badge.svg\" alt=\"Open In Colab\"/></a>"
      ]
    },
    {
      "cell_type": "markdown",
      "metadata": {
        "id": "zOC9UNC3g71V"
      },
      "source": [
        "![](https://i.imgur.com/0AUxkXt.png)"
      ]
    },
    {
      "cell_type": "markdown",
      "source": [
        "If you don't remember the first step, please click [here](https://learn.coderschool.vn/path-player?courseid=dv-m11-basic-python&unit=dv-m11-basic-python_624537766805eUnit) to review the Lab Guide"
      ],
      "metadata": {
        "id": "dN_XdK7VEiC3"
      }
    },
    {
      "cell_type": "markdown",
      "source": [
        "# **LOOPS LAB 2**\n",
        "\n",
        "> ***NOTE: Some exercises below may be collected from an interview with big tech companies, like FAANG (Facebook, Amazon, Apple, Netflix, Google) and others like Microsoft, etc. Be sure to have a try!***"
      ],
      "metadata": {
        "id": "hUv1bzx9kFWM"
      }
    },
    {
      "cell_type": "markdown",
      "source": [
        "### Number Stairs\n",
        "\n"
      ],
      "metadata": {
        "id": "542Dw4yTrAMd"
      }
    },
    {
      "cell_type": "markdown",
      "source": [
        "Build a right-angled stairs made from incremental integers. The number of stairs (lines to print) are given as `n`.\n",
        "\n",
        "*Example:*\n",
        "\n",
        "``` python\n",
        ">>> n = 4 # Given n\n",
        "1\n",
        "2 3\n",
        "4 5 6\n",
        "7 8 9 10 # stairs has n steps\n",
        "```"
      ],
      "metadata": {
        "id": "d9X9nu0-lyHk"
      }
    },
    {
      "cell_type": "code",
      "source": [
        "# YOUR CODE HERE\n",
        "n = int(input())\n",
        "temp = 1\n",
        "for i in range(1, n ):\n",
        "  for j in range(1 , i + 1):\n",
        "    print(temp , end=\" \")\n",
        "    temp += 1\n",
        "  print(\" \")"
      ],
      "metadata": {
        "id": "ZF8N3bAvErN3",
        "outputId": "5289efb9-929e-4b2e-e7ad-c380bb700bfb",
        "colab": {
          "base_uri": "https://localhost:8080/"
        }
      },
      "execution_count": 16,
      "outputs": [
        {
          "output_type": "stream",
          "name": "stdout",
          "text": [
            "4\n",
            "1  \n",
            "2 3  \n",
            "4 5 6  \n"
          ]
        }
      ]
    },
    {
      "cell_type": "markdown",
      "source": [
        "### Fizzbuzz\n",
        "\n"
      ],
      "metadata": {
        "id": "ztPnuuykHI3b"
      }
    },
    {
      "cell_type": "markdown",
      "source": [
        "Given an integer n>2, print every integer from 1 to n EXCEPT:\n",
        "- When the integer is divisible by 3, print `fizz` instead.\n",
        "- When the integer is divisible by 5, print `buzz` instead.\n",
        "- When the integer is divisible by both 3 and 5, print `fizzbuzz` instead.\n",
        "\n",
        "Also, [watch this](https://youtu.be/QPZ0pIK_wsc) after you're done with the exercise :)\n",
        "\n",
        "*Example*\n",
        "```python\n",
        ">>> n = 25 # Given n\n",
        "1\n",
        "2\n",
        "fizz\n",
        "4\n",
        "buzz\n",
        "fizz\n",
        "7\n",
        "8\n",
        "fizz\n",
        "buzz\n",
        "11\n",
        "fizz\n",
        "13\n",
        "14\n",
        "fizzbuzz\n",
        "16\n",
        "17\n",
        "fizz\n",
        "19\n",
        "buzz\n",
        "fizz\n",
        "22\n",
        "23\n",
        "fizz # output has n lines\n",
        "```"
      ],
      "metadata": {
        "id": "OE-NhVCsl07u"
      }
    },
    {
      "cell_type": "code",
      "source": [
        "# YOUR CODE HERE\n",
        "n = int(input())\n",
        "\n",
        "for i in range(1, n):\n",
        "  if(i%3 == 0 ) and (i%5==0):\n",
        "    print(\"fizzbuzz\")\n",
        "  elif i % 3 == 0:\n",
        "    print(\"fizz\")\n",
        "  elif i % 5 == 0:\n",
        "    print(\"buzz\")\n",
        "  else:\n",
        "    print(i)\n",
        "\n",
        ""
      ],
      "metadata": {
        "id": "ncV9QrubJLjg",
        "outputId": "08f45e70-c0bc-46fa-9f6a-9f2a6a05d051",
        "colab": {
          "base_uri": "https://localhost:8080/"
        }
      },
      "execution_count": 17,
      "outputs": [
        {
          "output_type": "stream",
          "name": "stdout",
          "text": [
            "15\n",
            "1\n",
            "2\n",
            "fizz\n",
            "4\n",
            "buzz\n",
            "fizz\n",
            "7\n",
            "8\n",
            "fizz\n",
            "buzz\n",
            "11\n",
            "fizz\n",
            "13\n",
            "14\n"
          ]
        }
      ]
    },
    {
      "cell_type": "markdown",
      "metadata": {
        "id": "UNrUfsEfMkWq"
      },
      "source": [
        "### Largest Fibonacci\n",
        "\n",
        "\n"
      ]
    },
    {
      "cell_type": "markdown",
      "source": [
        "Fibonacci numbers form a Fibonacci sequence in which each number is the ***sum of the two preceding numbers***.\n",
        "\n",
        "$$\n",
        "1, 1, 2, 3, 5, 8, 13, 21, 34, \\ldots\n",
        "$$\n",
        "\n",
        "Given a positive integer n, print out the *largest* Fibonacci number smaller than or equal to n.\n",
        "\n",
        "*Example #1:*\n",
        "```python\n",
        ">>> 6 # input n\n",
        "5 # output\n",
        "```\n",
        "\n",
        "*Example #2:*\n",
        "```python\n",
        ">>> 21 # input n\n",
        "21 # output\n",
        "```"
      ],
      "metadata": {
        "id": "47tr_YUpl3aU"
      }
    },
    {
      "cell_type": "code",
      "metadata": {
        "id": "WCLECvvAXlXT",
        "outputId": "7b1e24f6-5671-465b-a931-aba4263aab35",
        "colab": {
          "base_uri": "https://localhost:8080/"
        }
      },
      "source": [
        "# YOUR CODE HERE\n",
        "n = int(input())\n",
        "\n",
        "a , b = 1 , 1\n",
        "\n",
        "while b <= n:\n",
        "  a , b = b , a + b\n",
        "print(a)"
      ],
      "execution_count": 18,
      "outputs": [
        {
          "output_type": "stream",
          "name": "stdout",
          "text": [
            "10\n",
            "8\n"
          ]
        }
      ]
    },
    {
      "cell_type": "markdown",
      "source": [
        "### Zeros to the left (Google)\n",
        "\n"
      ],
      "metadata": {
        "id": "mV2pMdzX_do_"
      }
    },
    {
      "cell_type": "markdown",
      "source": [
        "Given an integer array (list), move all elements that are 0 to the left while maintaining the order of other elements in the array. *The array has to be modified in-place.*\n",
        "![](https://i.imgur.com/4TBTPB2.png)"
      ],
      "metadata": {
        "id": "WjfzYWw9l53n"
      }
    },
    {
      "cell_type": "code",
      "source": [
        "# YOUR CODE HERE"
      ],
      "metadata": {
        "id": "iH-gRfp0_dDD"
      },
      "execution_count": null,
      "outputs": []
    }
  ]
}