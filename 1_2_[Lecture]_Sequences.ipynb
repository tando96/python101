{
  "nbformat": 4,
  "nbformat_minor": 0,
  "metadata": {
    "colab": {
      "provenance": [],
      "collapsed_sections": [
        "k0biiuYYBOe_",
        "wcwbSWUC0RhB",
        "xtmrUlgTAXKq",
        "4fy2kI8g1XOT",
        "rd0Hrje81mQu",
        "QqOXs7JL2RAH",
        "933GPoYuVeTi",
        "8fsZ3iDU5qdl",
        "pX2aRl2yawYX",
        "oHbSetXb7NNN",
        "E_jDvSv7gmHE",
        "ZzgwI2imq8iY"
      ],
      "toc_visible": true,
      "include_colab_link": true
    },
    "kernelspec": {
      "name": "python3",
      "display_name": "Python 3"
    }
  },
  "cells": [
    {
      "cell_type": "markdown",
      "metadata": {
        "id": "view-in-github",
        "colab_type": "text"
      },
      "source": [
        "<a href=\"https://colab.research.google.com/github/tando96/python101/blob/main/1_2_%5BLecture%5D_Sequences.ipynb\" target=\"_parent\"><img src=\"https://colab.research.google.com/assets/colab-badge.svg\" alt=\"Open In Colab\"/></a>"
      ]
    },
    {
      "cell_type": "markdown",
      "metadata": {
        "id": "S8D8YdwURKTA"
      },
      "source": [
        "# **PYTHON SEQUENCES**\n",
        "\n",
        "Before you start: File ▸ Save a Copy in Drive"
      ]
    },
    {
      "cell_type": "markdown",
      "metadata": {
        "id": "hXQWSlfQN9n5"
      },
      "source": [
        "![](https://files.realpython.com/media/Lists-and-Tuples-in-Python_Watermarked.4d655c81a78b.jpg)"
      ]
    },
    {
      "cell_type": "markdown",
      "metadata": {
        "id": "k0biiuYYBOe_"
      },
      "source": [
        "## OVERVIEW"
      ]
    },
    {
      "cell_type": "markdown",
      "metadata": {
        "id": "qy8gVg2CxdJ1"
      },
      "source": [
        "In programming, it is common to want to work with collections of data. In Python, `list`, `tuple` and `string` are built-in data structures that allows us to work with a collection of data in sequential order."
      ]
    },
    {
      "cell_type": "markdown",
      "metadata": {
        "id": "wSZOPksZCIoL"
      },
      "source": [
        "Suppose we want to make a list of the heights of students in a class:\n",
        "1. Adam is 175 cm tall\n",
        "2. Eva is 170 cm tall\n",
        "3. Alex is 165 cm tall\n",
        "4. Mia is 160 cm tall\n",
        "\n",
        "We can create a variable called heights to store these integers into a ***list***:\n",
        "```python\n",
        "heights = [175, 170, 165, 160]\n",
        "```\n",
        "\n",
        "Instead of storing each student’s height, we can make a list that contains their names:\n",
        "\n",
        "```python\n",
        "names = ['Adam', 'Eva', 'Alex', 'Mia']\n",
        "```\n",
        "\n",
        "We can even combine multiple data types in one list. For example, this list contains both a string and an integer:\n",
        "\n",
        "```python\n",
        "mixed_list_string_number = [\"Adam\", 175]\n",
        "```\n",
        "\n",
        "Lists can contain any data type in Python! For example, this list contains a string, integer, boolean, and float.\n",
        "\n",
        "```python\n",
        "mixed_list_common = [\"Mia\", 160, False, 0.5]\n",
        "```"
      ]
    },
    {
      "cell_type": "markdown",
      "metadata": {
        "id": "DIy5pAdQD6G9"
      },
      "source": [
        "🏃🏻‍♂️ **Mini Excercise**\n",
        "\n",
        "1. Add any additional string to the end of the `list ints_and_strings`.\n",
        "2. Create a new list called `sam_height_and_testscore` that contains:\n",
        "    * The string \"Sam\" (to represent Sam’s name)\n",
        "    * The number 167 (to represent Sam’s height)\n",
        "    * The float 85.5 (to represent Sam’s score)\n",
        "    * The boolean True (to represent Sam passing the test)"
      ]
    },
    {
      "cell_type": "code",
      "metadata": {
        "id": "f3n3PzN_Fl_G"
      },
      "source": [
        "# YOUR CODE HERE\n",
        "sam_height_and_testscore = [\"Sam\", 167, 85.5, True]"
      ],
      "execution_count": null,
      "outputs": []
    },
    {
      "cell_type": "markdown",
      "metadata": {
        "id": "at7w836pzK9P"
      },
      "source": [
        "In addition to list, we also have ***tuple*** and ***string*** which works similarly. Let's study them all to see the difference!"
      ]
    },
    {
      "cell_type": "code",
      "metadata": {
        "id": "owbEMAJTCIbg"
      },
      "source": [
        "# Built-in python sequences\n",
        "\n",
        "# List []\n",
        "l = [0, 1, 2.5, True, \"a\", \"b\", \"c\"]\n",
        "\n",
        "# Tuple ()\n",
        "t = (0, 1, 2.5, False, \"a\", \"b\", \"c\")\n",
        "\n",
        "# String '' or \"\"\n",
        "s = \"012.5Falseabc\""
      ],
      "execution_count": null,
      "outputs": []
    },
    {
      "cell_type": "markdown",
      "metadata": {
        "id": "dw3pxQK90ADx"
      },
      "source": [
        "📖 We can check the *length* using `len()`"
      ]
    },
    {
      "cell_type": "code",
      "metadata": {
        "id": "-ccX-07JOvaQ",
        "colab": {
          "base_uri": "https://localhost:8080/"
        },
        "outputId": "7b8b10b4-4601-41b3-de69-120facc7d93c"
      },
      "source": [
        "print(len(l))  # List\n",
        "print(len(t))  # Tuple\n",
        "print(len(s))  # String"
      ],
      "execution_count": null,
      "outputs": [
        {
          "output_type": "stream",
          "name": "stdout",
          "text": [
            "7\n",
            "7\n",
            "13\n"
          ]
        }
      ]
    },
    {
      "cell_type": "markdown",
      "metadata": {
        "id": "wcwbSWUC0RhB"
      },
      "source": [
        "#### **Accessing Elements**"
      ]
    },
    {
      "cell_type": "markdown",
      "metadata": {
        "id": "973iiBwEy7li"
      },
      "source": [
        "We can access any single element by specifying its ***index***. Note that **index ALWAYS starts from 0**"
      ]
    },
    {
      "cell_type": "code",
      "metadata": {
        "id": "gqlBqYDkD5o0",
        "colab": {
          "base_uri": "https://localhost:8080/"
        },
        "outputId": "0aef20e9-6488-43aa-8524-8449b5100b80"
      },
      "source": [
        "# List\n",
        "print(\"LIST:\")\n",
        "print(\"l    =\", l)\n",
        "print(\"l[0] =\", l[0])\n",
        "print()\n",
        "\n",
        "# Tuple\n",
        "print(\"TUPLE:\")\n",
        "print(\"t    =\", t)\n",
        "print(\"t[2] =\", t[2])\n",
        "print()\n",
        "\n",
        "# String\n",
        "print(\"STRING:\")\n",
        "print(\"s    =\", s)\n",
        "print(\"s[3] =\", s[3])"
      ],
      "execution_count": null,
      "outputs": [
        {
          "output_type": "stream",
          "name": "stdout",
          "text": [
            "LIST:\n",
            "l    = [0, 1, 2.5, True, 'a', 'b', 'c']\n",
            "l[0] = 0\n",
            "\n",
            "TUPLE:\n",
            "t    = (0, 1, 2.5, False, 'a', 'b', 'c')\n",
            "t[2] = 2.5\n",
            "\n",
            "STRING:\n",
            "s    = 012.5Falseabc\n",
            "s[3] = .\n"
          ]
        }
      ]
    },
    {
      "cell_type": "markdown",
      "metadata": {
        "id": "YdWyruqIx-GN"
      },
      "source": [
        "❓ This code will returns an error. Why?"
      ]
    },
    {
      "cell_type": "code",
      "metadata": {
        "colab": {
          "base_uri": "https://localhost:8080/",
          "height": 175
        },
        "id": "PbMg_fR68Uy2",
        "outputId": "64d3502b-9d7e-4e39-92ca-1f7d9d0a0681"
      },
      "source": [
        "print(l[7])"
      ],
      "execution_count": null,
      "outputs": [
        {
          "output_type": "error",
          "ename": "IndexError",
          "evalue": "ignored",
          "traceback": [
            "\u001b[0;31m---------------------------------------------------------------------------\u001b[0m",
            "\u001b[0;31mIndexError\u001b[0m                                Traceback (most recent call last)",
            "\u001b[0;32m<ipython-input-8-e5e239b64d27>\u001b[0m in \u001b[0;36m<cell line: 1>\u001b[0;34m()\u001b[0m\n\u001b[0;32m----> 1\u001b[0;31m \u001b[0mprint\u001b[0m\u001b[0;34m(\u001b[0m\u001b[0ml\u001b[0m\u001b[0;34m[\u001b[0m\u001b[0;36m7\u001b[0m\u001b[0;34m]\u001b[0m\u001b[0;34m)\u001b[0m\u001b[0;34m\u001b[0m\u001b[0;34m\u001b[0m\u001b[0m\n\u001b[0m",
            "\u001b[0;31mIndexError\u001b[0m: list index out of range"
          ]
        }
      ]
    },
    {
      "cell_type": "markdown",
      "metadata": {
        "id": "FoQi8mDd0v_l"
      },
      "source": [
        "❓ How can we get the *last* element of a sequence?"
      ]
    },
    {
      "cell_type": "code",
      "source": [
        "big_list = [\n",
        "    1,\n",
        "    1,\n",
        "    2,\n",
        "    3,\n",
        "    5,\n",
        "    8,\n",
        "    13,\n",
        "    21,\n",
        "    34,\n",
        "    55,\n",
        "    89,\n",
        "    144,\n",
        "    233,\n",
        "    377,\n",
        "    610,\n",
        "    987,\n",
        "    1597,\n",
        "    2584,\n",
        "    4181,\n",
        "    6765,\n",
        "    10946,\n",
        "    17711,\n",
        "    28657,\n",
        "    46368,\n",
        "    75025,\n",
        "    121393,\n",
        "    196418,\n",
        "    317811,\n",
        "    514229,\n",
        "    832040,\n",
        "    1346269,\n",
        "    2178309,\n",
        "    3524578,\n",
        "    5702887,\n",
        "    9227465,\n",
        "    14930352,\n",
        "    24157817,\n",
        "    39088169,\n",
        "    63245986,\n",
        "    102334155,\n",
        "    165580141,\n",
        "    267914296,\n",
        "    433494437,\n",
        "    701408733,\n",
        "    1134903170,\n",
        "    1836311903,\n",
        "    2971215073,\n",
        "    4807526976,\n",
        "    7778742049,\n",
        "]"
      ],
      "metadata": {
        "id": "JRyL0ekFaXIw"
      },
      "execution_count": null,
      "outputs": []
    },
    {
      "cell_type": "markdown",
      "source": [
        "**Option 1**: Use `len()`"
      ],
      "metadata": {
        "id": "gjeGSjLVabtV"
      }
    },
    {
      "cell_type": "code",
      "metadata": {
        "id": "go_3wDCGW_zt",
        "colab": {
          "base_uri": "https://localhost:8080/"
        },
        "outputId": "ea868f11-4cbf-4ff0-b22c-7c0846f26293"
      },
      "source": [
        "# YOUR CODE HERE\n",
        "big_list[len(big_list) - 1]"
      ],
      "execution_count": null,
      "outputs": [
        {
          "output_type": "execute_result",
          "data": {
            "text/plain": [
              "7778742049"
            ]
          },
          "metadata": {},
          "execution_count": 9
        }
      ]
    },
    {
      "cell_type": "markdown",
      "source": [
        "**Option 2**: Accessing elements using ***Negative Index*** 🌟"
      ],
      "metadata": {
        "id": "Kio-AAsVaPrR"
      }
    },
    {
      "cell_type": "code",
      "metadata": {
        "id": "Rr21CgEnaeNx",
        "colab": {
          "base_uri": "https://localhost:8080/"
        },
        "outputId": "738860bb-efb7-4be0-be85-22acd04a90ce"
      },
      "source": [
        "# YOUR CODE HERE\n",
        "big_list[-1]"
      ],
      "execution_count": null,
      "outputs": [
        {
          "output_type": "execute_result",
          "data": {
            "text/plain": [
              "7778742049"
            ]
          },
          "metadata": {},
          "execution_count": 10
        }
      ]
    },
    {
      "cell_type": "markdown",
      "metadata": {
        "id": "xtmrUlgTAXKq"
      },
      "source": [
        "#### **Slicing**"
      ]
    },
    {
      "cell_type": "markdown",
      "metadata": {
        "id": "Va8ZBb1k0DoN"
      },
      "source": [
        "In order to get a **sub-sequence**, we need to ***slice*** the orginal sequence.\n",
        "\n",
        "Syntax: `[<start> : <stop> : <step_size>]` with *default* step_size is 1"
      ]
    },
    {
      "cell_type": "code",
      "metadata": {
        "id": "G5FXaI_CIttt",
        "colab": {
          "base_uri": "https://localhost:8080/"
        },
        "outputId": "e830970a-4fec-48d5-a4fe-0e6bf343fe2e"
      },
      "source": [
        "# List\n",
        "print(\"l      =\", l)\n",
        "print(\n",
        "    \"l[0:3] =\", l[0:3]\n",
        ")  # <start>=0, <stop>=3, <step_size>=1 --> return the list [l[0], l[1], l[2]]\n",
        "print()\n",
        "\n",
        "# Tuple\n",
        "print(\"t      =\", t)\n",
        "print(\n",
        "    \"t[1:4] =\", t[1:4]\n",
        ")  # <start>=1, <stop>=4, <step_size>=1 --> return the tuple (t[1], t[2], t[3])\n",
        "print()\n",
        "\n",
        "# String\n",
        "print(\"s      =\", s)\n",
        "print(\n",
        "    \"s[2:5] =\", s[2:5]\n",
        ")  # <start>=2, <stop>=5, <step_size>=1 --> return the string 's[2]s[3]s[4]'"
      ],
      "execution_count": null,
      "outputs": [
        {
          "output_type": "stream",
          "name": "stdout",
          "text": [
            "l      = [0, 1, 2.5, True, 'a', 'b', 'c']\n",
            "l[0:3] = [0, 1, 2.5]\n",
            "\n",
            "t      = (0, 1, 2.5, False, 'a', 'b', 'c')\n",
            "t[1:4] = (1, 2.5, False)\n",
            "\n",
            "s      = 012.5Falseabc\n",
            "s[2:5] = 2.5\n"
          ]
        }
      ]
    },
    {
      "cell_type": "markdown",
      "source": [
        "Print the first 3 elements"
      ],
      "metadata": {
        "id": "eXR-9noCIuoD"
      }
    },
    {
      "cell_type": "code",
      "source": [
        "print(l[:3])"
      ],
      "metadata": {
        "colab": {
          "base_uri": "https://localhost:8080/"
        },
        "id": "Fs_Hz1JaIXoG",
        "outputId": "36aa71bb-8cb1-41d8-caa0-98cc6073cc84"
      },
      "execution_count": null,
      "outputs": [
        {
          "output_type": "stream",
          "name": "stdout",
          "text": [
            "[0, 1, 2.5]\n"
          ]
        }
      ]
    },
    {
      "cell_type": "markdown",
      "source": [
        "Print from the 4th element to the end"
      ],
      "metadata": {
        "id": "Lr5EX3KjIxby"
      }
    },
    {
      "cell_type": "code",
      "source": [
        "print(l[3:])"
      ],
      "metadata": {
        "colab": {
          "base_uri": "https://localhost:8080/"
        },
        "id": "FKfC6gg5IdeR",
        "outputId": "f3dfd565-9734-495a-c441-69390ccee768"
      },
      "execution_count": null,
      "outputs": [
        {
          "output_type": "stream",
          "name": "stdout",
          "text": [
            "[True, 'a', 'b', 'c']\n"
          ]
        }
      ]
    },
    {
      "cell_type": "markdown",
      "source": [
        "Print all"
      ],
      "metadata": {
        "id": "VOfjCFwiI2d_"
      }
    },
    {
      "cell_type": "code",
      "metadata": {
        "id": "wUJjQMX1vVYi",
        "colab": {
          "base_uri": "https://localhost:8080/"
        },
        "outputId": "1d519d23-1347-492e-cb2c-3e789332fcb2"
      },
      "source": [
        "print(l[::])"
      ],
      "execution_count": null,
      "outputs": [
        {
          "output_type": "stream",
          "name": "stdout",
          "text": [
            "[0, 1, 2.5, True, 'a', 'b', 'c']\n"
          ]
        }
      ]
    },
    {
      "cell_type": "markdown",
      "source": [
        "Print all, but skip every other element"
      ],
      "metadata": {
        "id": "KlWZE3sDKGzR"
      }
    },
    {
      "cell_type": "code",
      "source": [
        "print(l[::2])"
      ],
      "metadata": {
        "colab": {
          "base_uri": "https://localhost:8080/"
        },
        "id": "FA8iPgdWKDje",
        "outputId": "c6f59fe2-1d45-4aab-c8bd-78f2e738b8b5"
      },
      "execution_count": null,
      "outputs": [
        {
          "output_type": "stream",
          "name": "stdout",
          "text": [
            "[0, 2.5, 'a', 'c']\n"
          ]
        }
      ]
    },
    {
      "cell_type": "markdown",
      "source": [
        "Print all, but in reverse order"
      ],
      "metadata": {
        "id": "TfGZLmJEI4oe"
      }
    },
    {
      "cell_type": "code",
      "source": [
        "print(l[::-1])"
      ],
      "metadata": {
        "colab": {
          "base_uri": "https://localhost:8080/"
        },
        "id": "yp3QDo1oIpQa",
        "outputId": "3c635344-0a73-45ea-ab31-8521feeac081"
      },
      "execution_count": null,
      "outputs": [
        {
          "output_type": "stream",
          "name": "stdout",
          "text": [
            "['c', 'b', 'a', True, 2.5, 1, 0]\n"
          ]
        }
      ]
    },
    {
      "cell_type": "code",
      "source": [
        "print(l[::-2])"
      ],
      "metadata": {
        "colab": {
          "base_uri": "https://localhost:8080/"
        },
        "id": "ErsrtTXyMXAv",
        "outputId": "4d079ebf-6aa0-4617-f459-d9ba99097589"
      },
      "execution_count": null,
      "outputs": [
        {
          "output_type": "stream",
          "name": "stdout",
          "text": [
            "['c', 'a', 2.5, 0]\n"
          ]
        }
      ]
    },
    {
      "cell_type": "code",
      "source": [
        "print(l[4::-1])"
      ],
      "metadata": {
        "colab": {
          "base_uri": "https://localhost:8080/"
        },
        "id": "PQvU2U6ovSSf",
        "outputId": "f84740b9-d82f-4f84-dbe5-8c3b635b149f"
      },
      "execution_count": null,
      "outputs": [
        {
          "output_type": "stream",
          "name": "stdout",
          "text": [
            "['a', True, 2.5, 1, 0]\n"
          ]
        }
      ]
    },
    {
      "cell_type": "code",
      "source": [
        "print(l[-1:3:-1])  # not include stop index"
      ],
      "metadata": {
        "colab": {
          "base_uri": "https://localhost:8080/"
        },
        "id": "Ts80Y1FBtp_z",
        "outputId": "067c96bd-25fe-420c-94c2-342c5d17a0f6"
      },
      "execution_count": null,
      "outputs": [
        {
          "output_type": "stream",
          "name": "stdout",
          "text": [
            "['c', 'b', 'a']\n"
          ]
        }
      ]
    },
    {
      "cell_type": "markdown",
      "metadata": {
        "id": "4fy2kI8g1XOT"
      },
      "source": [
        "#### **Concatenate**"
      ]
    },
    {
      "cell_type": "code",
      "metadata": {
        "id": "X03kyp9h6FQd",
        "colab": {
          "base_uri": "https://localhost:8080/"
        },
        "outputId": "f1f411e1-667b-41dd-badf-0bc7a34bbb14"
      },
      "source": [
        "# List\n",
        "l1 = [0, 1, 2.5]\n",
        "l2 = [\"a\", \"b\", \"c\"]\n",
        "l = l1 + l2\n",
        "print(\"l =\", l)\n",
        "\n",
        "# Tuple\n",
        "t1 = (0, 1, 2.5)\n",
        "t2 = (\"a\", \"b\", \"c\")\n",
        "t = t1 + t2\n",
        "print(\"t =\", t)\n",
        "\n",
        "# String\n",
        "s1 = \"abc\"\n",
        "s2 = \"123\"\n",
        "s = s1 + s2\n",
        "print(\"s =\", s)"
      ],
      "execution_count": null,
      "outputs": [
        {
          "output_type": "stream",
          "name": "stdout",
          "text": [
            "l = [0, 1, 2.5, 'a', 'b', 'c']\n",
            "t = (0, 1, 2.5, 'a', 'b', 'c')\n",
            "s = abc123\n"
          ]
        }
      ]
    },
    {
      "cell_type": "markdown",
      "metadata": {
        "id": "rd0Hrje81mQu"
      },
      "source": [
        "#### **Misc**"
      ]
    },
    {
      "cell_type": "markdown",
      "metadata": {
        "id": "bjD_nBFyKLFt"
      },
      "source": [
        "📖 **Empty Sequences**"
      ]
    },
    {
      "cell_type": "code",
      "metadata": {
        "id": "7ilRjhLtAO49",
        "colab": {
          "base_uri": "https://localhost:8080/"
        },
        "outputId": "e036cb2b-b551-4331-8333-2e0b4397ee36"
      },
      "source": [
        "# List:\n",
        "l = []\n",
        "\n",
        "# Tuple\n",
        "t = ()\n",
        "\n",
        "# String\n",
        "s = \"\"\n",
        "\n",
        "print(l)\n",
        "print(t)\n",
        "print(s)"
      ],
      "execution_count": null,
      "outputs": [
        {
          "output_type": "stream",
          "name": "stdout",
          "text": [
            "[]\n",
            "()\n",
            "\n"
          ]
        }
      ]
    },
    {
      "cell_type": "markdown",
      "metadata": {
        "id": "wLvDOwhGKy3q"
      },
      "source": [
        "📖 **Nested Sequences**"
      ]
    },
    {
      "cell_type": "code",
      "metadata": {
        "id": "Tdoinn2wCM7a"
      },
      "source": [
        "# List in list\n",
        "ll = [[0, 1], [2, 3], [4, 5]]\n",
        "\n",
        "ll2 = [(0, 1), \"fdasf\", [2, 3]]\n",
        "\n",
        "# Tuple in tuple\n",
        "tt = ((0, 1), (2, 3), (4, 5))\n",
        "\n",
        "# String in list/tuple\n",
        "ls = [\"Hello\", \"World\"]\n",
        "ts = (\"My\", \"name\", \"is\", \"\")\n",
        "\n",
        "# String in string...??\n",
        "ss = 'fdas\"fdsa\"fdas'"
      ],
      "execution_count": null,
      "outputs": []
    },
    {
      "cell_type": "markdown",
      "metadata": {
        "id": "WZNrzbWVNWYH"
      },
      "source": [
        "💡 Check whether an element ***exists*** in a sequence using `in`"
      ]
    },
    {
      "cell_type": "code",
      "metadata": {
        "id": "s2nFHCVhMOru",
        "colab": {
          "base_uri": "https://localhost:8080/"
        },
        "outputId": "2db7f7f8-48cb-4d0a-a86a-ad1b36d44278"
      },
      "source": [
        "element = 1\n",
        "\n",
        "# List/Tuple\n",
        "l = [0, 1, 2]\n",
        "t = (0, 1, 2)\n",
        "\n",
        "print(element in l)\n",
        "print(element in t)\n",
        "\n",
        "l = [3, 4, 5]\n",
        "t = (3, 4, 5)\n",
        "\n",
        "print(element in l)\n",
        "print(element in t)"
      ],
      "execution_count": null,
      "outputs": [
        {
          "output_type": "stream",
          "name": "stdout",
          "text": [
            "True\n",
            "True\n",
            "False\n",
            "False\n"
          ]
        }
      ]
    },
    {
      "cell_type": "code",
      "metadata": {
        "id": "Uz0L1r47NqtI",
        "colab": {
          "base_uri": "https://localhost:8080/"
        },
        "outputId": "59cc3cc9-956b-4e12-87ce-0904ed0baa52"
      },
      "source": [
        "# String\n",
        "n = \"r\"\n",
        "s1 = \"Coder\"\n",
        "s2 = \"School\"\n",
        "\n",
        "print(n in s1)\n",
        "print(n in s2)"
      ],
      "execution_count": null,
      "outputs": [
        {
          "output_type": "stream",
          "name": "stdout",
          "text": [
            "True\n",
            "False\n"
          ]
        }
      ]
    },
    {
      "cell_type": "markdown",
      "metadata": {
        "id": "32v-g1FzOnia"
      },
      "source": [
        "❓ **Question**: This will give an error! Can you fix this?"
      ]
    },
    {
      "cell_type": "code",
      "metadata": {
        "id": "YgEz851oOaol",
        "colab": {
          "base_uri": "https://localhost:8080/",
          "height": 210
        },
        "outputId": "01380f1f-c190-4d4e-84c5-636b5bde1d27"
      },
      "source": [
        "# ONLY strings can be `in` string\n",
        "n = 1\n",
        "s = \"0123\"\n",
        "print(n in s)"
      ],
      "execution_count": null,
      "outputs": [
        {
          "output_type": "error",
          "ename": "TypeError",
          "evalue": "ignored",
          "traceback": [
            "\u001b[0;31m---------------------------------------------------------------------------\u001b[0m",
            "\u001b[0;31mTypeError\u001b[0m                                 Traceback (most recent call last)",
            "\u001b[0;32m<ipython-input-25-fefb3de043cc>\u001b[0m in \u001b[0;36m<cell line: 4>\u001b[0;34m()\u001b[0m\n\u001b[1;32m      2\u001b[0m \u001b[0mn\u001b[0m \u001b[0;34m=\u001b[0m \u001b[0;36m1\u001b[0m\u001b[0;34m\u001b[0m\u001b[0;34m\u001b[0m\u001b[0m\n\u001b[1;32m      3\u001b[0m \u001b[0ms\u001b[0m \u001b[0;34m=\u001b[0m \u001b[0;34m\"0123\"\u001b[0m\u001b[0;34m\u001b[0m\u001b[0;34m\u001b[0m\u001b[0m\n\u001b[0;32m----> 4\u001b[0;31m \u001b[0mprint\u001b[0m\u001b[0;34m(\u001b[0m\u001b[0mn\u001b[0m \u001b[0;32min\u001b[0m \u001b[0ms\u001b[0m\u001b[0;34m)\u001b[0m\u001b[0;34m\u001b[0m\u001b[0;34m\u001b[0m\u001b[0m\n\u001b[0m",
            "\u001b[0;31mTypeError\u001b[0m: 'in <string>' requires string as left operand, not int"
          ]
        }
      ]
    },
    {
      "cell_type": "markdown",
      "metadata": {
        "id": "QqOXs7JL2RAH"
      },
      "source": [
        "## LIST vs. TUPLE"
      ]
    },
    {
      "cell_type": "markdown",
      "metadata": {
        "id": "llkNLVEoW502"
      },
      "source": [
        "Lists are ***mutable*** (changable). Change the first element of the list above to 10"
      ]
    },
    {
      "cell_type": "code",
      "metadata": {
        "id": "AHh9V5RgIQjT",
        "colab": {
          "base_uri": "https://localhost:8080/"
        },
        "outputId": "4ac720bf-3fd0-420b-bb7d-b20b70111f3b"
      },
      "source": [
        "my_list = [0, 1, 2]\n",
        "\n",
        "my_list[0] = 10\n",
        "print(my_list)"
      ],
      "execution_count": null,
      "outputs": [
        {
          "output_type": "stream",
          "name": "stdout",
          "text": [
            "[10, 1, 2]\n"
          ]
        }
      ]
    },
    {
      "cell_type": "markdown",
      "metadata": {
        "id": "k8dB3X6LZJct"
      },
      "source": [
        "⚠️ Tuples are very similar to lists, except that tuples are ***immutable***"
      ]
    },
    {
      "cell_type": "code",
      "metadata": {
        "id": "XuZdXevf1dXW",
        "colab": {
          "base_uri": "https://localhost:8080/",
          "height": 210
        },
        "outputId": "9be6c8de-276d-4500-81b9-de26161a7eae"
      },
      "source": [
        "my_tuple = (1, 2, 3)\n",
        "my_tuple = (2, 3, 4)\n",
        "\n",
        "my_tuple[0] = 10"
      ],
      "execution_count": null,
      "outputs": [
        {
          "output_type": "error",
          "ename": "TypeError",
          "evalue": "ignored",
          "traceback": [
            "\u001b[0;31m---------------------------------------------------------------------------\u001b[0m",
            "\u001b[0;31mTypeError\u001b[0m                                 Traceback (most recent call last)",
            "\u001b[0;32m<ipython-input-27-1843736b8fa3>\u001b[0m in \u001b[0;36m<cell line: 4>\u001b[0;34m()\u001b[0m\n\u001b[1;32m      2\u001b[0m \u001b[0mmy_tuple\u001b[0m \u001b[0;34m=\u001b[0m \u001b[0;34m(\u001b[0m\u001b[0;36m2\u001b[0m\u001b[0;34m,\u001b[0m \u001b[0;36m3\u001b[0m\u001b[0;34m,\u001b[0m \u001b[0;36m4\u001b[0m\u001b[0;34m)\u001b[0m\u001b[0;34m\u001b[0m\u001b[0;34m\u001b[0m\u001b[0m\n\u001b[1;32m      3\u001b[0m \u001b[0;34m\u001b[0m\u001b[0m\n\u001b[0;32m----> 4\u001b[0;31m \u001b[0mmy_tuple\u001b[0m\u001b[0;34m[\u001b[0m\u001b[0;36m0\u001b[0m\u001b[0;34m]\u001b[0m \u001b[0;34m=\u001b[0m \u001b[0;36m10\u001b[0m\u001b[0;34m\u001b[0m\u001b[0;34m\u001b[0m\u001b[0m\n\u001b[0m",
            "\u001b[0;31mTypeError\u001b[0m: 'tuple' object does not support item assignment"
          ]
        }
      ]
    },
    {
      "cell_type": "markdown",
      "metadata": {
        "id": "933GPoYuVeTi"
      },
      "source": [
        "## GROWING A SEQUENCE\n",
        "\n",
        "📝 **Method**\n",
        "\n",
        "In Python, for any specific data-type ( strings, booleans, lists, etc. ) there is ***built-in functionality*** that we can use to create, manipulate, and even delete our data. We call this built-in functionality a ***method***."
      ]
    },
    {
      "cell_type": "markdown",
      "metadata": {
        "id": "8fsZ3iDU5qdl"
      },
      "source": [
        "### **`append()`**"
      ]
    },
    {
      "cell_type": "markdown",
      "metadata": {
        "id": "JS9jcCC_VxkH"
      },
      "source": [
        "An example of a popular list method is `.append()`, which allows us to add an element to the end of a list."
      ]
    },
    {
      "cell_type": "code",
      "metadata": {
        "id": "EjyOlVtSsDSx",
        "colab": {
          "base_uri": "https://localhost:8080/"
        },
        "outputId": "086d5da6-6111-410a-bd73-f4b059d4d78e"
      },
      "source": [
        "my_list = [1, 2, 3]\n",
        "my_list.append(4)\n",
        "\n",
        "print(my_list)"
      ],
      "execution_count": null,
      "outputs": [
        {
          "output_type": "stream",
          "name": "stdout",
          "text": [
            "[1, 2, 3, 4]\n"
          ]
        }
      ]
    },
    {
      "cell_type": "markdown",
      "metadata": {
        "id": "Zb13TDY13WK9"
      },
      "source": [
        "Because tuples are immutable, we can not append a tuple."
      ]
    },
    {
      "cell_type": "code",
      "metadata": {
        "id": "7hKUXZ481dXV",
        "colab": {
          "base_uri": "https://localhost:8080/",
          "height": 193
        },
        "outputId": "714d7675-2217-4bf6-8f6a-43722e6cd09b"
      },
      "source": [
        "my_tuple = (1, 2, 3)\n",
        "my_tuple.append(4)"
      ],
      "execution_count": null,
      "outputs": [
        {
          "output_type": "error",
          "ename": "AttributeError",
          "evalue": "ignored",
          "traceback": [
            "\u001b[0;31m---------------------------------------------------------------------------\u001b[0m",
            "\u001b[0;31mAttributeError\u001b[0m                            Traceback (most recent call last)",
            "\u001b[0;32m<ipython-input-29-b3fcb36c7b6a>\u001b[0m in \u001b[0;36m<cell line: 2>\u001b[0;34m()\u001b[0m\n\u001b[1;32m      1\u001b[0m \u001b[0mmy_tuple\u001b[0m \u001b[0;34m=\u001b[0m \u001b[0;34m(\u001b[0m\u001b[0;36m1\u001b[0m\u001b[0;34m,\u001b[0m \u001b[0;36m2\u001b[0m\u001b[0;34m,\u001b[0m \u001b[0;36m3\u001b[0m\u001b[0;34m)\u001b[0m\u001b[0;34m\u001b[0m\u001b[0;34m\u001b[0m\u001b[0m\n\u001b[0;32m----> 2\u001b[0;31m \u001b[0mmy_tuple\u001b[0m\u001b[0;34m.\u001b[0m\u001b[0mappend\u001b[0m\u001b[0;34m(\u001b[0m\u001b[0;36m4\u001b[0m\u001b[0;34m)\u001b[0m\u001b[0;34m\u001b[0m\u001b[0;34m\u001b[0m\u001b[0m\n\u001b[0m",
            "\u001b[0;31mAttributeError\u001b[0m: 'tuple' object has no attribute 'append'"
          ]
        }
      ]
    },
    {
      "cell_type": "markdown",
      "metadata": {
        "id": "pX2aRl2yawYX"
      },
      "source": [
        "### **`extend()` and concat(+)**"
      ]
    },
    {
      "cell_type": "markdown",
      "metadata": {
        "id": "NZDN_jcd4Ljh"
      },
      "source": [
        "❓ What if we want to append **multiple** items at a time?"
      ]
    },
    {
      "cell_type": "code",
      "metadata": {
        "id": "4Pa_p-bs4hg7",
        "colab": {
          "base_uri": "https://localhost:8080/",
          "height": 193
        },
        "outputId": "cff6b728-8d61-4eda-96c1-b671ef19633a"
      },
      "source": [
        "my_list = [1, 2, 3]\n",
        "my_list.append(\"4\", \"5\")"
      ],
      "execution_count": null,
      "outputs": [
        {
          "output_type": "error",
          "ename": "TypeError",
          "evalue": "ignored",
          "traceback": [
            "\u001b[0;31m---------------------------------------------------------------------------\u001b[0m",
            "\u001b[0;31mTypeError\u001b[0m                                 Traceback (most recent call last)",
            "\u001b[0;32m<ipython-input-30-87cdf33f0f17>\u001b[0m in \u001b[0;36m<cell line: 2>\u001b[0;34m()\u001b[0m\n\u001b[1;32m      1\u001b[0m \u001b[0mmy_list\u001b[0m \u001b[0;34m=\u001b[0m \u001b[0;34m[\u001b[0m\u001b[0;36m1\u001b[0m\u001b[0;34m,\u001b[0m \u001b[0;36m2\u001b[0m\u001b[0;34m,\u001b[0m \u001b[0;36m3\u001b[0m\u001b[0;34m]\u001b[0m\u001b[0;34m\u001b[0m\u001b[0;34m\u001b[0m\u001b[0m\n\u001b[0;32m----> 2\u001b[0;31m \u001b[0mmy_list\u001b[0m\u001b[0;34m.\u001b[0m\u001b[0mappend\u001b[0m\u001b[0;34m(\u001b[0m\u001b[0;34m\"4\"\u001b[0m\u001b[0;34m,\u001b[0m \u001b[0;34m\"5\"\u001b[0m\u001b[0;34m)\u001b[0m\u001b[0;34m\u001b[0m\u001b[0;34m\u001b[0m\u001b[0m\n\u001b[0m",
            "\u001b[0;31mTypeError\u001b[0m: list.append() takes exactly one argument (2 given)"
          ]
        }
      ]
    },
    {
      "cell_type": "code",
      "metadata": {
        "id": "LoIh03gM1r86",
        "colab": {
          "base_uri": "https://localhost:8080/"
        },
        "outputId": "0867b077-ea68-4562-c024-42c07d712bd9"
      },
      "source": [
        "my_list = [1, 2, 3]\n",
        "another_list = [\"a\", \"b\", \"c\"]\n",
        "\n",
        "my_list.append(another_list)\n",
        "\n",
        "print(my_list)\n",
        "print(len(my_list))"
      ],
      "execution_count": null,
      "outputs": [
        {
          "output_type": "stream",
          "name": "stdout",
          "text": [
            "[1, 2, 3, ['a', 'b', 'c']]\n",
            "4\n"
          ]
        }
      ]
    },
    {
      "cell_type": "markdown",
      "metadata": {
        "id": "t0fRi6SZ6Agf"
      },
      "source": [
        "**Option 1: `extend()`**"
      ]
    },
    {
      "cell_type": "code",
      "metadata": {
        "id": "Cj9cO3fGbidv",
        "colab": {
          "base_uri": "https://localhost:8080/"
        },
        "outputId": "660e0311-5e42-49e3-af46-fac938dc8f6c"
      },
      "source": [
        "my_list = [1, 2, 3]\n",
        "another_list = [\"a\", \"b\", \"c\"]\n",
        "\n",
        "my_list.extend(another_list)\n",
        "print(my_list)"
      ],
      "execution_count": null,
      "outputs": [
        {
          "output_type": "stream",
          "name": "stdout",
          "text": [
            "[1, 2, 3, 'a', 'b', 'c']\n"
          ]
        }
      ]
    },
    {
      "cell_type": "markdown",
      "metadata": {
        "id": "cxWeA7Qa6Kri"
      },
      "source": [
        "**Option 2: concat(+)**"
      ]
    },
    {
      "cell_type": "code",
      "metadata": {
        "id": "j_7nzn6y6WSH",
        "colab": {
          "base_uri": "https://localhost:8080/"
        },
        "outputId": "793ebf42-9e74-46a3-cc46-2ec7ebb20d7c"
      },
      "source": [
        "my_list = [1, 2, 3]\n",
        "another_list = [\"a\", \"b\", \"c\"]\n",
        "\n",
        "new_list = my_list + another_list\n",
        "print(new_list)"
      ],
      "execution_count": null,
      "outputs": [
        {
          "output_type": "stream",
          "name": "stdout",
          "text": [
            "[1, 2, 3, 'a', 'b', 'c']\n"
          ]
        }
      ]
    },
    {
      "cell_type": "markdown",
      "metadata": {
        "id": "oHbSetXb7NNN"
      },
      "source": [
        "## OTHER METHODS"
      ]
    },
    {
      "cell_type": "markdown",
      "metadata": {
        "id": "L_fDxvfED-iY"
      },
      "source": [
        "**List**\n",
        "\n",
        "- `.append()`: add 1 item to the list\n",
        "- `.extend()`: add several items to the list\n",
        "- `.insert(index, item)`: insert an item at a defined index\n",
        "\n",
        "- `+` : concatenate two lists\n",
        "- `*` : repeat the list for a number of times\n",
        "\n",
        "- `del list[index]`: delete one or more items by its indexes\n",
        "- `.remove(value)`: remove an element with `value` in list\n",
        "\n",
        "Syntax and examples can be found [here](https://www.w3schools.com/python/python_ref_list.asp)."
      ]
    },
    {
      "cell_type": "markdown",
      "source": [
        "Let's demo with `.insert()`"
      ],
      "metadata": {
        "id": "dIBCPSnedOH-"
      }
    },
    {
      "cell_type": "code",
      "metadata": {
        "id": "iWsj4aMpD0VQ",
        "colab": {
          "base_uri": "https://localhost:8080/"
        },
        "outputId": "d4704227-1420-4a79-95da-161e17c4f8f2"
      },
      "source": [
        "fruits = [\"apple\", \"banana\", \"cherry\"]\n",
        "index = 1\n",
        "\n",
        "# Option 1\n",
        "fruits.insert(index, \"orange\")\n",
        "print(fruits)"
      ],
      "execution_count": null,
      "outputs": [
        {
          "output_type": "stream",
          "name": "stdout",
          "text": [
            "['apple', 'orange', 'banana', 'cherry']\n"
          ]
        }
      ]
    },
    {
      "cell_type": "code",
      "source": [
        "fruits = [\"apple\", \"banana\", \"cherry\"]\n",
        "index = 1\n",
        "\n",
        "# Option 2\n",
        "new_fruits = (\n",
        "    fruits[0:index] + [\"orange\"] + fruits[index:]\n",
        ")  # ['apple'] + ['orange'] + ['banana', 'cherry']\n",
        "print(new_fruits)"
      ],
      "metadata": {
        "colab": {
          "base_uri": "https://localhost:8080/"
        },
        "id": "_YkmLZ1qc3BG",
        "outputId": "6977d4de-aa70-46b4-f165-2b820c2f4e8a"
      },
      "execution_count": null,
      "outputs": [
        {
          "output_type": "stream",
          "name": "stdout",
          "text": [
            "['apple', 'orange', 'banana', 'cherry']\n"
          ]
        }
      ]
    },
    {
      "cell_type": "code",
      "source": [
        "fruits = [\"apple\", \"banana\", \"cherry\"]\n",
        "index = 1\n",
        "\n",
        "# Option 3\n",
        "new_fruits = fruits[0:index]\n",
        "new_fruits.append(\"orange\")\n",
        "new_fruits.extend(fruits[index:])\n",
        "print(new_fruits)"
      ],
      "metadata": {
        "colab": {
          "base_uri": "https://localhost:8080/"
        },
        "id": "PEpveUDfdLuz",
        "outputId": "eb953219-5571-4e2a-9626-3ec97c0cf346"
      },
      "execution_count": null,
      "outputs": [
        {
          "output_type": "stream",
          "name": "stdout",
          "text": [
            "['apple', 'orange', 'banana', 'cherry']\n"
          ]
        }
      ]
    },
    {
      "cell_type": "markdown",
      "source": [
        "Another demo with `.remove()`"
      ],
      "metadata": {
        "id": "TAAT7snDdSc4"
      }
    },
    {
      "cell_type": "code",
      "metadata": {
        "id": "fmsQfhIcFHkh",
        "colab": {
          "base_uri": "https://localhost:8080/"
        },
        "outputId": "98ea0e17-d97f-4baf-b07e-b55f4abbafc3"
      },
      "source": [
        "fruits = [\"apple\", \"banana\", \"cherry\"]\n",
        "\n",
        "fruits.remove(\"banana\")\n",
        "print(fruits)"
      ],
      "execution_count": null,
      "outputs": [
        {
          "output_type": "stream",
          "name": "stdout",
          "text": [
            "['apple', 'cherry']\n"
          ]
        }
      ]
    },
    {
      "cell_type": "markdown",
      "metadata": {
        "id": "sbhnVNlC78nP"
      },
      "source": [
        "**Tuple**\n",
        "- [`.count(value)` ](https://www.w3schools.com/python/ref_tuple_count.asp): Returns the number of times a specified `value` occurs in a tuple\n",
        "- [`.index(value)`](https://www.w3schools.com/python/ref_tuple_index.asp): Searches the tuple for a specified `value` and returns the position of where it was found"
      ]
    },
    {
      "cell_type": "markdown",
      "metadata": {
        "id": "Newy9nE8_i89"
      },
      "source": [
        "## STRING"
      ]
    },
    {
      "cell_type": "markdown",
      "metadata": {
        "id": "yODQ_QWvmtAw"
      },
      "source": [
        "🏃🏻‍♂️ **Mini Exercise**"
      ]
    },
    {
      "cell_type": "code",
      "metadata": {
        "id": "Abf6mPyT2Af5"
      },
      "source": [
        "# Define a variable with string \"CODERSHOOL\""
      ],
      "execution_count": null,
      "outputs": []
    },
    {
      "cell_type": "code",
      "metadata": {
        "id": "HJvRLLX6W9yg"
      },
      "source": [
        "# Choose the 5th character\n",
        "\n",
        "\n",
        "# Choose the 3rd last character"
      ],
      "execution_count": null,
      "outputs": []
    },
    {
      "cell_type": "code",
      "metadata": {
        "id": "aYB93WQ7WGdp"
      },
      "source": [
        "# Choose all the character before the 5th character"
      ],
      "execution_count": null,
      "outputs": []
    },
    {
      "cell_type": "code",
      "metadata": {
        "id": "3SzG0RGSWJDe"
      },
      "source": [
        "# Choose only the 'SCHOOL' part"
      ],
      "execution_count": null,
      "outputs": []
    },
    {
      "cell_type": "code",
      "metadata": {
        "id": "dgyoIdSwWrvd"
      },
      "source": [
        "# Choose everything"
      ],
      "execution_count": null,
      "outputs": []
    },
    {
      "cell_type": "code",
      "metadata": {
        "id": "ibLfrVH8WtfT"
      },
      "source": [
        "# Choose everything but backward"
      ],
      "execution_count": null,
      "outputs": []
    },
    {
      "cell_type": "code",
      "metadata": {
        "id": "lihhPR63uPRA"
      },
      "source": [
        "# Extract 'RED' from 'CODERSCHOOL'"
      ],
      "execution_count": null,
      "outputs": []
    },
    {
      "cell_type": "code",
      "metadata": {
        "id": "WoYG6Xj2Kx0d",
        "colab": {
          "base_uri": "https://localhost:8080/",
          "height": 193
        },
        "outputId": "ffbf5bb3-bc8c-421d-d252-789e1d3c7914"
      },
      "source": [
        "# Does this work?\n",
        "mystring[5] = \"H\""
      ],
      "execution_count": null,
      "outputs": [
        {
          "output_type": "error",
          "ename": "NameError",
          "evalue": "ignored",
          "traceback": [
            "\u001b[0;31m---------------------------------------------------------------------------\u001b[0m",
            "\u001b[0;31mNameError\u001b[0m                                 Traceback (most recent call last)",
            "\u001b[0;32m<ipython-input-45-7790ebd8202d>\u001b[0m in \u001b[0;36m<cell line: 2>\u001b[0;34m()\u001b[0m\n\u001b[1;32m      1\u001b[0m \u001b[0;31m# Does this work?\u001b[0m\u001b[0;34m\u001b[0m\u001b[0;34m\u001b[0m\u001b[0m\n\u001b[0;32m----> 2\u001b[0;31m \u001b[0mmystring\u001b[0m\u001b[0;34m[\u001b[0m\u001b[0;36m5\u001b[0m\u001b[0;34m]\u001b[0m \u001b[0;34m=\u001b[0m \u001b[0;34m\"H\"\u001b[0m\u001b[0;34m\u001b[0m\u001b[0;34m\u001b[0m\u001b[0m\n\u001b[0m",
            "\u001b[0;31mNameError\u001b[0m: name 'mystring' is not defined"
          ]
        }
      ]
    },
    {
      "cell_type": "markdown",
      "source": [
        "How to modify a string?"
      ],
      "metadata": {
        "id": "SYGIl-DRPliR"
      }
    },
    {
      "cell_type": "code",
      "metadata": {
        "id": "3qr64X4BCd86",
        "colab": {
          "base_uri": "https://localhost:8080/",
          "height": 70
        },
        "outputId": "4aa31b06-509e-40b3-f35f-d65327a53df8"
      },
      "source": [
        "# CODERSCHOOL --> CODERHCHOOL\n",
        "mystring = \"CODERSCHOOL\"\n",
        "\n",
        "# Option 1\n",
        "s1 = mystring[:5]\n",
        "s2 = \"H\"\n",
        "s3 = mystring[6:]\n",
        "print(s1 + s2 + s3)\n",
        "\n",
        "# Option 2\n",
        "s = list(mystring)\n",
        "print(s)\n",
        "s[5] = \"H\"\n",
        "s = \"\".join(s)  # convert a list to string\n",
        "s"
      ],
      "execution_count": null,
      "outputs": [
        {
          "output_type": "stream",
          "name": "stdout",
          "text": [
            "CODERHCHOOL\n",
            "['C', 'O', 'D', 'E', 'R', 'S', 'C', 'H', 'O', 'O', 'L']\n"
          ]
        },
        {
          "output_type": "execute_result",
          "data": {
            "text/plain": [
              "'CODERHCHOOL'"
            ],
            "application/vnd.google.colaboratory.intrinsic+json": {
              "type": "string"
            }
          },
          "metadata": {},
          "execution_count": 46
        }
      ]
    },
    {
      "cell_type": "code",
      "metadata": {
        "id": "xFFe_PQOacY-",
        "colab": {
          "base_uri": "https://localhost:8080/",
          "height": 140
        },
        "outputId": "3d4bc08f-293b-4036-f62c-52c83c680ed9"
      },
      "source": [
        "# Convert string to integer\n",
        "a = 123\n",
        "\n",
        "a = str(a)\n",
        "print(a, type(a))\n",
        "\n",
        "a = int(a)c\n",
        "print(a, type(a))"
      ],
      "execution_count": null,
      "outputs": [
        {
          "output_type": "error",
          "ename": "SyntaxError",
          "evalue": "ignored",
          "traceback": [
            "\u001b[0;36m  File \u001b[0;32m\"<ipython-input-47-dd3f21cd32ce>\"\u001b[0;36m, line \u001b[0;32m7\u001b[0m\n\u001b[0;31m    a = int(a)c\u001b[0m\n\u001b[0m              ^\u001b[0m\n\u001b[0;31mSyntaxError\u001b[0m\u001b[0;31m:\u001b[0m invalid syntax\n"
          ]
        }
      ]
    },
    {
      "cell_type": "markdown",
      "source": [
        "🏃🏻‍♂️ **Mini Exercise**: Given a three-digit number, calculate the sum of all its digits"
      ],
      "metadata": {
        "id": "42JgcN91y5aj"
      }
    },
    {
      "cell_type": "code",
      "metadata": {
        "id": "N9k4yAk3QY_4"
      },
      "source": [
        "# YOUR CODE HERE"
      ],
      "execution_count": null,
      "outputs": []
    },
    {
      "cell_type": "markdown",
      "metadata": {
        "id": "Yev88SEj8yyC"
      },
      "source": [
        "💡 List of string methods could be found [here](https://www.w3schools.com/python/python_ref_string.asp). Don't worry, you don't need to remember them all!"
      ]
    },
    {
      "cell_type": "markdown",
      "metadata": {
        "id": "-TRnq0EiOqaf"
      },
      "source": [
        "🏃🏻‍♂️ **Mini Exercise**\n",
        "\n",
        "You are given a string.\n",
        "\n",
        "1.  In the first line, print the third character of this string.\n",
        "\n",
        "2.  In the second line, print the second to last character of this string.\n",
        "\n",
        "3.  In the third line, print the first five characters of this string.\n",
        "\n",
        "4.  In the fourth line, print all except the last two characters of this string.\n",
        "\n",
        "5.  In the fifth line, print all the characters of this string with even indices (remember indexing starts at 0, so the characters are displayed starting with the first).\n",
        "\n",
        "6.  In the sixth line, print all the characters of this string with odd indices (i.e. starting with the second character in the string).\n",
        "\n",
        "7.  In the seventh line, print all the characters of the string in reverse order.\n",
        "\n",
        "8.  In the eighth line, print every second character of the string in reverse order, starting from the last one.\n",
        "\n",
        "9.  In the ninth line, print the length of the given string.\n",
        "\n",
        "*Example:*\n",
        "```python\n",
        ">>> Abrakadabra # input\n",
        "r\n",
        "r\n",
        "Abrak\n",
        "Abrakadab\n",
        "Arkdba\n",
        "baaar\n",
        "arbadakarbA\n",
        "abdkrA\n",
        "11\n",
        "```"
      ]
    },
    {
      "cell_type": "code",
      "metadata": {
        "id": "bDFnuqn8Cet0"
      },
      "source": [
        "# YOUR CODE HERE\n",
        "string = \"Abrakadabra\""
      ],
      "execution_count": null,
      "outputs": []
    },
    {
      "cell_type": "markdown",
      "metadata": {
        "id": "TO9J8SYvEGHq"
      },
      "source": [
        "🔥 **CHALLENGE**\n",
        "\n",
        "Given a string, cut it into two equal parts. If the length of the string is odd, leave the middle character within the first chunk, so that the first string contains one more character than the second. Now print a new string on a single row with the first and second halves swapped: second half first and the first half last.\n",
        "\n",
        "Can you solve it without using if?\n",
        "\n",
        "*Example #1:*\n",
        "```python\n",
        ">>> Qwerty # input\n",
        "rtyQwe # output\n",
        "```\n",
        "\n",
        "*Example #2:*\n",
        "```python\n",
        ">>> tulip # input\n",
        "iptul # output\n",
        "```\n",
        "\n",
        "*Example #3:*\n",
        "```python\n",
        ">>> Abrakadabra # input\n",
        "dabraAbraka # output\n",
        "```"
      ]
    },
    {
      "cell_type": "code",
      "metadata": {
        "id": "_TPDKyuNC9yB"
      },
      "source": [
        "# YOUR CODE HERE\n",
        "mystring = \"tulip\""
      ],
      "execution_count": null,
      "outputs": []
    },
    {
      "cell_type": "markdown",
      "source": [
        "⚠️ Please note that from Python 3 (the one we are using), **Bankers Rounding** is applied, in which the round() function will round the `.5 number` to the **nearest *even* number**. Thus, 2.5 rounds down to 2; 1.5 rounds up to 2.\n",
        "\n",
        "The supposed advantage to bankers rounding is that it is *unbiased*, and thus produces better results with various operations that involve rounding."
      ],
      "metadata": {
        "id": "rO5M67xIezCk"
      }
    },
    {
      "cell_type": "markdown",
      "metadata": {
        "id": "E_jDvSv7gmHE"
      },
      "source": [
        "## [Extra] SET"
      ]
    },
    {
      "cell_type": "markdown",
      "metadata": {
        "id": "jYvLIhAZqUi2"
      },
      "source": [
        "Python’s built-in `set` type has the following characteristics:\n",
        "\n",
        "1. Sets are **unordered**.\n",
        "2. Set elements are **unique**. Duplicate elements are not allowed.\n",
        "3. A set itself may be modified, but the elements contained in the set must be of an **immutable** type."
      ]
    },
    {
      "cell_type": "code",
      "metadata": {
        "id": "OQcpY3ZaqjIp"
      },
      "source": [
        "# Create a set\n",
        "set1 = {\"apple\", \"banana\", \"cherry\"}"
      ],
      "execution_count": null,
      "outputs": []
    },
    {
      "cell_type": "code",
      "metadata": {
        "colab": {
          "base_uri": "https://localhost:8080/",
          "height": 175
        },
        "outputId": "c18d3832-23f4-4e22-d28e-12fb39027a30",
        "id": "ZhbYN7BdWvSP"
      },
      "source": [
        "set1[1]"
      ],
      "execution_count": null,
      "outputs": [
        {
          "output_type": "error",
          "ename": "TypeError",
          "evalue": "ignored",
          "traceback": [
            "\u001b[0;31m---------------------------------------------------------------------------\u001b[0m",
            "\u001b[0;31mTypeError\u001b[0m                                 Traceback (most recent call last)",
            "\u001b[0;32m<ipython-input-54-d27c0eee2e56>\u001b[0m in \u001b[0;36m<cell line: 1>\u001b[0;34m()\u001b[0m\n\u001b[0;32m----> 1\u001b[0;31m \u001b[0mset1\u001b[0m\u001b[0;34m[\u001b[0m\u001b[0;36m1\u001b[0m\u001b[0;34m]\u001b[0m\u001b[0;34m\u001b[0m\u001b[0;34m\u001b[0m\u001b[0m\n\u001b[0m",
            "\u001b[0;31mTypeError\u001b[0m: 'set' object is not subscriptable"
          ]
        }
      ]
    },
    {
      "cell_type": "code",
      "metadata": {
        "id": "QJOotxefrG2X",
        "colab": {
          "base_uri": "https://localhost:8080/"
        },
        "outputId": "642982ff-0a16-434f-a0a7-f85b7a764437"
      },
      "source": [
        "# Duplicate elements are not allowed\n",
        "set2 = {\"apple\", \"banana\", \"cherry\", \"apple\"}\n",
        "print(set2)"
      ],
      "execution_count": null,
      "outputs": [
        {
          "output_type": "stream",
          "name": "stdout",
          "text": [
            "{'apple', 'cherry', 'banana'}\n"
          ]
        }
      ]
    },
    {
      "cell_type": "code",
      "metadata": {
        "id": "qfu4aWvyixJb",
        "colab": {
          "base_uri": "https://localhost:8080/"
        },
        "outputId": "24d9dbc0-ff33-423b-b328-cd960807bfba"
      },
      "source": [
        "# Convert a list to a set\n",
        "new_set = set([\"banana\", \"kiwi\", \"kiwi\", \"orange\", \"orange\", \"orange\"])\n",
        "new_set"
      ],
      "execution_count": null,
      "outputs": [
        {
          "output_type": "execute_result",
          "data": {
            "text/plain": [
              "{'banana', 'kiwi', 'orange'}"
            ]
          },
          "metadata": {},
          "execution_count": 56
        }
      ]
    },
    {
      "cell_type": "code",
      "metadata": {
        "id": "haUcvUlt-PG0"
      },
      "source": [
        "# Add/Remove an element to a set\n",
        "new_set.add(\"apple\")\n",
        "new_set.remove(\"banana\")"
      ],
      "execution_count": null,
      "outputs": []
    },
    {
      "cell_type": "code",
      "metadata": {
        "id": "W9hqTz7gL3ZP",
        "colab": {
          "base_uri": "https://localhost:8080/"
        },
        "outputId": "47b1fbba-1e42-4fc6-d931-8063679b34be"
      },
      "source": [
        "new_set"
      ],
      "execution_count": null,
      "outputs": [
        {
          "output_type": "execute_result",
          "data": {
            "text/plain": [
              "{'apple', 'kiwi', 'orange'}"
            ]
          },
          "metadata": {},
          "execution_count": 58
        }
      ]
    },
    {
      "cell_type": "markdown",
      "metadata": {
        "id": "ZzgwI2imq8iY"
      },
      "source": [
        "### **Set Operations**"
      ]
    },
    {
      "cell_type": "markdown",
      "source": [
        "**Union**"
      ],
      "metadata": {
        "id": "S3v0mAvlsgMn"
      }
    },
    {
      "cell_type": "code",
      "metadata": {
        "id": "0SVhqiVEnTtw",
        "colab": {
          "base_uri": "https://localhost:8080/"
        },
        "outputId": "c265ff61-1e35-40f9-bd96-49da1fdead0c"
      },
      "source": [
        "a = {1, 2, 3, 4, 5}\n",
        "b = {4, 5, 6, 7, 8}\n",
        "\n",
        "print(a | b)  # First way\n",
        "print(a.union(b))  # Second way"
      ],
      "execution_count": null,
      "outputs": [
        {
          "output_type": "stream",
          "name": "stdout",
          "text": [
            "{1, 2, 3, 4, 5, 6, 7, 8}\n",
            "{1, 2, 3, 4, 5, 6, 7, 8}\n"
          ]
        }
      ]
    },
    {
      "cell_type": "markdown",
      "source": [
        "**Intersection**"
      ],
      "metadata": {
        "id": "wVN2uzZpslVG"
      }
    },
    {
      "cell_type": "code",
      "metadata": {
        "id": "JA4Zh8vGnfHT",
        "colab": {
          "base_uri": "https://localhost:8080/"
        },
        "outputId": "84373a99-9373-4b9f-9b20-e21b9e61c8b5"
      },
      "source": [
        "print(a & b)  # First way\n",
        "print(a.intersection(b))  # Second way"
      ],
      "execution_count": null,
      "outputs": [
        {
          "output_type": "stream",
          "name": "stdout",
          "text": [
            "{4, 5}\n",
            "{4, 5}\n"
          ]
        }
      ]
    },
    {
      "cell_type": "markdown",
      "source": [
        "**Difference**"
      ],
      "metadata": {
        "id": "gQoV8sCPsu3F"
      }
    },
    {
      "cell_type": "code",
      "metadata": {
        "id": "o4sJH4gxngbC",
        "colab": {
          "base_uri": "https://localhost:8080/"
        },
        "outputId": "ebcb338a-4e5c-49bb-9ad8-a182cc5557b0"
      },
      "source": [
        "print(a - b)  # First way\n",
        "print(a.difference(b))  # Second way"
      ],
      "execution_count": null,
      "outputs": [
        {
          "output_type": "stream",
          "name": "stdout",
          "text": [
            "{1, 2, 3}\n",
            "{1, 2, 3}\n"
          ]
        }
      ]
    },
    {
      "cell_type": "markdown",
      "source": [
        "❓What does this print?"
      ],
      "metadata": {
        "id": "zQ4Rh6K1szj1"
      }
    },
    {
      "cell_type": "code",
      "metadata": {
        "id": "EmeengtSDYvO",
        "colab": {
          "base_uri": "https://localhost:8080/"
        },
        "outputId": "f3fe8294-5703-40c5-ae2e-5bd074c644be"
      },
      "source": [
        "print(b - a)"
      ],
      "execution_count": null,
      "outputs": [
        {
          "output_type": "stream",
          "name": "stdout",
          "text": [
            "{8, 6, 7}\n"
          ]
        }
      ]
    },
    {
      "cell_type": "markdown",
      "source": [
        "`symmetric_difference()`"
      ],
      "metadata": {
        "id": "tG5qlU_etC19"
      }
    },
    {
      "cell_type": "code",
      "metadata": {
        "id": "n6XWuOaVnjQC",
        "colab": {
          "base_uri": "https://localhost:8080/"
        },
        "outputId": "dc011d93-34cc-42e2-d4f4-4ec7af130f40"
      },
      "source": [
        "print(a ^ b)  # First way\n",
        "print(a.symmetric_difference(b))  # Second way"
      ],
      "execution_count": null,
      "outputs": [
        {
          "output_type": "stream",
          "name": "stdout",
          "text": [
            "{1, 2, 3, 6, 7, 8}\n",
            "{1, 2, 3, 6, 7, 8}\n"
          ]
        }
      ]
    },
    {
      "cell_type": "markdown",
      "metadata": {
        "id": "JQ4LfdLan2-i"
      },
      "source": [
        "🏃🏻‍♂️ **Mini Exercise:** Given a list of 10 numbers. Print the *number* of distinct elements of the list.\n",
        "\n"
      ]
    },
    {
      "cell_type": "code",
      "metadata": {
        "id": "iF5VVl5Go2AT"
      },
      "source": [
        "a = [1, 2, 4, 1, 6, 2, 9, 1, 1, 6]\n",
        "\n",
        "# YOUR CODE HERE"
      ],
      "execution_count": null,
      "outputs": []
    }
  ]
}