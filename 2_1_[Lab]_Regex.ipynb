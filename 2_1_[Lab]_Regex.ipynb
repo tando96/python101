{
  "nbformat": 4,
  "nbformat_minor": 0,
  "metadata": {
    "colab": {
      "provenance": [],
      "include_colab_link": true
    },
    "kernelspec": {
      "name": "python3",
      "display_name": "Python 3"
    },
    "language_info": {
      "name": "python"
    }
  },
  "cells": [
    {
      "cell_type": "markdown",
      "metadata": {
        "id": "view-in-github",
        "colab_type": "text"
      },
      "source": [
        "<a href=\"https://colab.research.google.com/github/tando96/python101/blob/main/2_1_%5BLab%5D_Regex.ipynb\" target=\"_parent\"><img src=\"https://colab.research.google.com/assets/colab-badge.svg\" alt=\"Open In Colab\"/></a>"
      ]
    },
    {
      "cell_type": "markdown",
      "metadata": {
        "id": "a7d26314"
      },
      "source": [
        "<h2>Import data and libraries</h2>"
      ]
    },
    {
      "cell_type": "code",
      "metadata": {
        "id": "8333407b"
      },
      "source": [
        "import re"
      ],
      "execution_count": 1,
      "outputs": []
    },
    {
      "cell_type": "markdown",
      "metadata": {
        "id": "GLePNZ04mlGp"
      },
      "source": [
        "# ❤️  BASIC"
      ]
    },
    {
      "cell_type": "markdown",
      "metadata": {
        "id": "728iNMeaoq2a"
      },
      "source": [
        "## **Question 1**\n",
        "\n",
        "Write a Python program that matches a string that has an 'a' followed by anything, ending in 'b'.\n",
        "\n",
        "*Example:*\n",
        "```python\n",
        ">>> print(text_match_1('accddbbjjjb'))\n",
        "True\n",
        ">>> print(text_match_1('a_kinnb.b'))\n",
        "True\n",
        ">>> print(text_match_1('fffaaccddebb'))\n",
        "True\n",
        ">>> print(text_match_1('accddeee'))\n",
        "False\n",
        ">>> print(text_match_1('z_b_cbhfeb'))\n",
        "False\n",
        "```"
      ]
    },
    {
      "cell_type": "code",
      "metadata": {
        "id": "oldnTN82miNz",
        "outputId": "7c1c8317-3ae0-48c4-a36a-694d7373d8f2",
        "colab": {
          "base_uri": "https://localhost:8080/"
        }
      },
      "source": [
        "def text_match_1(text):\n",
        "    \"\"\"\n",
        "    WRITE YOUR SOLUTION HERE!\n",
        "    \"\"\"\n",
        "    pattern = r\"a.*b$\"\n",
        "    if re.search(pattern, text):\n",
        "      return True\n",
        "    else:\n",
        "      return False\n",
        "\n",
        "\n",
        "print(text_match_1(\"aabbbbd\"))  # return False\n",
        "print(text_match_1(\"a_kinnb.b\"))  # return True\n",
        "print(text_match_1(\"accddbbjjjb\"))  # return True"
      ],
      "execution_count": 3,
      "outputs": [
        {
          "output_type": "stream",
          "name": "stdout",
          "text": [
            "False\n",
            "True\n",
            "True\n"
          ]
        }
      ]
    },
    {
      "cell_type": "markdown",
      "metadata": {
        "id": "jHNglsMyHegJ"
      },
      "source": [
        "## **Question 2**\n",
        "Write a Python function to split a string at uppercase letters.\n",
        "\n",
        "*Example:*\n",
        "```python\n",
        ">>> print(split_upper('PythonTutorialAndExercises')\n",
        "['Python', 'Tutorial', 'And', 'Exercises']\n",
        ">>> print(split_upper('OnceUponATime'))\n",
        "['Once', 'Upon', 'A', 'Time']\n",
        "```\n",
        "\n"
      ]
    },
    {
      "cell_type": "code",
      "metadata": {
        "id": "CUcAWk1aHdsY",
        "outputId": "d81590f2-efdd-434b-ec23-ff4c60fa2100",
        "colab": {
          "base_uri": "https://localhost:8080/"
        }
      },
      "source": [
        "def split_upper(text):\n",
        "    \"\"\"\n",
        "    WRITE YOUR SOLUTION HERE!\n",
        "    \"\"\"\n",
        "    return re.findall(\"[A-Z][^A-Z]*\", text)\n",
        "\n",
        "print(split_upper(\"PythonTutorialAndExercises\"))"
      ],
      "execution_count": 4,
      "outputs": [
        {
          "output_type": "stream",
          "name": "stdout",
          "text": [
            "['Python', 'Tutorial', 'And', 'Exercises']\n"
          ]
        }
      ]
    },
    {
      "cell_type": "markdown",
      "metadata": {
        "id": "AP24kizGtR5y"
      },
      "source": [
        "## **Question 3**\n",
        "\n",
        "Write function to find only the part of the email before the \"@\" sign excluding the \"@\" sign using REGEX.\n",
        "\n",
        "Your function must return the part before the \"@\" sign\n",
        "\n",
        "*Example:*\n",
        "```python\n",
        ">>> text = 'My email address is hang@coderschool.com'\n",
        ">>> print(extract_first_part(text))\n",
        "['hang']\n",
        ">>> text = \"Our instructors' emails are chinh@coderschool.vn and quan.tran@coderschool.vn\"\n",
        ">>> print(extract_first_part(text))\n",
        "['chinh', 'quan.tran']\n",
        "```\n"
      ]
    },
    {
      "cell_type": "code",
      "metadata": {
        "colab": {
          "base_uri": "https://localhost:8080/"
        },
        "id": "CwvEqIKC40kg",
        "outputId": "b4222833-e995-4f03-a505-1cb24f05423a"
      },
      "source": [
        "def extract_first_part(text):\n",
        "    \"\"\"\n",
        "    WRITE YOUR CODE HERE\n",
        "    \"\"\"\n",
        "    list = text.split(\" \")\n",
        "    sep_list = []\n",
        "\n",
        "    for i in list:\n",
        "      sep_list += re.findall(r'.*@', i)\n",
        "\n",
        "    final_list = [i.replace(\"@\",\"\") for i in sep_list]\n",
        "\n",
        "    return  final_list\n",
        "\n",
        "\n",
        "\n",
        "print(extract_first_part(\"My email address is hang@coderschool.com\"))\n",
        "print(\n",
        "    extract_first_part(\n",
        "        \"Our instructors' emails are chinh@coderschool.vn and quan.tran@coderschool.vn\"\n",
        "    )\n",
        ")\n"
      ],
      "execution_count": 12,
      "outputs": [
        {
          "output_type": "stream",
          "name": "stdout",
          "text": [
            "['hang@']\n",
            "['hang']\n",
            "['chinh@', 'quan.tran@']\n",
            "['chinh', 'quan.tran']\n"
          ]
        }
      ]
    },
    {
      "cell_type": "markdown",
      "metadata": {
        "id": "X_y4Wk42GKMk"
      },
      "source": [
        "## **Question 4**\n",
        "For the given list, filter all elements that do not contain the letter e.\n",
        "\n",
        "Must use list comprehesion and regex to complete this exercise.\n",
        "\n",
        "*Example:*\n",
        "```python\n",
        ">>> given_list = ['goal', 'new', 'user', 'sit', 'eat', 'dinner']\n",
        ">>> print([...]) # Write your list comprehension\n",
        "['goal', 'sit']\n",
        "```"
      ]
    },
    {
      "cell_type": "code",
      "metadata": {
        "colab": {
          "base_uri": "https://localhost:8080/"
        },
        "id": "ad-rxyF67rvJ",
        "outputId": "abde12c9-d2d3-4967-fc4e-7ae828b1ee4e"
      },
      "source": [
        "given_list = [\"goal\", \"new\", \"user\", \"sit\", \"eat\", \"dinner\"]\n",
        "print([i for i in given_list if not re.search(\"e\",i)])"
      ],
      "execution_count": 13,
      "outputs": [
        {
          "output_type": "stream",
          "name": "stdout",
          "text": [
            "['goal', 'sit']\n"
          ]
        }
      ]
    },
    {
      "cell_type": "markdown",
      "metadata": {
        "id": "16T7RWF37N-V"
      },
      "source": [
        "## **Question 5**\n",
        "Write a function to verify that a string contains 'z', and that 'z' is not at the start or end of any word.\n",
        "\n",
        "*Example:*\n",
        "```python\n",
        ">>> print(is_z_in_middle('I like pizza'))\n",
        "True\n",
        ">>> print(is_z_in_middle('What an amazing show!'))\n",
        "True\n",
        ">>> print(is_z_in_middle('I want to go to Venezuela'))\n",
        "True\n",
        ">>> print(is_z_in_middle('Coderschool is abuzz'))\n",
        "False\n",
        ">>> print(is_z_in_middle(\"Her brother's in show biz and he likes pizza\"))\n",
        "False\n",
        ">>> print(is_z_in_middle('I like fish'))\n",
        "False\n",
        ">>> print(is_z_in_middle('The dog runs zigzag across the garden'))\n",
        "False\n",
        "```\n"
      ]
    },
    {
      "cell_type": "code",
      "metadata": {
        "id": "crMDQZqWETaI"
      },
      "source": [
        "def is_z_in_middle(text):\n",
        "    \"\"\"\n",
        "    WRITE YOUR CODE HERE\n",
        "    \"\"\"\n",
        "    pass\n",
        "\n",
        "\n",
        "print(is_z_in_middle(\"I like pizza\"))  # True\n",
        "print(is_z_in_middle(\"Coderschool is abuzz\"))  # False\n",
        "print(is_z_in_middle(\"Her brother's in show biz and he likes pizza\"))  # False\n",
        "print(is_z_in_middle(\"I like fish\"))  # False\n",
        "print(is_z_in_middle(\"The dog runs zigzag across the garden\"))  # False\n",
        "# You can test more cases if necessary"
      ],
      "execution_count": null,
      "outputs": []
    },
    {
      "cell_type": "markdown",
      "source": [
        "#😎  MORE\n"
      ],
      "metadata": {
        "id": "SWJeHUDpoChl"
      }
    },
    {
      "cell_type": "markdown",
      "source": [
        "##Question 1\n",
        "\n",
        "Write a Python program to check that a string contains only a certain set of characters (in this case a-z, A-Z and 0-9).\n",
        "\n",
        "*Example:*\n",
        "```python\n",
        ">>> print(is_allowed_specific_char(\"ABCDEFabcdef123450\"))\n",
        "True\n",
        ">>> print(is_allowed_specific_char(\"*&%@#!}{\"))\n",
        "False\n",
        "```"
      ],
      "metadata": {
        "id": "swCut40roJpL"
      }
    },
    {
      "cell_type": "code",
      "source": [
        "# YOUR CODE HERE"
      ],
      "metadata": {
        "id": "BhVifZktoglL"
      },
      "execution_count": null,
      "outputs": []
    },
    {
      "cell_type": "markdown",
      "source": [
        "## Question 2\n",
        "\n",
        "Write a Python program to find sequences of lowercase letters joined with a underscore.\n",
        "\n",
        "*Example:*\n",
        "```python\n",
        ">>> print(text_match(\"aab_cbbbc\"))\n",
        "True\n",
        ">>> print(text_match(\"aab_Abbbc\"))\n",
        "False\n",
        ">>> print(text_match(\"Aaab_abbbc\"))\n",
        "False\n",
        "```"
      ],
      "metadata": {
        "id": "Acl1_OoJof8q"
      }
    },
    {
      "cell_type": "code",
      "source": [
        "# YOUR CODE HERE"
      ],
      "metadata": {
        "id": "d9sWCYYtrbC0"
      },
      "execution_count": null,
      "outputs": []
    },
    {
      "cell_type": "markdown",
      "source": [
        "##Question 3\n",
        "Write a Python program that matches a string that has an 'a' followed by anything, ending in 'b'.\n",
        "\n",
        "*Example:*\n",
        "```python\n",
        ">>> print(text_match(\"aabbbbd\"))\n",
        "False\n",
        ">>> print(text_match(\"aabAbbbc\"))\n",
        "False\n",
        ">>> print(text_match(\"accddbbjjjb\"))\n",
        "True\n",
        "```"
      ],
      "metadata": {
        "id": "nCOLX97zrb5g"
      }
    },
    {
      "cell_type": "code",
      "source": [
        "# YOUR CODE HERE"
      ],
      "metadata": {
        "id": "YEPrefQVxoKn"
      },
      "execution_count": null,
      "outputs": []
    },
    {
      "cell_type": "markdown",
      "source": [
        "##Question 4\n",
        "Write a Python program to check for a number at the end of a string.\n",
        "\n",
        "*Example:*\n",
        "\n",
        "```python\n",
        ">>> print(end_num('abcdef'))\n",
        "False\n",
        ">>> print(end_num('abcdef6'))\n",
        "True\n",
        "```"
      ],
      "metadata": {
        "id": "ndWuTnBrxoff"
      }
    },
    {
      "cell_type": "code",
      "source": [
        "# YOUR CODE HERE"
      ],
      "metadata": {
        "id": "-fUJk0ItyWiD"
      },
      "execution_count": null,
      "outputs": []
    },
    {
      "cell_type": "markdown",
      "source": [
        "##Question 5\n",
        "\n",
        "Write a Python program to match a string that contains only upper and lowercase letters, numbers, and underscores.\n",
        "\n",
        "*Example:*\n",
        "\n",
        "```python\n",
        ">>> print(text_match(\"The quick brown fox jumps over the lazy dog.\"))\n",
        "False\n",
        ">>> print(text_match(\"Python_Exercises_1\"))\n",
        "True\n",
        "```"
      ],
      "metadata": {
        "id": "T1u3Y5DLz2-w"
      }
    },
    {
      "cell_type": "code",
      "source": [
        "# YOUR CODE HERE"
      ],
      "metadata": {
        "id": "DF2V6l3L1UWe"
      },
      "execution_count": null,
      "outputs": []
    },
    {
      "cell_type": "markdown",
      "metadata": {
        "id": "Jnm5r5ovmqYU"
      },
      "source": [
        "# 🌶 INTERMEDIATE"
      ]
    },
    {
      "cell_type": "markdown",
      "metadata": {
        "id": "480c91c7"
      },
      "source": [
        "## Question 1: Simple password\n",
        "\n",
        "Situation: You are trying to sign up for an account on a website, and it says: “Your password must have at least 8 characters, at least an upper case letter, an lowercase letter, a number and probably a weird symbol to make sure no one is able to remember it, including you 🤣”\n",
        "\n",
        "Let's try to create something similar to that.\n",
        "\n",
        "To keep it simple, the password we want has to follow these rules:\n",
        "1. Have a length of at least 8 characters\n",
        "2. Can only contain numbers, alphabetical letters and these special characters: ``_``, ``!``, ``-``\n",
        "\n",
        "Your function has to return a value ``True`` or ``False`` for each of the test case.\n",
        "\n",
        "*Example:*\n",
        "```python\n",
        ">>> print(check_password('food_wars_del1ci0us'))\n",
        "True\n",
        ">>> print(check_password('this-is-123-pass'))\n",
        "True\n",
        ">>> print(check_password('$thisismypass'))\n",
        "False\n",
        ">>> print(check_password('_hellomy@sun'))\n",
        "False\n",
        "```"
      ]
    },
    {
      "cell_type": "code",
      "metadata": {
        "id": "ZrScXSkVXZN9"
      },
      "source": [
        "# YOUR CODE HERE"
      ],
      "execution_count": null,
      "outputs": []
    },
    {
      "cell_type": "markdown",
      "metadata": {
        "id": "ba030e36"
      },
      "source": [
        "## Question 2: Phone number verification\n",
        "\n",
        "Situation: Your Vietnamese clients ask you to create a program that will help verify if the phone number format that was input by the customers is correct or not. The phone number has to follow these formats:\n",
        "- 0123456789\n",
        "- 0123 456 789\n",
        "- 0123-456-789\n",
        "- 0123.456.789\n",
        "- +84123456789\n",
        "- +84 123456789\n",
        "- +84 123 456 789\n",
        "\n",
        "Your function has to return a value ``True`` or ``False`` for each of the test case.\n",
        "\n",
        "*Example:*\n",
        "```python\n",
        ">>> print(check_phone_number('0123456789'))\n",
        "True\n",
        ">>> print(check_phone_number('+84 123 456 789'))\n",
        "True\n",
        ">>> print(check_phone_number('012a456789'))\n",
        "False\n",
        ">>> print(check_phone_number('0 123456789'))\n",
        "False\n",
        ">>> print(check_phone_number('0123.456-789'))\n",
        "True\n",
        ">>> print(check_phone_number('+84 123-456-789'))\n",
        "True\n",
        "```"
      ]
    },
    {
      "cell_type": "code",
      "metadata": {
        "id": "osEQWCkzWxx2"
      },
      "source": [
        "# YOUR CODE HERE"
      ],
      "execution_count": null,
      "outputs": []
    },
    {
      "cell_type": "markdown",
      "metadata": {
        "id": "373953a7"
      },
      "source": [
        "## Question 3: Email Verification\n",
        "\n",
        "Situation: When a user creates a new account using your email, we need to check whether that email is valid.\n",
        "\n",
        "Check for the email to see if it's valid or not using these requirements:\n",
        "\n",
        "It must the follow the rule: <Part 1>@<Part 2>.<Part 3>\n",
        "\n",
        "- <Part 1> (the recipient name):\n",
        "    - There should only be numbers, letters, period (.), hyphen (-) and underscore (_).\n",
        "    - The first character must be a letter.\n",
        "    - An underscore (_), period (.), or hyphen (-) must be followed by one or more letter or number.\n",
        "- <Part 2>: There should only be letters and numbers.\n",
        "- <Part 3>: Must contain at least two letters\n",
        "\n",
        "*Example*\n",
        "```python\n",
        ">>> print(check_email('abc123@def.xyz'))\n",
        "True\n",
        ">>> print(check_email('a_b_c@def.xyz'))\n",
        "True\n",
        ">>> print(check_email('a-b.c@123.xy'))\n",
        "True\n",
        ">>> print(check_email('123@def.xyz'))\n",
        "False\n",
        ">>> print(check_email('a--b@def.xyz'))\n",
        "False\n",
        ">>> print(check_email('abcdef_@def.xyz'))\n",
        "False\n",
        ">>> print(check_email('abc@def.ghi.xyz'))\n",
        "False\n",
        "```"
      ]
    },
    {
      "cell_type": "code",
      "metadata": {
        "id": "ROfwvqq15JhG"
      },
      "source": [
        "# YOUR CODE HERE"
      ],
      "execution_count": null,
      "outputs": []
    }
  ]
}