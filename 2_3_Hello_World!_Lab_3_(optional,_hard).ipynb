{
  "nbformat": 4,
  "nbformat_minor": 0,
  "metadata": {
    "colab": {
      "provenance": [],
      "collapsed_sections": [
        "-QC44XFOBaB0",
        "d30wK4ADBaB0",
        "9pp9cxJ2BaB1",
        "eRSwu7nlBaB2"
      ],
      "include_colab_link": true
    },
    "kernelspec": {
      "name": "python3",
      "display_name": "Python 3"
    }
  },
  "cells": [
    {
      "cell_type": "markdown",
      "metadata": {
        "id": "view-in-github",
        "colab_type": "text"
      },
      "source": [
        "<a href=\"https://colab.research.google.com/github/tando96/python101/blob/main/2_3_Hello_World!_Lab_3_(optional%2C_hard).ipynb\" target=\"_parent\"><img src=\"https://colab.research.google.com/assets/colab-badge.svg\" alt=\"Open In Colab\"/></a>"
      ]
    },
    {
      "cell_type": "markdown",
      "source": [
        "If you don't remember the first step, please click [here](https://learn.coderschool.vn/path-player?courseid=dv-m11-basic-python&unit=dv-m11-basic-python_624537766805eUnit) to review the Lab Guide"
      ],
      "metadata": {
        "id": "dN_XdK7VEiC3"
      }
    },
    {
      "cell_type": "markdown",
      "metadata": {
        "id": "MeIykz6CP75q"
      },
      "source": [
        "# **Hello World Lab 3**\n",
        "\n",
        "> ***NOTE:*** Some exercises below may be collected from an interview with big tech companies, like FAANG (Facebook, Amazon, Apple, Netflix, Google) and others like Microsoft, etc. Be sure to have a try!\n",
        "\n",
        "![](https://mksaad.files.wordpress.com/2019/03/introduction-to-python_watermarked.48eeee4e1109.jpg)"
      ]
    },
    {
      "cell_type": "markdown",
      "metadata": {
        "id": "-QC44XFOBaB0"
      },
      "source": [
        "### Day of the week"
      ]
    },
    {
      "cell_type": "markdown",
      "source": [
        "An integer K in the range 1 to 365 is given. If the first day of the year is Thursday, which day is K?\n",
        "\n",
        "The days within a week are numbered as: 0 stands for Sunday, 1 — Monday, 2 — Tuesday, ..., 6 — Saturday.\n",
        "\n",
        "Return the output as a number described above.   \n",
        "\n",
        "\n",
        "*Example:*\n",
        "\n",
        "Input: 2 #2nd day of the year is Jan 2\n",
        "\n",
        "Output: 5 #Friday"
      ],
      "metadata": {
        "id": "tL1zSuck5mP6"
      }
    },
    {
      "cell_type": "code",
      "metadata": {
        "id": "IB1BOs3YBaB0",
        "outputId": "9a7ef46e-3d02-46c4-dd01-5821d864477d",
        "colab": {
          "base_uri": "https://localhost:8080/"
        }
      },
      "source": [
        "# YOUR CODE HERE\n",
        "year = 365;\n",
        "weekdays = ['Sunday', 'Monday','TuesDay','Wednesday','Thursday','Friday','Saturday']\n",
        "firstday = 'Thursday'\n",
        "\n",
        "day = int(input(\"Enter your input : \"))\n",
        "\n",
        "result = (day + 3) % 7\n",
        "\n",
        "# I just enumerate to find the index of loop and compare it with result\n",
        "for idx, x in enumerate(weekdays):\n",
        "  if result == idx :\n",
        "    print(f\"{idx} #{x}\")\n"
      ],
      "execution_count": 33,
      "outputs": [
        {
          "output_type": "stream",
          "name": "stdout",
          "text": [
            "Enter your input : 2\n",
            "5 #Friday\n"
          ]
        }
      ]
    },
    {
      "cell_type": "markdown",
      "metadata": {
        "id": "d30wK4ADBaB0"
      },
      "source": [
        "### Hours and minutes past midnight"
      ]
    },
    {
      "cell_type": "markdown",
      "source": [
        "Given the integer N - the number of minutes that have passed since midnight. What numbers are displayed on the 24h digital clock?\n",
        "\n",
        "The program should print two numbers: the number of hours (0-23) and the number of minutes (0-59).\n",
        "\n",
        "\n",
        "*Example:*\n",
        "If N = 150, then 150 minutes have passed since midnight and it is now 2:30 am. So the program should print 2 30.\n",
        "```python\n",
        ">>> 150 # input\n",
        "2 30 # output\n",
        "```"
      ],
      "metadata": {
        "id": "920_y9gE5pA6"
      }
    },
    {
      "cell_type": "code",
      "metadata": {
        "id": "UHoi3k8TBaB1",
        "outputId": "3ec5f844-5782-46bf-8b20-2e42f1f4354b",
        "colab": {
          "base_uri": "https://localhost:8080/"
        }
      },
      "source": [
        "# YOUR CODE HERE\n",
        "number = int(input(\"Input \"))\n",
        "\n",
        "minutes = number % 60\n",
        "\n",
        "hours = number // 60\n",
        "\n",
        "print(f\"{hours} hours , {minutes} minutes\")"
      ],
      "execution_count": 30,
      "outputs": [
        {
          "output_type": "stream",
          "name": "stdout",
          "text": [
            "Input 250\n",
            "4 hours , 10 minutes\n"
          ]
        }
      ]
    },
    {
      "cell_type": "markdown",
      "metadata": {
        "id": "9pp9cxJ2BaB1"
      },
      "source": [
        "### Between timestamps"
      ]
    },
    {
      "cell_type": "markdown",
      "source": [
        "Receive two inputs as two timestamps of the same day. The timestamps should have the following information: hours, minutes and seconds for both of the timestamps. The first timestamp happened before the second one. Calculate how many seconds have passed between two timestamps.\n",
        "\n",
        "\n",
        "*Example #1:*\n",
        "```python\n",
        ">>> 1 # input hour   of event 1\n",
        ">>> 1 # input minute of event 1\n",
        ">>> 1 # input second of event 1\n",
        "#Event 1 happens at 01:01:01 (1 hour, 1 minute, 1 second)\n",
        ">>> 2 # input hour   of event 2\n",
        ">>> 2 # input minute of event 2\n",
        ">>> 2 # input second of event 2\n",
        "#Event 2 happens at 02:02:02 (2 hours, 2 minutes, 2 seconds)\n",
        "3661 # output number of seconds between event 1 and event 2\n",
        "```\n",
        "\n",
        "*Example #2:*\n",
        "```python\n",
        ">>> 1  # input hour   of event 1\n",
        ">>> 2  # input minute of event 1\n",
        ">>> 30 # input second of event 1\n",
        "#Event 1 happens at 01:02:30 (1 hour, 2 minutes, 30 seconds)\n",
        ">>> 1  # input hour   of event 2\n",
        ">>> 3  # input minute of event 2\n",
        ">>> 20 # input second of event 2\n",
        "#Event 2 happens at 01:03:20 (1 hour, 3 minutes, 20 secons)\n",
        "50 # output number of seconds between event 1 and event 2\n",
        "```"
      ],
      "metadata": {
        "id": "FzZYvXeC5rfm"
      }
    },
    {
      "cell_type": "code",
      "metadata": {
        "id": "8gPe78I-BaB1",
        "outputId": "7f2d784c-e474-4af3-db6b-dcea4abc69af",
        "colab": {
          "base_uri": "https://localhost:8080/"
        }
      },
      "source": [
        "# YOUR CODE HERE\n",
        "\n",
        "hours1 = int(input(\"hours 1 : \"))\n",
        "minutes1 = int(input(\"minutes 1 :\"))\n",
        "seconds1 = int(input(\"seconds 1 :\"))\n",
        "\n",
        "hours2 = int(input(\"hours 2 : \"))\n",
        "minutes2 = int(input(\"minutes 2 :\"))\n",
        "seconds2 = int(input(\"seconds 2 :\"))\n",
        "\n",
        "diff = (hours2 - hours1) * 3600 + (minutes2 - minutes1) * 60 + seconds2 - seconds1\n",
        "\n",
        "print(f\"the diff seconds\n",
        "{diff}\")\n"
      ],
      "execution_count": 37,
      "outputs": [
        {
          "output_type": "stream",
          "name": "stdout",
          "text": [
            "hours 1 : 1\n",
            "minutes 1 :1\n",
            "seconds 1 :1\n",
            "hours 2 : 2\n",
            "minutes 2 :2\n",
            "seconds 2 :2\n",
            "the diff seconds 3661\n"
          ]
        }
      ]
    },
    {
      "cell_type": "markdown",
      "metadata": {
        "id": "B6q_z2XkBaB1"
      },
      "source": [
        "### Clock hand angle"
      ]
    },
    {
      "cell_type": "markdown",
      "source": [
        "Since midnight, the hour hand of an analog clock has turned x degrees. When the hour hand is at x degrees, at which degree is the minute hand at?\n",
        "\n",
        "Hint: how many rotations has the minute hand made if the hour hand has made one full rotation?\n",
        "\n",
        "Example: When the hour hand makes a 255 degrees angle since midnight, the minute hand will make a 180 degrees angle.\\\n",
        "![](https://img.freepik.com/premium-vector/realistic-clock-face-with-minute-hour-numbers-second-hand_219144-471.jpg?w=400)\n",
        "\n",
        "*Example:*\n",
        "```python\n",
        ">>> 255 # input\n",
        "180 # output\n",
        "```"
      ],
      "metadata": {
        "id": "vDK9mQ9p6HtX"
      }
    },
    {
      "cell_type": "code",
      "metadata": {
        "id": "woFuEALRBaB2"
      },
      "source": [
        "# YOUR CODE HERE\n"
      ],
      "execution_count": null,
      "outputs": []
    },
    {
      "cell_type": "markdown",
      "metadata": {
        "id": "eRSwu7nlBaB2"
      },
      "source": [
        "### Classroom desks"
      ]
    },
    {
      "cell_type": "markdown",
      "source": [
        "A school decided to replace the desks in three classrooms. Each desk sits two students. Given the number of students in each class, print the smallest possible number of desks that can be purchased.\n",
        "\n",
        "The program should read three integers: the number of students in each of the three classes, a, b and c respectively.\n",
        "\n",
        "*Example:*\\\n",
        "In the first test there are three groups. The first group has 20 students and thus needs 10 desks. The second group has 21 students, so they can get by with no fewer than 11 desks. 11 desks is also enough for the third group of 22 students. So we need 32 desks in total.\n",
        "\n",
        "```python\n",
        ">>> 20 # input a\n",
        ">>> 21 # input b\n",
        ">>> 22 # input c\n",
        "32 # output\n",
        "```"
      ],
      "metadata": {
        "id": "ppuFzH116KHg"
      }
    },
    {
      "cell_type": "code",
      "metadata": {
        "id": "8Z5x2Pl_BaB2"
      },
      "source": [
        "# YOUR CODE HERE"
      ],
      "execution_count": null,
      "outputs": []
    }
  ]
}