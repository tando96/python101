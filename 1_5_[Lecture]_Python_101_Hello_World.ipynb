{
  "nbformat": 4,
  "nbformat_minor": 0,
  "metadata": {
    "colab": {
      "provenance": [],
      "include_colab_link": true
    },
    "kernelspec": {
      "name": "python3",
      "display_name": "Python 3"
    }
  },
  "cells": [
    {
      "cell_type": "markdown",
      "metadata": {
        "id": "view-in-github",
        "colab_type": "text"
      },
      "source": [
        "<a href=\"https://colab.research.google.com/github/tando96/python101/blob/main/1_5_%5BLecture%5D_Python_101_Hello_World.ipynb\" target=\"_parent\"><img src=\"https://colab.research.google.com/assets/colab-badge.svg\" alt=\"Open In Colab\"/></a>"
      ]
    },
    {
      "cell_type": "markdown",
      "metadata": {
        "id": "S8D8YdwURKTA"
      },
      "source": [
        "# **PYTHON 101**\n",
        "\n",
        "**Before you start: File ▸ Save a copy in Drive**"
      ]
    },
    {
      "cell_type": "markdown",
      "metadata": {
        "id": "hXQWSlfQN9n5"
      },
      "source": [
        "Welcome to the Python Module of the Data Science Course of CoderSchool.\n",
        "\n",
        "**Google Colab** is a great platform to experiment your code and build your own Data Analysis projects in a simple  way. Hence, we will use Google Colab as a ***playground*** to practice the concept, as well as, a platform to ***exercise***.\n",
        "\n",
        "Welcome onboard and happy coding!\n",
        "\n",
        "![](https://files.realpython.com/media/python-basics-wide2.f73a9e9bf9b8.jpg)"
      ]
    },
    {
      "cell_type": "markdown",
      "metadata": {
        "id": "Op857BItytf3"
      },
      "source": [
        "## WELCOME!"
      ]
    },
    {
      "cell_type": "markdown",
      "metadata": {
        "id": "XMkxpKudy1FQ"
      },
      "source": [
        "Python is a programming language. Like other languages, it gives us a way to communicate ideas. In the case of a programming language, these ideas are “commands” that people use to communicate with a computer!\n",
        "\n",
        "We convey our commands to the computer by writing them in a text file using a programming language. These files are called *programs*. Running a program means telling a computer to read the text file, translate it to the set of operations that it understands, and perform those actions."
      ]
    },
    {
      "cell_type": "code",
      "metadata": {
        "id": "lJAA7wI0zIZa",
        "colab": {
          "base_uri": "https://localhost:8080/"
        },
        "outputId": "9050d0da-f10f-4108-fc81-7767f35d4ef5"
      },
      "source": [
        "print(\"Hello and welcome to CoderSchool!\")"
      ],
      "execution_count": null,
      "outputs": [
        {
          "output_type": "stream",
          "name": "stdout",
          "text": [
            "Hello and welcome to CoderSchool!\n"
          ]
        }
      ]
    },
    {
      "cell_type": "markdown",
      "metadata": {
        "id": "aLMUqmSTzpM4"
      },
      "source": [
        "### Comments"
      ]
    },
    {
      "cell_type": "code",
      "source": [
        "# Check whether a number is Even or Odd\n",
        "i = 10\n",
        "if i % 2 == 0:\n",
        "    print(\"This is an EVEN number\")\n",
        "else:\n",
        "    print(\"This is an ODD number\")"
      ],
      "metadata": {
        "id": "lA3VQMqGxYS4",
        "colab": {
          "base_uri": "https://localhost:8080/"
        },
        "outputId": "f897f93c-ce09-4215-850a-21812ce84efd"
      },
      "execution_count": null,
      "outputs": [
        {
          "output_type": "stream",
          "name": "stdout",
          "text": [
            "This is an EVEN number\n"
          ]
        }
      ]
    },
    {
      "cell_type": "code",
      "source": [
        "a = 2\n",
        "\n",
        "# Option 1\n",
        "# a = a + a\n",
        "\n",
        "# Option 2\n",
        "a = a * 2\n",
        "print(a)"
      ],
      "metadata": {
        "id": "98OJpcs3yET0",
        "colab": {
          "base_uri": "https://localhost:8080/"
        },
        "outputId": "2e0a321b-7678-4a03-b8a2-d2525c3c304b"
      },
      "execution_count": null,
      "outputs": [
        {
          "output_type": "stream",
          "name": "stdout",
          "text": [
            "4\n"
          ]
        }
      ]
    },
    {
      "cell_type": "code",
      "metadata": {
        "id": "G42AkS0xRS7h"
      },
      "source": [
        "# This is a comment in Python\n",
        "# Comments help other people reading the code understand it faster\n",
        "# or ignore a line of code and see how a program will run without it\n",
        "\n",
        "# You can make it simply by putting # in front of the line\n",
        "# Or using the shortcut Cmd/Ctrl + /"
      ],
      "execution_count": null,
      "outputs": []
    },
    {
      "cell_type": "markdown",
      "metadata": {
        "id": "XZJz6lyKRTwJ"
      },
      "source": [
        "## 1. VARIABLE"
      ]
    },
    {
      "cell_type": "markdown",
      "metadata": {
        "id": "Y-nwcvX6-15C"
      },
      "source": [
        "A variable is used to **store a value** that will be used by the program. In Python, we ***assign*** variables by using the equals sign (=)."
      ]
    },
    {
      "cell_type": "code",
      "metadata": {
        "id": "omAGI2L_A3Fe",
        "colab": {
          "base_uri": "https://localhost:8080/"
        },
        "outputId": "9070ad39-81bd-43dd-801c-7c4573f111e9"
      },
      "source": [
        "message_string = \"Hello CoderSchool\"\n",
        "\n",
        "print(message_string)\n",
        "print(message_string)\n",
        "print(message_string)"
      ],
      "execution_count": null,
      "outputs": [
        {
          "output_type": "stream",
          "name": "stdout",
          "text": [
            "Hello CoderSchool\n",
            "Hello CoderSchool\n",
            "Hello CoderSchool\n"
          ]
        }
      ]
    },
    {
      "cell_type": "markdown",
      "metadata": {
        "id": "sR-ByOcMAyZG"
      },
      "source": [
        "It’s no coincidence we call these creatures “variables”. If the context of a program changes, we can **update a variable** but perform the same logical process on it."
      ]
    },
    {
      "cell_type": "code",
      "metadata": {
        "id": "QTZqfveS-1BW",
        "colab": {
          "base_uri": "https://localhost:8080/"
        },
        "outputId": "76c04744-a4e5-446d-b409-6935ca1621be"
      },
      "source": [
        "# Greeting\n",
        "message_string = \"Hey!\"\n",
        "print(message_string)\n",
        "\n",
        "# Farewell\n",
        "message_string = \"See you!\"\n",
        "print(message_string)"
      ],
      "execution_count": null,
      "outputs": [
        {
          "output_type": "stream",
          "name": "stdout",
          "text": [
            "Hey!\n",
            "See you!\n"
          ]
        }
      ]
    },
    {
      "cell_type": "markdown",
      "metadata": {
        "id": "fYM6zzZPATIQ"
      },
      "source": [
        "Now, let's try to update the variable meal to reflect each meal of the day before we print it."
      ]
    },
    {
      "cell_type": "code",
      "metadata": {
        "id": "2yZ2wspf__E2",
        "colab": {
          "base_uri": "https://localhost:8080/"
        },
        "outputId": "8030a138-ab1b-4896-c5da-052298ee6b0b"
      },
      "source": [
        "# We've defined the variable \"meal\" here to the name of the food we ate for breakfast!\n",
        "meal = \"Bánh mì\"\n",
        "print(\"Breakfast:\", meal, \"!!!\")\n",
        "\n",
        "# Now update \"meal\" to be lunch!\n",
        "meal = \"Cơm tấm\"\n",
        "print(\"Lunch:\", meal)\n",
        "\n",
        "# Now update \"meal\" to be dinner\n",
        "meal = \"Hủ tiếu\"\n",
        "print(\"Dinner:\", meal)"
      ],
      "execution_count": null,
      "outputs": [
        {
          "output_type": "stream",
          "name": "stdout",
          "text": [
            "Breakfast: Bánh mì !!!\n",
            "Lunch: Cơm tấm\n",
            "Dinner: Hủ tiếu\n"
          ]
        }
      ]
    },
    {
      "cell_type": "markdown",
      "metadata": {
        "id": "xxNgvSdBBxfy"
      },
      "source": [
        "❓**Questions**\n",
        "1. After a variable is assigned to an initial value, can the variable later be reassigned to another value?\n",
        "2. Can `print()` be used for strings only?\n",
        "3. Why change a variable rather than just create a new one?"
      ]
    },
    {
      "cell_type": "markdown",
      "metadata": {
        "id": "BsjI-8ywA8tX"
      },
      "source": [
        "**Mini exercise** 🏃🏻‍♂️"
      ]
    },
    {
      "cell_type": "code",
      "metadata": {
        "id": "oBZpi9EISDSO"
      },
      "source": [
        "# Assign the constant value 3.14 to variable `a`"
      ],
      "execution_count": null,
      "outputs": []
    },
    {
      "cell_type": "code",
      "metadata": {
        "id": "fH2cFwRHSUwL"
      },
      "source": [
        "# Display the value of the variable `a`\n",
        "# Note that the variable exists everywhere after assigning"
      ],
      "execution_count": null,
      "outputs": []
    },
    {
      "cell_type": "code",
      "metadata": {
        "id": "H4Cbp1MUSVml"
      },
      "source": [
        "# Assign the constant value \"Hello\" to variable `b`"
      ],
      "execution_count": null,
      "outputs": []
    },
    {
      "cell_type": "code",
      "metadata": {
        "id": "X9y3liaxT1xZ"
      },
      "source": [
        "# Assign the constant value 3 and 4 corresponding to variable `c` and `d`"
      ],
      "execution_count": null,
      "outputs": []
    },
    {
      "cell_type": "code",
      "metadata": {
        "id": "potfLV2qFNJ_"
      },
      "source": [
        "# Do the same thing as above, but use exactly 1 line (hint: use comma)"
      ],
      "execution_count": null,
      "outputs": []
    },
    {
      "cell_type": "code",
      "metadata": {
        "id": "DE1O47YmStsE"
      },
      "source": [
        "# Create a new variable name 'cat_fur' and assign it with the value 'black'"
      ],
      "execution_count": null,
      "outputs": []
    },
    {
      "cell_type": "code",
      "metadata": {
        "id": "3TLuHSBRS-5r"
      },
      "source": [
        "# Variable name is case sensitive\n",
        "CAT_fur = \"white\"\n",
        "print(cat_fur)"
      ],
      "execution_count": null,
      "outputs": []
    },
    {
      "cell_type": "code",
      "metadata": {
        "id": "BukMdglIHBf2",
        "colab": {
          "base_uri": "https://localhost:8080/"
        },
        "outputId": "ae3755ac-f4d2-483c-d480-eacbd4098f44"
      },
      "source": [
        "# Reassigning an existing variable (try to guess before running this cell)\n",
        "a = 1\n",
        "a = 2\n",
        "a = 3\n",
        "print(a)"
      ],
      "execution_count": null,
      "outputs": [
        {
          "output_type": "stream",
          "name": "stdout",
          "text": [
            "3\n"
          ]
        }
      ]
    },
    {
      "cell_type": "markdown",
      "metadata": {
        "id": "3zhkjRJ5Tfaf"
      },
      "source": [
        "## 2. BASIC DATA TYPES"
      ]
    },
    {
      "cell_type": "markdown",
      "metadata": {
        "id": "NroBI0A5eE_r"
      },
      "source": [
        "###Boolean (True/False)\n"
      ]
    },
    {
      "cell_type": "code",
      "metadata": {
        "id": "6MWXAQO3GEbg",
        "colab": {
          "base_uri": "https://localhost:8080/"
        },
        "outputId": "be12f5b8-4cb7-414e-e600-71c0d28ad379"
      },
      "source": [
        "a = True\n",
        "type(a)"
      ],
      "execution_count": null,
      "outputs": [
        {
          "output_type": "execute_result",
          "data": {
            "text/plain": [
              "bool"
            ]
          },
          "metadata": {},
          "execution_count": 16
        }
      ]
    },
    {
      "cell_type": "code",
      "metadata": {
        "id": "_qQc88BUeHyA",
        "colab": {
          "base_uri": "https://localhost:8080/"
        },
        "outputId": "c5a7576d-8675-405f-9694-b863b83cd49f"
      },
      "source": [
        "a = 1 > 100\n",
        "print(a)\n",
        "type(a)"
      ],
      "execution_count": null,
      "outputs": [
        {
          "output_type": "stream",
          "name": "stdout",
          "text": [
            "False\n"
          ]
        },
        {
          "output_type": "execute_result",
          "data": {
            "text/plain": [
              "bool"
            ]
          },
          "metadata": {},
          "execution_count": 17
        }
      ]
    },
    {
      "cell_type": "markdown",
      "source": [
        "Compare a and b. Notice the order of operation."
      ],
      "metadata": {
        "id": "lKmj8Hr3BTdb"
      }
    },
    {
      "cell_type": "code",
      "metadata": {
        "id": "WCeecYsRfd2F",
        "colab": {
          "base_uri": "https://localhost:8080/"
        },
        "outputId": "5b184b10-4f38-47b8-9aef-51ab5fdb3302"
      },
      "source": [
        "a = 10\n",
        "b = 11\n",
        "\n",
        "c = a <= b\n",
        "d = a > b\n",
        "e = a == b\n",
        "\n",
        "print(c, d, e)"
      ],
      "execution_count": null,
      "outputs": [
        {
          "output_type": "stream",
          "name": "stdout",
          "text": [
            "True False False\n"
          ]
        }
      ]
    },
    {
      "cell_type": "markdown",
      "source": [
        "`==` compares 2 values; `=` assigns new value to variable"
      ],
      "metadata": {
        "id": "EnjY0ewTBW-T"
      }
    },
    {
      "cell_type": "code",
      "metadata": {
        "id": "U8tHeK_65Sxa",
        "colab": {
          "base_uri": "https://localhost:8080/"
        },
        "outputId": "247d4d19-57fc-4bfc-aadc-5ad5c2a89916"
      },
      "source": [
        "print(a == b)\n",
        "\n",
        "a = b\n",
        "print(a)"
      ],
      "execution_count": null,
      "outputs": [
        {
          "output_type": "stream",
          "name": "stdout",
          "text": [
            "False\n",
            "11\n"
          ]
        }
      ]
    },
    {
      "cell_type": "markdown",
      "source": [
        "Boolean operator"
      ],
      "metadata": {
        "id": "74vyreJuDQ3U"
      }
    },
    {
      "cell_type": "markdown",
      "metadata": {
        "id": "VjNV4TJMGLB8"
      },
      "source": [
        "<img src=\"https://imgur.com/MmPPhn9.png\" />"
      ]
    },
    {
      "cell_type": "code",
      "metadata": {
        "id": "0kywBdLxtzyA",
        "colab": {
          "base_uri": "https://localhost:8080/"
        },
        "outputId": "2406d255-b772-4d09-cb1f-d30b34bfabec"
      },
      "source": [
        "# Inverting boolean using \"not\"\n",
        "a = True\n",
        "print(not (a))"
      ],
      "execution_count": null,
      "outputs": [
        {
          "output_type": "stream",
          "name": "stdout",
          "text": [
            "False\n"
          ]
        }
      ]
    },
    {
      "cell_type": "code",
      "metadata": {
        "id": "kuD0RBE7feaA",
        "colab": {
          "base_uri": "https://localhost:8080/"
        },
        "outputId": "6d401870-df7c-43df-d960-99883aa0e07f"
      },
      "source": [
        "# AND vs. OR\n",
        "a = True\n",
        "b = False\n",
        "\n",
        "print(a and b)\n",
        "print(a or b)"
      ],
      "execution_count": null,
      "outputs": [
        {
          "output_type": "stream",
          "name": "stdout",
          "text": [
            "False\n",
            "True\n"
          ]
        }
      ]
    },
    {
      "cell_type": "code",
      "metadata": {
        "id": "zaFoxQ7eEdBu",
        "colab": {
          "base_uri": "https://localhost:8080/"
        },
        "outputId": "483dbe92-b3dc-4741-d19e-07a75e634203"
      },
      "source": [
        "# AND vs. OR\n",
        "a = True\n",
        "b = True\n",
        "c = False\n",
        "d = True\n",
        "\n",
        "print(a and b and c and d)\n",
        "print(a or b or c or d)"
      ],
      "execution_count": null,
      "outputs": [
        {
          "output_type": "stream",
          "name": "stdout",
          "text": [
            "False\n",
            "True\n"
          ]
        }
      ]
    },
    {
      "cell_type": "markdown",
      "source": [
        "Order of evaluation: NOT > AND > OR. Check [Operator precedence](https://docs.python.org/3/reference/expressions.html#operator-precedence) for a full list"
      ],
      "metadata": {
        "id": "2w_GTNeSMdIy"
      }
    },
    {
      "cell_type": "code",
      "metadata": {
        "id": "uz69mKzOFBRe",
        "colab": {
          "base_uri": "https://localhost:8080/"
        },
        "outputId": "00d29904-34d5-49a2-eb09-9e69dba974c6"
      },
      "source": [
        "a = True\n",
        "b = True\n",
        "c = False\n",
        "\n",
        "# print(a or b and c) # NOT reccommended\n",
        "print((a or b) and c)  # RECOMMEND"
      ],
      "execution_count": null,
      "outputs": [
        {
          "output_type": "stream",
          "name": "stdout",
          "text": [
            "False\n"
          ]
        }
      ]
    },
    {
      "cell_type": "markdown",
      "metadata": {
        "id": "LhCrBAm8Tmpg"
      },
      "source": [
        "###Numbers"
      ]
    },
    {
      "cell_type": "code",
      "metadata": {
        "id": "sWBjcnIZThrW",
        "colab": {
          "base_uri": "https://localhost:8080/"
        },
        "outputId": "4c6980b2-419b-41a3-a433-610253ae24e7"
      },
      "source": [
        "type(0)  # Integer"
      ],
      "execution_count": null,
      "outputs": [
        {
          "output_type": "execute_result",
          "data": {
            "text/plain": [
              "int"
            ]
          },
          "metadata": {},
          "execution_count": 24
        }
      ]
    },
    {
      "cell_type": "code",
      "metadata": {
        "id": "-VDDwNErUD7Z",
        "colab": {
          "base_uri": "https://localhost:8080/"
        },
        "outputId": "0a83fe2d-5d62-42e6-a046-a4068c9100db"
      },
      "source": [
        "type(3.14)  # Float"
      ],
      "execution_count": null,
      "outputs": [
        {
          "output_type": "execute_result",
          "data": {
            "text/plain": [
              "float"
            ]
          },
          "metadata": {},
          "execution_count": 25
        }
      ]
    },
    {
      "cell_type": "markdown",
      "metadata": {
        "id": "lSNYhZQOWZ9m"
      },
      "source": [
        "**[Extra]** Floating-point numbers can behave in some unexpected ways due to how computers store them. For more information on floating-point numbers and Python, read [Python’s documentation on floating-point limitations](https://docs.python.org/3/tutorial/floatingpoint.html)."
      ]
    },
    {
      "cell_type": "code",
      "metadata": {
        "id": "t4ApSraRUFDb",
        "colab": {
          "base_uri": "https://localhost:8080/"
        },
        "outputId": "912b4ad5-d89b-4f15-f905-3ba19d82a420"
      },
      "source": [
        "type(1 + 2j)  # Complex"
      ],
      "execution_count": null,
      "outputs": [
        {
          "output_type": "execute_result",
          "data": {
            "text/plain": [
              "complex"
            ]
          },
          "metadata": {},
          "execution_count": 26
        }
      ]
    },
    {
      "cell_type": "markdown",
      "source": [
        "What if we want to convert int to float and vice versa? Yes we can!"
      ],
      "metadata": {
        "id": "r5jxqBbvvFTu"
      }
    },
    {
      "cell_type": "code",
      "metadata": {
        "id": "RxTiFGh07sBy",
        "colab": {
          "base_uri": "https://localhost:8080/"
        },
        "outputId": "44de744a-6a26-4ff1-ba76-ce099baa1d8b"
      },
      "source": [
        "a = 3\n",
        "print(a, type(a))\n",
        "\n",
        "a = float(a)  # type casting\n",
        "print(a, type(a))"
      ],
      "execution_count": null,
      "outputs": [
        {
          "output_type": "stream",
          "name": "stdout",
          "text": [
            "3 <class 'int'>\n",
            "3.0 <class 'float'>\n"
          ]
        }
      ]
    },
    {
      "cell_type": "code",
      "metadata": {
        "id": "Y3rFtxreUVlL",
        "colab": {
          "base_uri": "https://localhost:8080/"
        },
        "outputId": "d7da38fd-8246-402e-9ae2-9f24cd507f96"
      },
      "source": [
        "# Convert float to int\n",
        "b = 5.01\n",
        "print(b, type(b))\n",
        "\n",
        "b = int(b)\n",
        "print(b, type(b))"
      ],
      "execution_count": null,
      "outputs": [
        {
          "output_type": "stream",
          "name": "stdout",
          "text": [
            "5.01 <class 'float'>\n",
            "5 <class 'int'>\n"
          ]
        }
      ]
    },
    {
      "cell_type": "markdown",
      "source": [
        "Rounding floats to nearest integer"
      ],
      "metadata": {
        "id": "RlC46JRzviZW"
      }
    },
    {
      "cell_type": "code",
      "metadata": {
        "id": "aAKi-XG2V_az",
        "colab": {
          "base_uri": "https://localhost:8080/"
        },
        "outputId": "b88dbdcd-5189-43e1-bdc8-024fdd796013"
      },
      "source": [
        "c = 0.2\n",
        "c = round(c)\n",
        "print(c, type(c))\n",
        "\n",
        "d = 1.789\n",
        "d = round(d, 2)\n",
        "print(d, type(d))"
      ],
      "execution_count": null,
      "outputs": [
        {
          "output_type": "stream",
          "name": "stdout",
          "text": [
            "0 <class 'int'>\n",
            "1.79 <class 'float'>\n"
          ]
        }
      ]
    },
    {
      "cell_type": "markdown",
      "metadata": {
        "id": "LmfcYmgPV3GD"
      },
      "source": [
        "### String (basic)"
      ]
    },
    {
      "cell_type": "markdown",
      "metadata": {
        "id": "b16FZu_QdeKr"
      },
      "source": [
        "Computer programmers refer to blocks of text as strings. In our last exercise, we created the string “CoderSchool”. In Python a string is either surrounded by double quotes (\"CoderSchool\") or single quotes ('CoderSchool'). It doesn’t matter which kind you use, just be consistent."
      ]
    },
    {
      "cell_type": "markdown",
      "source": [
        "Print a string"
      ],
      "metadata": {
        "id": "lIgZdxDkEPQv"
      }
    },
    {
      "cell_type": "code",
      "metadata": {
        "id": "7QzifBAQLYpz",
        "colab": {
          "base_uri": "https://localhost:8080/"
        },
        "outputId": "ea1cfdbf-2d33-41d2-b486-7e0e458674fc"
      },
      "source": [
        "print(\"Hello World!\")\n",
        "\n",
        "print(\"Hello World!\")"
      ],
      "execution_count": null,
      "outputs": [
        {
          "output_type": "stream",
          "name": "stdout",
          "text": [
            "Hello World!\n",
            "Hello World!\n"
          ]
        }
      ]
    },
    {
      "cell_type": "code",
      "source": [
        "print(\"Hello 'old' World!\")\n",
        "print('Hello \"new\" World!')\n",
        "\n",
        "print(\"\"\"He\"ll\"o 'W'orld\"\"\")"
      ],
      "metadata": {
        "id": "YAqy9aMfDAGm",
        "colab": {
          "base_uri": "https://localhost:8080/"
        },
        "outputId": "92971f06-67a7-4890-edc7-d0d85057bdbe"
      },
      "execution_count": null,
      "outputs": [
        {
          "output_type": "stream",
          "name": "stdout",
          "text": [
            "Hello 'old' World!\n",
            "Hello \"new\" World!\n",
            "He\"ll\"o 'W'orld\n"
          ]
        }
      ]
    },
    {
      "cell_type": "markdown",
      "source": [
        "Multi-line strings"
      ],
      "metadata": {
        "id": "4HA9lITDERrr"
      }
    },
    {
      "cell_type": "code",
      "metadata": {
        "id": "p8PoogQJwAYn",
        "colab": {
          "base_uri": "https://localhost:8080/"
        },
        "outputId": "20bbf4e7-0419-4565-9465-e75673070dd7"
      },
      "source": [
        "lyric = \"\"\"Hello darkness my old friend\n",
        "           I've come to talk with you again\n",
        "        \"\"\"\n",
        "\n",
        "type(lyric)"
      ],
      "execution_count": null,
      "outputs": [
        {
          "output_type": "execute_result",
          "data": {
            "text/plain": [
              "str"
            ]
          },
          "metadata": {},
          "execution_count": 32
        }
      ]
    },
    {
      "cell_type": "markdown",
      "source": [
        "Concatenate two string"
      ],
      "metadata": {
        "id": "kGmc9erxEUk_"
      }
    },
    {
      "cell_type": "code",
      "metadata": {
        "id": "EOCqSTlZkLbj",
        "colab": {
          "base_uri": "https://localhost:8080/"
        },
        "outputId": "5c45c76c-9cd7-4091-bff6-68f50d858993"
      },
      "source": [
        "text = \"CODER\" + \"SCHOOL\"\n",
        "print(text)"
      ],
      "execution_count": null,
      "outputs": [
        {
          "output_type": "stream",
          "name": "stdout",
          "text": [
            "CODERSCHOOL\n"
          ]
        }
      ]
    },
    {
      "cell_type": "markdown",
      "metadata": {
        "id": "dQ7Dc0NCfzuh"
      },
      "source": [
        "If you want to **concatenate a string with a number** you will need to **convert** the number to a string first, using the `str()` function."
      ]
    },
    {
      "cell_type": "code",
      "metadata": {
        "id": "UCOIMOsAkQmj",
        "colab": {
          "base_uri": "https://localhost:8080/"
        },
        "outputId": "cc7d39f2-3513-4037-d493-08308f6214c6"
      },
      "source": [
        "birthday_string = \"I am \"\n",
        "age = 25\n",
        "birthday_string_2 = \" years old today!\"\n",
        "\n",
        "# Concatenating an integer with strings is possible if we turn the integer into a string first\n",
        "full_birthday_string = birthday_string + str(age) + birthday_string_2\n",
        "\n",
        "print(full_birthday_string)\n",
        "\n",
        "# Option 2\n",
        "print(birthday_string, age, birthday_string_2)"
      ],
      "execution_count": null,
      "outputs": [
        {
          "output_type": "stream",
          "name": "stdout",
          "text": [
            "I am 25 years old today!\n",
            "I am  25  years old today!\n"
          ]
        }
      ]
    },
    {
      "cell_type": "markdown",
      "metadata": {
        "id": "0wLaMFAxlHRr"
      },
      "source": [
        "**Mini Exercise** 🏃🏻‍♂️"
      ]
    },
    {
      "cell_type": "markdown",
      "source": [
        "Let's fill in your name and concatenate all the strings below to make a complete sentence."
      ],
      "metadata": {
        "id": "ptP9KYZJyGaR"
      }
    },
    {
      "cell_type": "code",
      "metadata": {
        "id": "eH5W1EM5lM6o"
      },
      "source": [
        "string1 = \"My name is \"\n",
        "string2 = \"\"     # FILL IN YOUR NAME HERE\n",
        "string3 = \"I am \"\n",
        "string4 = 37\n",
        "string5 = \" years old. \"\n",
        "string6 = \"I learn DS at CoderSchool because \"\n",
        "string7 = \"I love CS!\"\n",
        "\n",
        "# YOUR CODE HERE\n",
        "message = \"\"\n",
        "\n",
        "print(message)"
      ],
      "execution_count": null,
      "outputs": []
    },
    {
      "cell_type": "markdown",
      "metadata": {
        "id": "kXY-CpR6tKWG"
      },
      "source": [
        "## UPDATE VARIABLES"
      ]
    },
    {
      "cell_type": "markdown",
      "metadata": {
        "id": "pyj2QOSHwu_h"
      },
      "source": [
        "### Assign directly"
      ]
    },
    {
      "cell_type": "code",
      "metadata": {
        "id": "f_3TCwFexF7x",
        "colab": {
          "base_uri": "https://localhost:8080/"
        },
        "outputId": "798808dd-becb-4d0a-a0b0-1f4170b6370c"
      },
      "source": [
        "coffee_price = 1.50\n",
        "number_of_coffees = 4\n",
        "\n",
        "print(coffee_price * number_of_coffees)\n",
        "\n",
        "# Updating the price\n",
        "coffee_price = 2.00\n",
        "\n",
        "print(coffee_price * number_of_coffees)"
      ],
      "execution_count": null,
      "outputs": [
        {
          "output_type": "stream",
          "name": "stdout",
          "text": [
            "6.0\n",
            "8.0\n"
          ]
        }
      ]
    },
    {
      "cell_type": "markdown",
      "metadata": {
        "id": "uxptqAq9Rh_Y"
      },
      "source": [
        "⭐️ **Trick**: swap values of two variables in one line"
      ]
    },
    {
      "cell_type": "code",
      "metadata": {
        "id": "3oZ3XesWqc-I",
        "colab": {
          "base_uri": "https://localhost:8080/"
        },
        "outputId": "fb86e5b1-ed5a-44c6-858e-7caa0a3275f8"
      },
      "source": [
        "a = 1\n",
        "b = 2\n",
        "\n",
        "a, b = b, a\n",
        "\n",
        "print(a, b)"
      ],
      "execution_count": null,
      "outputs": [
        {
          "output_type": "stream",
          "name": "stdout",
          "text": [
            "2 1\n"
          ]
        }
      ]
    },
    {
      "cell_type": "code",
      "source": [
        "a = 1\n",
        "b = 2\n",
        "\n",
        "temp = a\n",
        "a = b\n",
        "b = temp\n",
        "\n",
        "print(a, b)"
      ],
      "metadata": {
        "colab": {
          "base_uri": "https://localhost:8080/"
        },
        "id": "aTxQFwqwSk_g",
        "outputId": "92848616-1178-4d96-82bc-772035c252d9"
      },
      "execution_count": null,
      "outputs": [
        {
          "output_type": "stream",
          "name": "stdout",
          "text": [
            "2 1\n"
          ]
        }
      ]
    },
    {
      "cell_type": "markdown",
      "metadata": {
        "id": "xqq8lHYNx8w9"
      },
      "source": [
        "### Change relatively"
      ]
    },
    {
      "cell_type": "code",
      "metadata": {
        "id": "JNuCube3yG23",
        "colab": {
          "base_uri": "https://localhost:8080/"
        },
        "outputId": "747ffa5d-0a0b-4ce9-f97a-7a0d9e789337"
      },
      "source": [
        "# First we have a variable that store the total running distance\n",
        "running_distance = 10\n",
        "\n",
        "# Let's say we run another 2 km today\n",
        "running_distance = running_distance + 2\n",
        "\n",
        "print(running_distance)"
      ],
      "execution_count": null,
      "outputs": [
        {
          "output_type": "stream",
          "name": "stdout",
          "text": [
            "12\n"
          ]
        }
      ]
    },
    {
      "cell_type": "markdown",
      "metadata": {
        "id": "E-ghNeyTthCX"
      },
      "source": [
        "**Plus Equals**"
      ]
    },
    {
      "cell_type": "markdown",
      "metadata": {
        "id": "ZTX6hGNItttX"
      },
      "source": [
        "\n",
        "Python offers a shorthand for updating variables. When you have a number saved in a variable and want to add to the current value of the variable, you can use the += (plus-equals) operator."
      ]
    },
    {
      "cell_type": "code",
      "metadata": {
        "id": "jaGWd3rStvgU",
        "colab": {
          "base_uri": "https://localhost:8080/"
        },
        "outputId": "61e75823-6903-43fc-9b23-f58956c4ba3f"
      },
      "source": [
        "running_distance = 10\n",
        "\n",
        "running_distance += 2\n",
        "\n",
        "print(running_distance)"
      ],
      "execution_count": null,
      "outputs": [
        {
          "output_type": "stream",
          "name": "stdout",
          "text": [
            "12\n"
          ]
        }
      ]
    },
    {
      "cell_type": "markdown",
      "metadata": {
        "id": "Jc0BKQwRuPlP"
      },
      "source": [
        "The plus-equals operator also can be used for string concatenation, like so:"
      ]
    },
    {
      "cell_type": "code",
      "metadata": {
        "id": "MNToHcfOuNRo",
        "colab": {
          "base_uri": "https://localhost:8080/"
        },
        "outputId": "80913667-6304-42f7-eb52-b90037642b0f"
      },
      "source": [
        "status = \"Learning Python at CoderSchool is fun!\"\n",
        "\n",
        "# Add the hashtags!\n",
        "status += \" #weekend\"\n",
        "status += \" #coding\"\n",
        "\n",
        "print(status)"
      ],
      "execution_count": null,
      "outputs": [
        {
          "output_type": "stream",
          "name": "stdout",
          "text": [
            "Learning Python at CoderSchool is fun! #weekend #coding\n"
          ]
        }
      ]
    },
    {
      "cell_type": "markdown",
      "metadata": {
        "id": "A__P3YAvuppW"
      },
      "source": [
        "**Mini Excercise** 🏃🏻‍♂️"
      ]
    },
    {
      "cell_type": "code",
      "metadata": {
        "id": "1cZKRnyyutWS",
        "colab": {
          "base_uri": "https://localhost:8080/"
        },
        "outputId": "0ac270c3-afca-4d32-f57f-2a0ccc9f798f"
      },
      "source": [
        "total_price = 0\n",
        "\n",
        "new_shoes = 50.00\n",
        "total_price += new_shoes\n",
        "\n",
        "nice_shirt = 39.00\n",
        "fun_book = 20.00\n",
        "\n",
        "# Update total_price here\n",
        "total_price\n",
        "\n",
        "print(\"The total price is\", total_price)"
      ],
      "execution_count": null,
      "outputs": [
        {
          "output_type": "stream",
          "name": "stdout",
          "text": [
            "The total price is 50.0\n"
          ]
        }
      ]
    },
    {
      "cell_type": "markdown",
      "metadata": {
        "id": "jAAhdRiWaNlf"
      },
      "source": [
        "## CALCULATIONS"
      ]
    },
    {
      "cell_type": "markdown",
      "metadata": {
        "id": "Bio_dTzQaRI6"
      },
      "source": [
        "Computers absolutely excel at performing calculations. The “compute” in their name comes from their historical association with providing answers to mathematical questions.\n",
        "\n",
        "Python performs addition, subtraction, multiplication, and division with +, -, *, and /. If you want more, here it is:\n",
        "\n",
        "| Operator     | Name           | Description                                            |\n",
        "|--------------|----------------|--------------------------------------------------------|\n",
        "| ``a + b``    | Addition       | Sum of ``a`` and ``b``                                 |\n",
        "| ``a - b``    | Subtraction    | Difference of ``a`` and ``b``                          |\n",
        "| ``a * b``    | Multiplication | Product of ``a`` and ``b``                             |\n",
        "| ``a / b``    | True division  | Quotient of ``a`` and ``b``                            |\n",
        "| ``a // b``   | Floor division | Quotient of ``a`` and ``b``, removing fractional parts |\n",
        "| ``a % b``    | Modulus        | Integer remainder after division of ``a`` by ``b``     |\n",
        "| ``a ** b``   | Exponentiation | ``a`` raised to the power of ``b``                     |\n",
        "| ``-a``       | Negation       | The negative of ``a``                                  |\n",
        "\n",
        "<span style=\"display:none\"></span>"
      ]
    },
    {
      "cell_type": "code",
      "metadata": {
        "id": "9LiFFqTFabbA",
        "colab": {
          "base_uri": "https://localhost:8080/"
        },
        "outputId": "224cfad5-7d81-4339-c6c0-03ee4d423856"
      },
      "source": [
        "# Prints \"501\"\n",
        "print(573 - 73 + 1)\n",
        "\n",
        "# Prints \"50\"\n",
        "print(25 * 2)\n",
        "\n",
        "# Prints \"2.0\"\n",
        "print(10 / 5)"
      ],
      "execution_count": null,
      "outputs": [
        {
          "output_type": "stream",
          "name": "stdout",
          "text": [
            "501\n",
            "50\n",
            "2.0\n"
          ]
        }
      ]
    },
    {
      "cell_type": "markdown",
      "metadata": {
        "id": "i56zJBumamu_"
      },
      "source": [
        "Notice that when we perform division, the result has a decimal place. This is because Python ***converts all integers to floats before performing division***. In older versions of Python (2.7 and earlier) this conversion did not happen, and integer division would always round down to the nearest integer."
      ]
    },
    {
      "cell_type": "markdown",
      "metadata": {
        "id": "CgLBhSPaa2Hi"
      },
      "source": [
        "Division can throw its own special error: `ZeroDivisionError`. Python will raise this error when attempting to divide by 0."
      ]
    },
    {
      "cell_type": "code",
      "metadata": {
        "id": "rHlfZQ1aa4hv",
        "colab": {
          "base_uri": "https://localhost:8080/",
          "height": 168
        },
        "outputId": "375d2205-8226-4b81-d156-f063250927d3"
      },
      "source": [
        "print(10 / 0)"
      ],
      "execution_count": null,
      "outputs": [
        {
          "output_type": "error",
          "ename": "ZeroDivisionError",
          "evalue": "ignored",
          "traceback": [
            "\u001b[0;31m---------------------------------------------------------------------------\u001b[0m",
            "\u001b[0;31mZeroDivisionError\u001b[0m                         Traceback (most recent call last)",
            "\u001b[0;32m<ipython-input-44-65966e0a195f>\u001b[0m in \u001b[0;36m<module>\u001b[0;34m()\u001b[0m\n\u001b[0;32m----> 1\u001b[0;31m \u001b[0mprint\u001b[0m\u001b[0;34m(\u001b[0m\u001b[0;36m10\u001b[0m \u001b[0;34m/\u001b[0m \u001b[0;36m0\u001b[0m\u001b[0;34m)\u001b[0m\u001b[0;34m\u001b[0m\u001b[0;34m\u001b[0m\u001b[0m\n\u001b[0m",
            "\u001b[0;31mZeroDivisionError\u001b[0m: division by zero"
          ]
        }
      ]
    },
    {
      "cell_type": "code",
      "metadata": {
        "id": "-OAeYslSUe0a"
      },
      "source": [
        "# Assign the value 5 to the variable named score\n",
        "score = 5"
      ],
      "execution_count": null,
      "outputs": []
    },
    {
      "cell_type": "code",
      "metadata": {
        "id": "TTn5XBDVUqf7",
        "colab": {
          "base_uri": "https://localhost:8080/"
        },
        "outputId": "b68dedb1-9ce1-4975-a541-6c8bf4428ba5"
      },
      "source": [
        "score += 1\n",
        "print(score)\n",
        "\n",
        "score -= 3\n",
        "print(score)\n",
        "\n",
        "score *= 8\n",
        "print(score)\n",
        "\n",
        "# Note the implicit type casting\n",
        "score /= 4\n",
        "print(score, type(score))"
      ],
      "execution_count": null,
      "outputs": [
        {
          "output_type": "stream",
          "name": "stdout",
          "text": [
            "6\n",
            "3\n",
            "24\n",
            "6.0 <class 'float'>\n"
          ]
        }
      ]
    },
    {
      "cell_type": "code",
      "metadata": {
        "id": "IvFxqyEUVL-R",
        "colab": {
          "base_uri": "https://localhost:8080/"
        },
        "outputId": "193e0711-5aa1-4868-9213-e6b824c56b5b"
      },
      "source": [
        "# Some other common operations between numbers\n",
        "\n",
        "# Power (**)\n",
        "print(2**3)\n",
        "\n",
        "# Floor division (//)\n",
        "print(15 // 2)\n",
        "\n",
        "# Modulo (%)\n",
        "print(15 % 2)\n",
        "\n",
        "# Absolute value (abs())\n",
        "print(abs(5 - 7))"
      ],
      "execution_count": null,
      "outputs": [
        {
          "output_type": "stream",
          "name": "stdout",
          "text": [
            "8\n",
            "7\n",
            "1\n",
            "2\n"
          ]
        }
      ]
    },
    {
      "cell_type": "markdown",
      "metadata": {
        "id": "IS3sg-Hu46p3"
      },
      "source": [
        "**Example**\n",
        "\n",
        "Given an integer number.\n",
        "*   Print **False** if that number is an **even number**\n",
        "*   Print **True** if that number is an **odd number**"
      ]
    },
    {
      "cell_type": "code",
      "source": [
        "x = 15\n",
        "print(x % 2 != 0)"
      ],
      "metadata": {
        "id": "yq4SnlFj5e9J",
        "colab": {
          "base_uri": "https://localhost:8080/"
        },
        "outputId": "8f70cb6c-a384-42f7-e726-6f407c4b3032"
      },
      "execution_count": null,
      "outputs": [
        {
          "output_type": "stream",
          "name": "stdout",
          "text": [
            "True\n"
          ]
        }
      ]
    },
    {
      "cell_type": "markdown",
      "metadata": {
        "id": "g2CspOC56NTJ"
      },
      "source": [
        "**Mini Exercise** 🏃🏻‍♂️\n",
        "\n",
        "Given 10 cards and you need to divide to 4 players. Let's print the number of cards remained.\n",
        "\n",
        "\n",
        "\n"
      ]
    },
    {
      "cell_type": "code",
      "source": [
        "no_cards = 10\n",
        "no_players = 4\n",
        "\n",
        "# YOUR CODE HERE\n",
        "print(\"Cards remained: \")"
      ],
      "metadata": {
        "id": "ElIMjQZ76NTK",
        "colab": {
          "base_uri": "https://localhost:8080/"
        },
        "outputId": "26e1aaf7-9df7-4668-d936-f324a539e18f"
      },
      "execution_count": null,
      "outputs": [
        {
          "output_type": "stream",
          "name": "stdout",
          "text": [
            "Cards remained: \n"
          ]
        }
      ]
    },
    {
      "cell_type": "markdown",
      "metadata": {
        "id": "pZWjaZG3VepM"
      },
      "source": [
        "🔥 **CHALLENGE**\n",
        "\n",
        "Given a three-digit number. Find the sum of its digits.\n",
        "\n",
        "============\n",
        "\n",
        "Example input\n",
        "\n",
        "**123**\n",
        "\n",
        "============\n",
        "\n",
        "Example output\n",
        "\n",
        "**6**"
      ]
    },
    {
      "cell_type": "code",
      "metadata": {
        "id": "l_zvn8v6VYGK"
      },
      "source": [
        "# YOUR CODE HERE"
      ],
      "execution_count": null,
      "outputs": []
    },
    {
      "cell_type": "markdown",
      "metadata": {
        "id": "E_jDvSv7gmHE"
      },
      "source": [
        "## 3. INPUT-OUTPUT"
      ]
    },
    {
      "cell_type": "markdown",
      "source": [
        "# New Section"
      ],
      "metadata": {
        "id": "DN5wGopn3raA"
      }
    },
    {
      "cell_type": "markdown",
      "metadata": {
        "id": "fFrl09tCnI5y"
      },
      "source": [
        "###Print"
      ]
    },
    {
      "cell_type": "code",
      "metadata": {
        "id": "Ejjtb0_pgp_p",
        "colab": {
          "base_uri": "https://localhost:8080/"
        },
        "outputId": "d6931029-210c-4b37-961a-ab8e1d1ad15b"
      },
      "source": [
        "a = 1\n",
        "b = \"Hello world!\"\n",
        "\n",
        "print(a)\n",
        "print(b)"
      ],
      "execution_count": null,
      "outputs": [
        {
          "output_type": "stream",
          "name": "stdout",
          "text": [
            "1\n",
            "Hello world!\n"
          ]
        }
      ]
    },
    {
      "cell_type": "code",
      "metadata": {
        "id": "NJBkoJ5Ug6S1",
        "colab": {
          "base_uri": "https://localhost:8080/"
        },
        "outputId": "b932995a-6441-4849-ce8d-2b78b68af424"
      },
      "source": [
        "number_of_students = 30\n",
        "place = \"my class\"\n",
        "\n",
        "# Option 1\n",
        "print(\"There are\", number_of_students, \"students in\", place)\n",
        "\n",
        "# Option 2\n",
        "print(f\"There are {number_of_students} students in {place}\")"
      ],
      "execution_count": null,
      "outputs": [
        {
          "output_type": "stream",
          "name": "stdout",
          "text": [
            "There are 30 students in my class\n",
            "There are 30 students in my class\n"
          ]
        }
      ]
    },
    {
      "cell_type": "markdown",
      "source": [
        "We can use formatted string to control the number of floating digits"
      ],
      "metadata": {
        "id": "4KuhsjQhBDCQ"
      }
    },
    {
      "cell_type": "code",
      "metadata": {
        "id": "a20hoNsWhOIL",
        "colab": {
          "base_uri": "https://localhost:8080/"
        },
        "outputId": "e3ce120c-75df-47c9-8c3b-b05c79cd954d"
      },
      "source": [
        "pi = 3.1415926535897\n",
        "\n",
        "print(f\"The result is {pi:.3f}\")"
      ],
      "execution_count": null,
      "outputs": [
        {
          "output_type": "stream",
          "name": "stdout",
          "text": [
            "The result is 3.142\n"
          ]
        }
      ]
    },
    {
      "cell_type": "markdown",
      "metadata": {
        "id": "HHxSvU6unLz9"
      },
      "source": [
        "###Input"
      ]
    },
    {
      "cell_type": "markdown",
      "metadata": {
        "id": "NzcnZMUj-eL9"
      },
      "source": [
        "So far, we’ve covered how to assign variables values directly in a Python file. However, we often want a user of a program to enter new information into the program.\n",
        "\n",
        "While we output a variable’s value using `print()`, we assign information to a variable using `input()`. The `input()` function requires a prompt message, which it will print out for the user before they enter the new information. For example:"
      ]
    },
    {
      "cell_type": "code",
      "source": [
        "name = input(\"What's your name? \")  # input() by default returns a string\n",
        "print(name, type(name))\n",
        "\n",
        "age = int(input(\"How old are you? \"))  # Convert an input string into integer\n",
        "print(age, type(age))"
      ],
      "metadata": {
        "id": "u9UHkWmfs12t"
      },
      "execution_count": null,
      "outputs": []
    },
    {
      "cell_type": "markdown",
      "metadata": {
        "id": "aA6N2YWTTlyQ"
      },
      "source": [
        "🔥 ***CHALLENGE:*** Write a program that takes three integer numbers separately and print their sum in the format: \"The sum of three numbers is ___\""
      ]
    },
    {
      "cell_type": "code",
      "metadata": {
        "id": "HNRkyj5anV5K"
      },
      "source": [
        "# YOUR CODE HERE"
      ],
      "execution_count": null,
      "outputs": []
    }
  ]
}