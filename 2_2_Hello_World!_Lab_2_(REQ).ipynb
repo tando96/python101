{
  "nbformat": 4,
  "nbformat_minor": 0,
  "metadata": {
    "colab": {
      "provenance": [],
      "collapsed_sections": [
        "2_rUL4p0Ttu8",
        "HjFQVdINT4tz",
        "xhoZ9qiyT-Wt",
        "GJ_toOuiUEPi",
        "M8ON9AwLUT4W",
        "MVfTd-JBSwul"
      ],
      "include_colab_link": true
    },
    "kernelspec": {
      "name": "python3",
      "display_name": "Python 3"
    }
  },
  "cells": [
    {
      "cell_type": "markdown",
      "metadata": {
        "id": "view-in-github",
        "colab_type": "text"
      },
      "source": [
        "<a href=\"https://colab.research.google.com/github/tando96/python101/blob/main/2_2_Hello_World!_Lab_2_(REQ).ipynb\" target=\"_parent\"><img src=\"https://colab.research.google.com/assets/colab-badge.svg\" alt=\"Open In Colab\"/></a>"
      ]
    },
    {
      "cell_type": "markdown",
      "source": [
        "If you don't remember the first step, please click [here](https://learn.coderschool.vn/path-player?courseid=dv-m11-basic-python&unit=dv-m11-basic-python_624537766805eUnit) to review the Lab Guide"
      ],
      "metadata": {
        "id": "dN_XdK7VEiC3"
      }
    },
    {
      "cell_type": "markdown",
      "metadata": {
        "id": "MeIykz6CP75q"
      },
      "source": [
        "# **Hello World Lab 2**\n",
        "\n",
        "> ***NOTE:*** Some exercises below may be collected from an interview with big tech companies, like FAANG (Facebook, Amazon, Apple, Netflix, Google) and others like Microsoft, etc. Be sure to have a try!\n",
        "\n",
        "![](https://mksaad.files.wordpress.com/2019/03/introduction-to-python_watermarked.48eeee4e1109.jpg)"
      ]
    },
    {
      "cell_type": "markdown",
      "metadata": {
        "id": "2_rUL4p0Ttu8"
      },
      "source": [
        "### Print last two digits"
      ]
    },
    {
      "cell_type": "markdown",
      "source": [
        "Given an integer greater than 9, print its last two digits.\n",
        "\n",
        "*Example:*\n",
        "```python\n",
        ">>> 1234 # input\n",
        "34 # output\n",
        "```\n"
      ],
      "metadata": {
        "id": "jCenuiB54vVW"
      }
    },
    {
      "cell_type": "code",
      "metadata": {
        "id": "XJYJYUZ4T4FY",
        "outputId": "59bc2c05-d36b-4645-908e-c4e063698a8c",
        "colab": {
          "base_uri": "https://localhost:8080/"
        }
      },
      "source": [
        "# YOUR CODE HERE\n",
        "\n",
        "num = input(\"Input your number: \")\n",
        "\n",
        "print(\"Your number: \", num)\n",
        " # Because the input number is String therefore I will find the last 2 letters in String\n",
        " # and convert it to Integer\n",
        "two_digits = int(str(num)[-2:])\n",
        "print(two_digits)\n"
      ],
      "execution_count": 23,
      "outputs": [
        {
          "output_type": "stream",
          "name": "stdout",
          "text": [
            "Input your number: 123\n",
            "Your number:  123\n",
            "23\n"
          ]
        }
      ]
    },
    {
      "cell_type": "markdown",
      "metadata": {
        "id": "HjFQVdINT4tz"
      },
      "source": [
        "### Print tens"
      ]
    },
    {
      "cell_type": "markdown",
      "source": [
        "Given an integer, print its tens digit.\n",
        "\n",
        "*Example:*\n",
        "```python\n",
        ">>> 1234 # input\n",
        "3 # output\n",
        "```"
      ],
      "metadata": {
        "id": "Kn7eqc7L4x-X"
      }
    },
    {
      "cell_type": "code",
      "metadata": {
        "id": "D_7Gn4G5T96e",
        "outputId": "e1ce23a1-63df-431e-f876-c1e90085342b",
        "colab": {
          "base_uri": "https://localhost:8080/"
        }
      },
      "source": [
        "# YOUR CODE HERE\n",
        "number = input(\"Enter your number: \")\n",
        "\n",
        "print(\"Your number is: \", number)\n",
        "# same like find two last digits, I just use floor division to 10\n",
        "tens_digit = (int(str(number)[-2:])) // 10\n",
        "print(tens_digit)"
      ],
      "execution_count": 18,
      "outputs": [
        {
          "output_type": "stream",
          "name": "stdout",
          "text": [
            "Enter your number: 159\n",
            "Your number is:  159\n",
            "5\n"
          ]
        }
      ]
    },
    {
      "cell_type": "markdown",
      "metadata": {
        "id": "xhoZ9qiyT-Wt"
      },
      "source": [
        "### Sum of three digits"
      ]
    },
    {
      "cell_type": "markdown",
      "source": [
        "Given a three-digit number. Find the sum of its digits.\n",
        "\n",
        "*Example:*\n",
        "```python\n",
        ">>> 123 # input\n",
        "6 # output\n",
        "```"
      ],
      "metadata": {
        "id": "SiVW9SBZ40du"
      }
    },
    {
      "cell_type": "code",
      "metadata": {
        "id": "2GVGFpunUDpQ",
        "outputId": "3d065f9b-2753-4ba1-ec5f-229c103a4512",
        "colab": {
          "base_uri": "https://localhost:8080/"
        }
      },
      "source": [
        "# YOUR CODE HERE\n",
        "\n",
        "# I convert the input number from String to Integer type\n",
        "xyz = int(input(\"Enter your input: \"))\n",
        "\n",
        "x = xyz // 100\n",
        "y = (xyz - x*100) // 10\n",
        "z = xyz % 10\n",
        "\n",
        "print (x+y+z)\n"
      ],
      "execution_count": 21,
      "outputs": [
        {
          "output_type": "stream",
          "name": "stdout",
          "text": [
            "Enter your input: 159\n",
            "15\n"
          ]
        }
      ]
    },
    {
      "cell_type": "markdown",
      "metadata": {
        "id": "GJ_toOuiUEPi"
      },
      "source": [
        "### Print tenth"
      ]
    },
    {
      "cell_type": "markdown",
      "source": [
        "Given a positive float number, print its first digit to the right of the decimal point (the tenth digit).\n",
        "\n",
        "*Example:*\n",
        "```python\n",
        ">>> 1.79 # input\n",
        "7 # output\n",
        "```\n"
      ],
      "metadata": {
        "id": "MxAv0EjV420A"
      }
    },
    {
      "cell_type": "code",
      "metadata": {
        "id": "G7M9o-ShUJZt",
        "outputId": "d1089a1c-a0d2-4fd6-8f27-dfa46443d95c",
        "colab": {
          "base_uri": "https://localhost:8080/"
        }
      },
      "source": [
        "# YOUR CODE HERE\n",
        "float_number = float(input(\"Please input your float number: \"))\n",
        "\n",
        "tenth_digit = int(float_number * 10) % 10\n",
        "\n",
        "print(tenth_digit)"
      ],
      "execution_count": 30,
      "outputs": [
        {
          "output_type": "stream",
          "name": "stdout",
          "text": [
            "Please input your float number: 12.1\n",
            "1\n"
          ]
        }
      ]
    },
    {
      "cell_type": "markdown",
      "metadata": {
        "id": "M8ON9AwLUT4W"
      },
      "source": [
        "### Find century of year"
      ]
    },
    {
      "cell_type": "markdown",
      "source": [
        "Given a year (as a positive integer), find out which century is the year in. For example, if we receive 2000, the program should print out 20 since the year 2000 is in the 20th century.\n",
        "\n",
        "*Example:*\n",
        "```python\n",
        ">>> 2000 # input\n",
        "20 # output\n",
        "```"
      ],
      "metadata": {
        "id": "LlYcYt6U45Cc"
      }
    },
    {
      "cell_type": "code",
      "metadata": {
        "id": "7iNfOwt6UZFe",
        "outputId": "12526fb2-7878-4577-9c30-6fef06385743",
        "colab": {
          "base_uri": "https://localhost:8080/"
        }
      },
      "source": [
        "# YOUR CODE HERE\n",
        "\n",
        "years = int(input(\"Enter the year: \"))\n",
        "\n",
        "results = years // 100\n",
        "\n",
        "print(f\"The {results}th century\")\n"
      ],
      "execution_count": 35,
      "outputs": [
        {
          "output_type": "stream",
          "name": "stdout",
          "text": [
            "Enter the year: 2\n",
            "The 0th century\n"
          ]
        }
      ]
    },
    {
      "cell_type": "markdown",
      "metadata": {
        "id": "MVfTd-JBSwul"
      },
      "source": [
        "### Time past midnight"
      ]
    },
    {
      "cell_type": "markdown",
      "source": [
        "Given the integer N - the number of seconds that have passed since midnight. How many full hours and full minutes have passed since midnight?\n",
        "\n",
        "The program should print two numbers: the number of hours (between 0 and 23) and the number of minutes (between 0 and 1439). Both outputs should be in one line\n",
        "\n",
        "*Example:*\\\n",
        "If N = 3900, then 3900 seconds have passed since midnight - i.e. now it's 1:05am. So the program should print 1 65 - 1 full hour is passed since midnight while 65 full minutes have passed since midnight.  \n",
        "\n",
        "```python\n",
        ">>> 3900  # input N\n",
        "1 65 # output hours passed and minutes passed\n",
        "```"
      ],
      "metadata": {
        "id": "gc-L9naI47xM"
      }
    },
    {
      "cell_type": "code",
      "metadata": {
        "id": "kwYQXQOQS7fL",
        "outputId": "aa2bb60f-7b15-4a2e-f4bc-7187e45c50ad",
        "colab": {
          "base_uri": "https://localhost:8080/"
        }
      },
      "source": [
        "# YOUR CODE HERE\n",
        "N = int(input(\"Enter the number of seconds: \"))\n",
        "\n",
        "minutes = N // 60\n",
        "\n",
        "hours = minutes // 60\n",
        "\n",
        "print(hours, minutes)"
      ],
      "execution_count": 40,
      "outputs": [
        {
          "output_type": "stream",
          "name": "stdout",
          "text": [
            "Enter the number of seconds: 3900\n",
            "1 65\n"
          ]
        }
      ]
    }
  ]
}