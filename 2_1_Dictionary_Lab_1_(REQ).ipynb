{
  "nbformat": 4,
  "nbformat_minor": 0,
  "metadata": {
    "colab": {
      "provenance": [],
      "include_colab_link": true
    },
    "kernelspec": {
      "name": "python3",
      "display_name": "Python 3"
    }
  },
  "cells": [
    {
      "cell_type": "markdown",
      "metadata": {
        "id": "view-in-github",
        "colab_type": "text"
      },
      "source": [
        "<a href=\"https://colab.research.google.com/github/tando96/python101/blob/main/2_1_Dictionary_Lab_1_(REQ).ipynb\" target=\"_parent\"><img src=\"https://colab.research.google.com/assets/colab-badge.svg\" alt=\"Open In Colab\"/></a>"
      ]
    },
    {
      "cell_type": "markdown",
      "metadata": {
        "id": "zOC9UNC3g71V"
      },
      "source": [
        "![](https://i.imgur.com/0AUxkXt.png)"
      ]
    },
    {
      "cell_type": "markdown",
      "source": [
        "If you don't remember the first step, please click [here](https://learn.coderschool.vn/path-player?courseid=dv-m11-basic-python&unit=dv-m11-basic-python_624537766805eUnit) to review the Lab Guide"
      ],
      "metadata": {
        "id": "dN_XdK7VEiC3"
      }
    },
    {
      "cell_type": "markdown",
      "metadata": {
        "id": "mg1B_Nm2RnCs"
      },
      "source": [
        "\n",
        "![](https://files.realpython.com/media/Dictionaries-in-Python_Watermarked.a5df426cbb09.jpeg)\n"
      ]
    },
    {
      "cell_type": "markdown",
      "source": [
        "# **DICTIONARY LAB 1**\n",
        "\n",
        "> ***NOTE: Some exercises below may be collected from an interview with big tech companies, like FAANG (Facebook, Amazon, Apple, Netflix, Google) and others like Microsoft, etc. Be sure to have a try!***"
      ],
      "metadata": {
        "id": "a5aOO52R2wRN"
      }
    },
    {
      "cell_type": "markdown",
      "metadata": {
        "id": "PFja5gKkqqBq"
      },
      "source": [
        "### Check key\n",
        "\n"
      ]
    },
    {
      "cell_type": "markdown",
      "source": [
        "Write a function `check_key(my_dict, my_val)` to check whether a given value `my_val` is a key in our dictionary (`my_dict`). Your function should return `True` if it is, and `False` otherwise.\n",
        "\n",
        "*Example:*\n",
        "```python\n",
        ">>> my_dict = {1:1, 2:4, 3:9, 4:16}\n",
        ">>> print(check_key(my_dict, 3))\n",
        "True\n",
        "\n",
        ">>> my_dict = {'a':'A', 'b':'B', 'c':'C'}\n",
        ">>> print(check_key(my_dict, 'd'))\n",
        "False\n",
        "```"
      ],
      "metadata": {
        "id": "YI2sxphw_ulT"
      }
    },
    {
      "cell_type": "code",
      "metadata": {
        "id": "D_xUw-kqqqB1",
        "outputId": "5d1df8f0-38ca-416a-f1f7-e7b2a34f0950",
        "colab": {
          "base_uri": "https://localhost:8080/"
        }
      },
      "source": [
        "# YOUR CODE HERE\n",
        "\n",
        "my_dict = {1:1, 2:4, 3:9, 4:16}\n",
        "\n",
        "def check_key(my_dict , my_val):\n",
        "  if my_val in my_dict:\n",
        "    return True\n",
        "  else:\n",
        "    return False\n",
        "\n",
        "print(check_key(my_dict, 3));"
      ],
      "execution_count": 1,
      "outputs": [
        {
          "output_type": "stream",
          "name": "stdout",
          "text": [
            "True\n"
          ]
        }
      ]
    },
    {
      "cell_type": "code",
      "source": [],
      "metadata": {
        "id": "3PAGMWXXJqaZ"
      },
      "execution_count": null,
      "outputs": []
    },
    {
      "cell_type": "markdown",
      "metadata": {
        "id": "sUkDSe2CqqB3"
      },
      "source": [
        "### Combine dictionaries\n",
        "\n"
      ]
    },
    {
      "cell_type": "markdown",
      "source": [
        "Write a function `combine_dict(dict_1, dict_2)` to combine 2 different dictionaries into a single dictionary and return the combined dictionary. Assume both dictionaries have no keys in common.\n",
        "\n",
        "*Example:*\n",
        "```python\n",
        ">>> dict_1 = {1:1, 2:4}\n",
        ">>> dict_2 = {3:9, 4:16}\n",
        ">>> print(combine_dict(dict_1, dict_2))\n",
        "{1: 1, 2: 4, 3: 9, 4: 16}\n",
        "\n",
        ">>> dict_1 = {'a':'A', 'b':'B'}\n",
        ">>> dict_2 = {'c':'C', 'd':'D'}\n",
        ">>> print(combine_dict(dict_1, dict_2))\n",
        "{'a': 'A', 'b': 'B', 'c': 'C', 'd': 'D'}\n",
        "```"
      ],
      "metadata": {
        "id": "wU5yxE2n_wWK"
      }
    },
    {
      "cell_type": "code",
      "metadata": {
        "id": "O6fC3J0IqqB4",
        "outputId": "1bef1bc0-541c-439a-a434-9fe94121b8d2",
        "colab": {
          "base_uri": "https://localhost:8080/"
        }
      },
      "source": [
        "# YOUR CODE HERE\n",
        "\n",
        "dict_1 = {1:1, 2:4}\n",
        "dict_2 = {3:9, 4:16}\n",
        "\n",
        "def combine_dict(dict_1, dict_2):\n",
        "  temp = {}\n",
        "  temp.update(dict_1)\n",
        "  temp.update(dict_2)\n",
        "  return temp\n",
        "\n",
        "print(combine_dict(dict_1, dict_2))"
      ],
      "execution_count": 2,
      "outputs": [
        {
          "output_type": "stream",
          "name": "stdout",
          "text": [
            "{1: 1, 2: 4, 3: 9, 4: 16}\n"
          ]
        }
      ]
    },
    {
      "cell_type": "markdown",
      "metadata": {
        "id": "t73XQxz6qqB7"
      },
      "source": [
        "### Dictionary of squares\n",
        "\n"
      ]
    },
    {
      "cell_type": "markdown",
      "source": [
        "Write a function `squares_dict(n)` to create a dictionary with `1,2,...,n` as keys and `1**2, 2**2,..., n**2` as values.\n",
        "\n",
        "*Example:*\n",
        "```python\n",
        ">>> print(squares_dict(4))\n",
        "{1:1, 2:4, 3:9, 4:16}\n",
        "\n",
        ">>> print(squares_dict(8))\n",
        "{1:1, 2:4, 3:9, 4:16, 5:25, 6:36, 7:49, 8:64}\n",
        "```"
      ],
      "metadata": {
        "id": "ejYYgEbA_x41"
      }
    },
    {
      "cell_type": "code",
      "metadata": {
        "id": "ISyEkqC-qqB7",
        "outputId": "d9c3fc06-9d36-4d90-bc0e-b15a7596c986",
        "colab": {
          "base_uri": "https://localhost:8080/"
        }
      },
      "source": [
        "# YOUR CODE HERE\n",
        "def squares_dict(n):\n",
        "  temp = {}\n",
        "  for i in range(1, n+1):\n",
        "    temp[i] = i**2\n",
        "  return temp\n",
        "\n",
        "print(squares_dict(8))"
      ],
      "execution_count": 3,
      "outputs": [
        {
          "output_type": "stream",
          "name": "stdout",
          "text": [
            "{1: 1, 2: 4, 3: 9, 4: 16, 5: 25, 6: 36, 7: 49, 8: 64}\n"
          ]
        }
      ]
    },
    {
      "cell_type": "code",
      "source": [],
      "metadata": {
        "id": "oyg8UtuLKhe5"
      },
      "execution_count": null,
      "outputs": []
    },
    {
      "cell_type": "markdown",
      "metadata": {
        "id": "s58yaisBqqB8"
      },
      "source": [
        "### Two lists and one dictionary\n",
        "\n"
      ]
    },
    {
      "cell_type": "markdown",
      "source": [
        "Write a function `two_lists_to_dict(list_1, list_2)` to create a dictionary with values in `list_1` as dictionary keys and values in `list_2` as dictionary values. Assume that `list_1` and `list_2` have the same length.\n",
        "\n",
        "*Example:*\n",
        "```python\n",
        ">>> list_1 = [1,2,3,4]\n",
        ">>> list_2 = [1,4,9,16]\n",
        ">>> print(two_lists_to_dict(list_1, list_2))\n",
        "{1: 1, 2: 4, 3: 9, 4: 16}\n",
        "\n",
        ">>> list_1 = ['a','b','c','d']\n",
        ">>> list_2 = ['A','B','C','D']\n",
        ">>> print(two_lists_to_dict(list_1, list_2))\n",
        "{'a': 'A', 'b': 'B', 'c': 'C', 'd': 'D'}\n",
        "```"
      ],
      "metadata": {
        "id": "mLYxpvEk_zlt"
      }
    },
    {
      "cell_type": "code",
      "metadata": {
        "id": "XTqVs3JRqqB8",
        "outputId": "90f61e34-7d68-4835-ef2b-6048da64d658",
        "colab": {
          "base_uri": "https://localhost:8080/"
        }
      },
      "source": [
        "# YOUR CODE HERE\n",
        "list_1 = [1,2,3,4]\n",
        "list_2 =[1,4,9,16]\n",
        "\n",
        "def two_lists_to_dict(list_1, list_2):\n",
        "  temp = {}\n",
        "  for i in range(len(list_1)):\n",
        "    key = list_1[i]\n",
        "    value = list_2[i]\n",
        "    temp[key] = value\n",
        "  return temp\n",
        "\n",
        "print(two_lists_to_dict(list_1,list_2))"
      ],
      "execution_count": 4,
      "outputs": [
        {
          "output_type": "stream",
          "name": "stdout",
          "text": [
            "{1: 1, 2: 4, 3: 9, 4: 16}\n"
          ]
        }
      ]
    },
    {
      "cell_type": "markdown",
      "metadata": {
        "id": "Cjb7Xd-fqqB9"
      },
      "source": [
        "### Max of dictionary\n",
        "\n"
      ]
    },
    {
      "cell_type": "markdown",
      "source": [
        "Write a function `max_key(my_dict)` that takes a dictionary `my_dict` and returns the *key* that has the maximum *value*. Assume that all values are distinct, and are of the same type.\n",
        "\n",
        "*Example:*\n",
        "```python\n",
        ">>> my_dict = {1:1, 2:4, 3:9, 4:16, 5:25}\n",
        ">>> print(max_key(my_dict))\n",
        "5\n",
        "\n",
        ">>> my_dict = {'a':'A', 'b':'B', 'c':'C', 'd': 'D'}\n",
        ">>> print(max_key(my_dict))\n",
        "'d'\n",
        "\n",
        ">>> my_dict = {'Betty': 3.2, 'Chris': 7.31, 'Adam': 2.58, 'Elise': 4.90, 'David': 5.76}\n",
        ">>> print(max_key(my_dict))\n",
        "'Chris'\n",
        "```"
      ],
      "metadata": {
        "id": "r4mhUElm_1Xx"
      }
    },
    {
      "cell_type": "code",
      "metadata": {
        "id": "8bIvBfz2qqB9"
      },
      "source": [
        "# YOUR CODE HERE"
      ],
      "execution_count": null,
      "outputs": []
    },
    {
      "cell_type": "markdown",
      "source": [
        "### Key removal"
      ],
      "metadata": {
        "id": "HumX5igMS2QF"
      }
    },
    {
      "cell_type": "markdown",
      "source": [
        "Remove a key from a dictionary.\n",
        "\n",
        "*Example:*\n",
        "```python\n",
        ">>> my_dict = {'a': 1, 'b': 2, 'c': 3, 'd': 4}\n",
        ">>> remove_key(my_dict,'a')\n",
        ">>> print(my_dict)\n",
        "{'b': 2, 'c': 3, 'd': 4}\n",
        "```"
      ],
      "metadata": {
        "id": "LaCTuWv7_8kR"
      }
    },
    {
      "cell_type": "code",
      "source": [
        "# YOUR CODE HERE"
      ],
      "metadata": {
        "id": "2FwdCtR4nMYn"
      },
      "execution_count": null,
      "outputs": []
    },
    {
      "cell_type": "markdown",
      "source": [
        "### Value sum\n",
        "\n"
      ],
      "metadata": {
        "id": "60xDd7_ck-W-"
      }
    },
    {
      "cell_type": "markdown",
      "source": [
        "Sum all the values in a dictionary.\n",
        "\n",
        "*Example:*\n",
        "```python\n",
        ">>> my_dict = {'data1': 100, 'data2': -54, 'data3': 247}\n",
        ">>> sum_dict_values(my_dict)\n",
        "293\n",
        "```"
      ],
      "metadata": {
        "id": "N9OnAMDgABIF"
      }
    },
    {
      "cell_type": "code",
      "source": [
        "# YOUR CODE HERE"
      ],
      "metadata": {
        "id": "fFNFPVfERY9q"
      },
      "execution_count": null,
      "outputs": []
    },
    {
      "cell_type": "markdown",
      "source": [
        "### Sort by value\n",
        "\n"
      ],
      "metadata": {
        "id": "gwclyLWoj4Jy"
      }
    },
    {
      "cell_type": "markdown",
      "source": [
        "Sort (ascending and descending) a dictionary by value.\n",
        "\n",
        "*Example:*\n",
        "```python\n",
        ">>> my_dict={1: 2, 3: 4, 4: 3, 2: 1, 0: 0}\n",
        "\n",
        ">>> Original dictionary :  {1: 2, 3: 4, 4: 3, 2: 1, 0: 0}\n",
        "    Dictionary in ascending order by value :  [(0, 0), (2, 1), (1, 2), (4, 3), (3, 4)]\n",
        "    Dictionary in descending order by value :  {3: 4, 4: 3, 1: 2, 2: 1, 0: 0}\n",
        "```"
      ],
      "metadata": {
        "id": "fHOZlXSkAG2y"
      }
    },
    {
      "cell_type": "code",
      "source": [
        "# YOUR CODE HERE"
      ],
      "metadata": {
        "id": "kUNrFRedj3Y-"
      },
      "execution_count": null,
      "outputs": []
    }
  ]
}